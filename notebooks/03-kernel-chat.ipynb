{
 "cells": [
  {
   "attachments": {},
   "cell_type": "markdown",
   "metadata": {},
   "source": [
    "# Creating a basic chat experience with kernel arguments\n",
    "\n",
    "In this chat scenario, as the user talks back and forth with the bot, the arguments get populated with the history of the conversation. During each new run of the kernel, the arguments will be provided to the AI with content. "
   ]
  },
  {
   "cell_type": "code",
   "execution_count": 18,
   "metadata": {
    "dotnet_interactive": {
     "language": "csharp"
    },
    "polyglot_notebook": {
     "kernelName": "csharp"
    },
    "vscode": {
     "languageId": "polyglot-notebook"
    }
   },
   "outputs": [
    {
     "data": {
      "text/html": [
       "<div><div></div><div></div><div><strong>Installed Packages</strong><ul><li><span>Microsoft.SemanticKernel, 1.1.0</span></li></ul></div></div>"
      ]
     },
     "metadata": {},
     "output_type": "display_data"
    }
   ],
   "source": [
    "#r \"nuget: Microsoft.SemanticKernel, 1.1.0\"\n",
    "#!import config/Settings.cs\n",
    "#!import config/Utils.cs\n",
    "\n",
    "using Microsoft.SemanticKernel;\n",
    "using Microsoft.SemanticKernel.Connectors.OpenAI;\n",
    "using Kernel = Microsoft.SemanticKernel.Kernel;\n",
    "\n",
    "var builder = Kernel.CreateBuilder();\n",
    "\n",
    "// Configure AI service credentials used by the kernel\n",
    "var (useAzureOpenAI, model, azureEndpoint, apiKey, orgId) = Settings.LoadFromFile();\n",
    "\n",
    "if (useAzureOpenAI)\n",
    "    builder.AddAzureOpenAIChatCompletion(model, azureEndpoint, apiKey);\n",
    "else\n",
    "    builder.AddOpenAIChatCompletion(model, apiKey, orgId);\n",
    "\n",
    "var kernel = builder.Build();"
   ]
  },
  {
   "attachments": {},
   "cell_type": "markdown",
   "metadata": {},
   "source": [
    "Let's define the prompt."
   ]
  },
  {
   "cell_type": "code",
   "execution_count": 19,
   "metadata": {
    "dotnet_interactive": {
     "language": "csharp"
    },
    "polyglot_notebook": {
     "kernelName": "csharp"
    },
    "vscode": {
     "languageId": "polyglot-notebook"
    }
   },
   "outputs": [],
   "source": [
    "const string skPrompt = @\"\n",
    "ChatBot can have a conversation with you about any topic.\n",
    "It can give explicit instructions or say 'I don't know' if it does not have an answer.\n",
    "\n",
    "{{$history}}\n",
    "User: {{$userInput}}\n",
    "ChatBot:\";\n",
    "\n",
    "var executionSettings = new OpenAIPromptExecutionSettings \n",
    "{\n",
    "    MaxTokens = 2000,\n",
    "    Temperature = 0.7,\n",
    "    TopP = 0.5\n",
    "};"
   ]
  },
  {
   "attachments": {},
   "cell_type": "markdown",
   "metadata": {},
   "source": [
    "Register your semantic function"
   ]
  },
  {
   "cell_type": "code",
   "execution_count": 20,
   "metadata": {
    "dotnet_interactive": {
     "language": "csharp"
    },
    "polyglot_notebook": {
     "kernelName": "csharp"
    },
    "vscode": {
     "languageId": "polyglot-notebook"
    }
   },
   "outputs": [],
   "source": [
    "var chatFunction = kernel.CreateFunctionFromPrompt(skPrompt, executionSettings);"
   ]
  },
  {
   "attachments": {},
   "cell_type": "markdown",
   "metadata": {},
   "source": [
    "Initialize your arguments"
   ]
  },
  {
   "cell_type": "code",
   "execution_count": 21,
   "metadata": {
    "dotnet_interactive": {
     "language": "csharp"
    },
    "polyglot_notebook": {
     "kernelName": "csharp"
    },
    "vscode": {
     "languageId": "polyglot-notebook"
    }
   },
   "outputs": [],
   "source": [
    "var history = \"\";\n",
    "var arguments = new KernelArguments()\n",
    "{\n",
    "    [\"history\"] = history\n",
    "};"
   ]
  },
  {
   "attachments": {},
   "cell_type": "markdown",
   "metadata": {},
   "source": [
    "Chat with the Bot"
   ]
  },
  {
   "cell_type": "code",
   "execution_count": 25,
   "metadata": {
    "dotnet_interactive": {
     "language": "csharp"
    },
    "polyglot_notebook": {
     "kernelName": "csharp"
    },
    "vscode": {
     "languageId": "polyglot-notebook"
    }
   },
   "outputs": [],
   "source": [
    "var userInput = \"Hi, I'm looking for cocktail suggestions\";\n",
    "arguments[\"userInput\"] = userInput;\n",
    "\n",
    "var bot_answer = await chatFunction.InvokeAsync(kernel, arguments);"
   ]
  },
  {
   "attachments": {},
   "cell_type": "markdown",
   "metadata": {},
   "source": [
    "Update the history with the output and set this as the new input value for the next request"
   ]
  },
  {
   "cell_type": "code",
   "execution_count": 26,
   "metadata": {
    "dotnet_interactive": {
     "language": "csharp"
    },
    "polyglot_notebook": {
     "kernelName": "csharp"
    },
    "vscode": {
     "languageId": "polyglot-notebook"
    }
   },
   "outputs": [
    {
     "name": "stdout",
     "output_type": "stream",
     "text": [
      "\n",
      "User: Hi, I'm looking for cocktail suggestions\n",
      "AI: Sure! What type of cocktail are you in the mood for?\n",
      "\n",
      "User: Hi, I'm looking for cocktail suggestions\n",
      "AI: Sure! What type of cocktail are you in the mood for?\n",
      "\n",
      "User: Hi, I'm looking for cocktail suggestions\n",
      "AI: Sure! What type of cocktail are you in the mood for?\n",
      "\n"
     ]
    }
   ],
   "source": [
    "history += $\"\\nUser: {userInput}\\nAI: {bot_answer}\\n\";\n",
    "arguments[\"history\"] = history;\n",
    "\n",
    "Console.WriteLine(history);"
   ]
  },
  {
   "attachments": {},
   "cell_type": "markdown",
   "metadata": {},
   "source": [
    "Keep Chatting!"
   ]
  },
  {
   "cell_type": "code",
   "execution_count": 27,
   "metadata": {
    "dotnet_interactive": {
     "language": "csharp"
    },
    "polyglot_notebook": {
     "kernelName": "csharp"
    },
    "vscode": {
     "languageId": "polyglot-notebook"
    }
   },
   "outputs": [],
   "source": [
    "Func<string, Task> Chat = async (string input) => {\n",
    "    // Save new message in the arguments\n",
    "    arguments[\"userInput\"] = input;\n",
    "\n",
    "    // Process the user message and get an answer\n",
    "    var answer = await chatFunction.InvokeAsync(kernel, arguments);\n",
    "\n",
    "    // Append the new interaction to the chat history\n",
    "    var result = $\"\\nUser: {input}\\nAI: {answer}\\n\";\n",
    "    history += result;\n",
    "\n",
    "    arguments[\"history\"] = history;\n",
    "    \n",
    "    // Show the response\n",
    "    Console.WriteLine(result);\n",
    "};"
   ]
  },
  {
   "cell_type": "code",
   "execution_count": 30,
   "metadata": {
    "dotnet_interactive": {
     "language": "csharp"
    },
    "polyglot_notebook": {
     "kernelName": "csharp"
    },
    "vscode": {
     "languageId": "polyglot-notebook"
    }
   },
   "outputs": [
    {
     "name": "stdout",
     "output_type": "stream",
     "text": [
      "\n",
      "User: I would like a cocktail suggestion for breakfast. Please suggest one of them.\n",
      "AI: How about a classic mimosa? It's a refreshing combination of orange juice and champagne. Perfect for a brunch or breakfast cocktail.\n",
      "\n"
     ]
    }
   ],
   "source": [
    "await Chat(\"I would like a cocktail suggestion for breakfast. Please suggest one of them.\");"
   ]
  },
  {
   "cell_type": "code",
   "execution_count": 29,
   "metadata": {
    "dotnet_interactive": {
     "language": "csharp"
    },
    "polyglot_notebook": {
     "kernelName": "csharp"
    },
    "vscode": {
     "languageId": "polyglot-notebook"
    }
   },
   "outputs": [
    {
     "name": "stdout",
     "output_type": "stream",
     "text": [
      "\n",
      "User: that sounds interesting, how do you make one?\n",
      "AI: To make a mimosa, you will need:\n",
      "- 1 part orange juice\n",
      "- 1 part champagne or sparkling wine\n",
      "\n",
      "Here's how to make it:\n",
      "1. Pour the orange juice into a champagne flute or glass.\n",
      "2. Slowly pour the champagne or sparkling wine into the glass.\n",
      "3. Gently stir the mixture with a spoon.\n",
      "4. Garnish with a slice of orange, if desired.\n",
      "5. Serve and enjoy!\n",
      "\n",
      "Remember to drink responsibly and enjoy your mimosa!\n",
      "\n"
     ]
    }
   ],
   "source": [
    "await Chat(\"that sounds interesting, how do you make one?\");"
   ]
  },
  {
   "cell_type": "code",
   "execution_count": 31,
   "metadata": {
    "dotnet_interactive": {
     "language": "csharp"
    },
    "polyglot_notebook": {
     "kernelName": "csharp"
    },
    "vscode": {
     "languageId": "polyglot-notebook"
    }
   },
   "outputs": [
    {
     "name": "stdout",
     "output_type": "stream",
     "text": [
      "\n",
      "User: Write a C# code and print hello world?\n",
      "AI: Sure! Here's a simple C# code that prints \"Hello, World!\" to the console:\n",
      "\n",
      "```csharp\n",
      "using System;\n",
      "\n",
      "class Program\n",
      "{\n",
      "    static void Main()\n",
      "    {\n",
      "        Console.WriteLine(\"Hello, World!\");\n",
      "    }\n",
      "}\n",
      "```\n",
      "\n",
      "You can copy and paste this code into a C# compiler or IDE, and it will display \"Hello, World!\" when you run it.\n",
      "\n"
     ]
    }
   ],
   "source": [
    "await Chat(\"Write a C# code and print hello world?\");"
   ]
  },
  {
   "cell_type": "code",
   "execution_count": 32,
   "metadata": {
    "dotnet_interactive": {
     "language": "csharp"
    },
    "polyglot_notebook": {
     "kernelName": "csharp"
    },
    "vscode": {
     "languageId": "polyglot-notebook"
    }
   },
   "outputs": [
    {
     "name": "stdout",
     "output_type": "stream",
     "text": [
      "\n",
      "User: could you list some more I could try about the topic(s) mentioned?\n",
      "AI: Sure! Here are a few more cocktail suggestions for you to try:\n",
      "\n",
      "1. Bloody Mary - A classic brunch cocktail made with vodka, tomato juice, and various spices and seasonings.\n",
      "2. Bellini - A refreshing cocktail made with peach puree and sparkling wine.\n",
      "3. Screwdriver - A simple cocktail made with vodka and orange juice.\n",
      "4. Irish Coffee - A warm and comforting cocktail made with coffee, Irish whiskey, sugar, and topped with whipped cream.\n",
      "5. Piña Colada - A tropical cocktail made with rum, pineapple juice, and coconut cream.\n",
      "\n",
      "These are just a few options, but there are countless cocktail recipes out there to explore. Enjoy experimenting and finding your favorites!\n",
      "\n"
     ]
    }
   ],
   "source": [
    "await Chat(\"could you list some more I could try about the topic(s) mentioned?\");"
   ]
  },
  {
   "attachments": {},
   "cell_type": "markdown",
   "metadata": {},
   "source": [
    "After chatting for a while, we have built a growing history, which we are attaching to each prompt and which contains the full conversation. Let's take a look!"
   ]
  },
  {
   "cell_type": "code",
   "execution_count": 14,
   "metadata": {
    "dotnet_interactive": {
     "language": "csharp"
    },
    "polyglot_notebook": {
     "kernelName": "csharp"
    },
    "vscode": {
     "languageId": "polyglot-notebook"
    }
   },
   "outputs": [
    {
     "name": "stdout",
     "output_type": "stream",
     "text": [
      "\n",
      "User: Hi, I'm looking for cocktail suggestions\n",
      "AI: Hi! I'd be happy to help with that. Are you looking for something specific, like a cocktail based on a particular spirit, or are you open to any suggestions?\n",
      "\n",
      "User: I would like a cocktail suggestion for breakfast. Please list one.\n",
      "AI: For a breakfast cocktail, I suggest trying a classic Mimosa. It's refreshing, easy to make, and pairs wonderfully with many breakfast dishes. Here's how you can make it:\n",
      "\n",
      "### Mimosa Recipe\n",
      "\n",
      "**Ingredients:**\n",
      "- 2 ounces of chilled orange juice (freshly squeezed is best)\n",
      "- 2 ounces of chilled Champagne or any sparkling wine\n",
      "- Optional: a splash of Grand Marnier or triple sec for an extra kick\n",
      "- Orange slice or twist, for garnish\n",
      "\n",
      "**Instructions:**\n",
      "1. Fill a Champagne flute halfway with the chilled orange juice.\n",
      "2. Top it off with the chilled Champagne or sparkling wine.\n",
      "3. If you're using, add a splash of Grand Marnier or triple sec.\n",
      "4. Gently stir to combine.\n",
      "5. Garnish with an orange slice or twist.\n",
      "\n",
      "Enjoy your Mimosa as a delightful start to your day! It's a simple yet elegant choice for breakfast or brunch.\n",
      "\n",
      "User: that sounds interesting, how do you make one?\n",
      "AI: To make a Mimosa, follow the recipe I provided above. Here's a quick recap for you:\n",
      "\n",
      "### Mimosa Recipe Recap\n",
      "\n",
      "**Ingredients:**\n",
      "- 2 ounces of chilled orange juice\n",
      "- 2 ounces of chilled Champagne or any sparkling wine\n",
      "- Optional: a splash of Grand Marnier or triple sec\n",
      "- Orange slice or twist, for garnish\n",
      "\n",
      "**Instructions:**\n",
      "1. Fill a Champagne flute halfway with the chilled orange juice.\n",
      "2. Top it off with the chilled Champagne or sparkling wine.\n",
      "3. If desired, add a splash of Grand Marnier or triple sec.\n",
      "4. Gently stir to combine.\n",
      "5. Garnish with an orange slice or twist.\n",
      "\n",
      "This simple recipe makes a single serving of Mimosa, perfect for a refreshing breakfast cocktail. Enjoy!\n",
      "\n",
      "User: I would like a cocktail suggestion for breakfast. Please suggest one.\n",
      "AI: For a different breakfast cocktail suggestion, how about trying a Bloody Mary? It's savory, has a bit of a kick, and is another classic choice for brunch or breakfast gatherings. Here's a simple recipe to make one:\n",
      "\n",
      "### Bloody Mary Recipe\n",
      "\n",
      "**Ingredients:**\n",
      "- 1 ½ ounces of vodka\n",
      "- 3 ounces of tomato juice\n",
      "- ½ ounce of lemon juice\n",
      "- 2 dashes of Worcestershire sauce\n",
      "- 2 dashes of hot sauce (adjust to taste)\n",
      "- Pinch of salt and pepper\n",
      "- Celery stalk and/or pickle spear, for garnish\n",
      "- Lemon wedge, for garnish\n",
      "- Optional: a dash of celery salt and horseradish for extra flavor\n",
      "\n",
      "**Instructions:**\n",
      "1. In a shaker, combine the vodka, tomato juice, lemon juice, Worcestershire sauce, hot sauce, salt, and pepper. If using, add celery salt and horseradish.\n",
      "2. Fill the shaker with ice and shake gently to mix.\n",
      "3. Strain the mixture into a large glass filled with ice.\n",
      "4. Garnish with a celery stalk, pickle spear, and a lemon wedge.\n",
      "\n",
      "The Bloody Mary is versatile, so feel free to adjust the ingredients to suit your taste. It's a hearty cocktail that can complement a wide range of breakfast dishes. Enjoy!\n",
      "\n",
      "User: I would like a cocktail suggestion for breakfast. Please suggest one of them.\n",
      "AI: Certainly! How about trying a Bellini for your breakfast cocktail? It's light, fruity, and a delightful way to start your day. Here's a simple recipe for you:\n",
      "\n",
      "### Bellini Recipe\n",
      "\n",
      "**Ingredients:**\n",
      "- 2 ounces of peach purée\n",
      "- 4 ounces of chilled Prosecco or any sparkling wine\n",
      "- Optional: a splash of peach schnapps for extra peach flavor\n",
      "- Peach slice, for garnish\n",
      "\n",
      "**Instructions:**\n",
      "1. Pour the peach purée into a Champagne flute.\n",
      "2. Slowly add the chilled Prosecco or sparkling wine to the flute.\n",
      "3. If desired, add a splash of peach schnapps.\n",
      "4. Stir gently to mix.\n",
      "5. Garnish with a peach slice.\n",
      "\n",
      "The Bellini offers a sweet and refreshing taste that's perfect for a leisurely breakfast or brunch. Enjoy your cocktail!\n",
      "\n",
      "User: Write a C# code and print hello world?\n",
      "AI: Certainly! Here's a simple example of how to print \"Hello World\" in C#:\n",
      "\n",
      "```csharp\n",
      "using System;\n",
      "\n",
      "class Program\n",
      "{\n",
      "    static void Main()\n",
      "    {\n",
      "        Console.WriteLine(\"Hello World\");\n",
      "    }\n",
      "}\n",
      "```\n",
      "\n",
      "To run this code, you would:\n",
      "1. Open your C# development environment (such as Visual Studio, Visual Studio Code with the C# extension, or another IDE that supports C#).\n",
      "2. Create a new Console Application project.\n",
      "3. Replace the auto-generated code in the `Program.cs` file with the code snippet above.\n",
      "4. Build and run the application.\n",
      "\n",
      "This will output \"Hello World\" to the console window.\n",
      "\n",
      "User: could you list some more I could try about the topic(s) mentioned?\n",
      "AI: Certainly! If you're interested in exploring more breakfast cocktail options or diving deeper into C# programming, here are some additional suggestions:\n",
      "\n",
      "### Breakfast Cocktails\n",
      "\n",
      "1. **Irish Coffee**\n",
      "   - Ingredients: Hot coffee, Irish whiskey, brown sugar, and topped with cream.\n",
      "   - Perfect for a warming start to the day, especially on cooler mornings.\n",
      "\n",
      "2. **Tequila Sunrise**\n",
      "   - Ingredients: Tequila, orange juice, and grenadine syrup.\n",
      "   - A vibrant and citrusy cocktail that's as beautiful as it is delicious.\n",
      "\n",
      "3. **Grapefruit Mimosa**\n",
      "   - Ingredients: Grapefruit juice and Champagne or sparkling wine.\n",
      "   - A tangy twist on the classic Mimosa, offering a bittersweet flavor profile.\n",
      "\n",
      "4. **Espresso Martini**\n",
      "   - Ingredients: Vodka, espresso coffee, coffee liqueur, and simple syrup.\n",
      "   - Ideal for coffee lovers looking for a cocktail with a caffeine kick.\n",
      "\n",
      "### C# Programming Topics\n",
      "\n",
      "1. **Variables and Data Types**\n",
      "   - Explore how to declare variables and use different data types in C#, such as `int`, `string`, `bool`, and `double`.\n",
      "\n",
      "2. **Control Structures**\n",
      "   - Learn about control structures in C#, including `if` statements, `switch` cases, and loops (`for`, `foreach`, `while`, and `do-while`).\n",
      "\n",
      "3. **Methods**\n",
      "   - Understand how to define and call methods in C#, including passing parameters and returning values.\n",
      "\n",
      "4. **Object-Oriented Programming**\n",
      "   - Dive into the principles of object-oriented programming (OOP) with C#, covering classes, objects, inheritance, polymorphism, and encapsulation.\n",
      "\n",
      "5. **LINQ (Language Integrated Query)**\n",
      "   - Get to know LINQ, which allows you to query collections in a declarative manner, making data manipulation and retrieval more efficient and readable.\n",
      "\n",
      "6. **Asynchronous Programming**\n",
      "   - Learn about asynchronous programming in C# using `async` and `await` keywords, which help in writing non-blocking code, particularly useful for I/O-bound operations.\n",
      "\n",
      "Each of these topics can open up new possibilities in both cocktail crafting and C# programming, offering you a range of experiences and skills to explore. Whether you're mixing drinks for a brunch gathering or coding a new project, there's always something new to learn and try.\n",
      "\n"
     ]
    }
   ],
   "source": [
    "Console.WriteLine(history);"
   ]
  },
  {
   "cell_type": "code",
   "execution_count": null,
   "metadata": {
    "dotnet_interactive": {
     "language": "csharp"
    },
    "polyglot_notebook": {
     "kernelName": "csharp"
    },
    "vscode": {
     "languageId": "polyglot-notebook"
    }
   },
   "outputs": [],
   "source": []
  }
 ],
 "metadata": {
  "kernelspec": {
   "display_name": ".NET (C#)",
   "language": "C#",
   "name": ".net-csharp"
  },
  "language_info": {
   "file_extension": ".cs",
   "mimetype": "text/x-csharp",
   "name": "C#",
   "pygments_lexer": "csharp",
   "version": "11.0"
  },
  "polyglot_notebook": {
   "kernelInfo": {
    "defaultKernelName": "csharp",
    "items": [
     {
      "aliases": [],
      "name": "csharp"
     }
    ]
   }
  }
 },
 "nbformat": 4,
 "nbformat_minor": 2
}
