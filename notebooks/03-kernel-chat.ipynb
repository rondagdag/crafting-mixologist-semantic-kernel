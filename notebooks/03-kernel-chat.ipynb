{
 "cells": [
  {
   "attachments": {},
   "cell_type": "markdown",
   "metadata": {},
   "source": [
    "# Creating a basic chat experience with kernel arguments\n",
    "\n",
    "In this chat scenario, as the user talks back and forth with the bot, the arguments get populated with the history of the conversation. During each new run of the kernel, the arguments will be provided to the AI with content. "
   ]
  },
  {
   "cell_type": "code",
   "execution_count": 1,
   "metadata": {
    "dotnet_interactive": {
     "language": "csharp"
    },
    "polyglot_notebook": {
     "kernelName": "csharp"
    },
    "vscode": {
     "languageId": "polyglot-notebook"
    }
   },
   "outputs": [
    {
     "data": {
      "text/html": [
       "<div><div></div><div></div><div><strong>Installed Packages</strong><ul><li><span>Microsoft.SemanticKernel, 1.5.0</span></li></ul></div></div>"
      ]
     },
     "metadata": {},
     "output_type": "display_data"
    }
   ],
   "source": [
    "#r \"nuget: Microsoft.SemanticKernel, 1.5.0\"\n",
    "#!import config/Settings.cs\n",
    "#!import config/Utils.cs\n",
    "\n",
    "using Microsoft.SemanticKernel;\n",
    "using Microsoft.SemanticKernel.Connectors.OpenAI;\n",
    "using Kernel = Microsoft.SemanticKernel.Kernel;\n",
    "\n",
    "var builder = Kernel.CreateBuilder();\n",
    "\n",
    "// Configure AI service credentials used by the kernel\n",
    "var (useAzureOpenAI, model, azureEndpoint, apiKey, orgId) = Settings.LoadFromFile();\n",
    "\n",
    "if (useAzureOpenAI)\n",
    "    builder.AddAzureOpenAIChatCompletion(model, azureEndpoint, apiKey);\n",
    "else\n",
    "    builder.AddOpenAIChatCompletion(model, apiKey, orgId);\n",
    "\n",
    "var kernel = builder.Build();"
   ]
  },
  {
   "attachments": {},
   "cell_type": "markdown",
   "metadata": {},
   "source": [
    "Let's define the prompt."
   ]
  },
  {
   "cell_type": "code",
   "execution_count": 2,
   "metadata": {
    "dotnet_interactive": {
     "language": "csharp"
    },
    "polyglot_notebook": {
     "kernelName": "csharp"
    },
    "vscode": {
     "languageId": "polyglot-notebook"
    }
   },
   "outputs": [],
   "source": [
    "const string skPrompt = @\"\n",
    "ChatBot can have a conversation with you about any topic.\n",
    "It can give explicit instructions or say 'I don't know' if it does not have an answer.\n",
    "\n",
    "{{$history}}\n",
    "User: {{$userInput}}\n",
    "ChatBot:\";\n",
    "\n",
    "var executionSettings = new OpenAIPromptExecutionSettings \n",
    "{\n",
    "    MaxTokens = 2000,\n",
    "    Temperature = 0.7,\n",
    "    TopP = 0.5\n",
    "};"
   ]
  },
  {
   "attachments": {},
   "cell_type": "markdown",
   "metadata": {},
   "source": [
    "Register your semantic function"
   ]
  },
  {
   "cell_type": "code",
   "execution_count": 3,
   "metadata": {
    "dotnet_interactive": {
     "language": "csharp"
    },
    "polyglot_notebook": {
     "kernelName": "csharp"
    },
    "vscode": {
     "languageId": "polyglot-notebook"
    }
   },
   "outputs": [],
   "source": [
    "var chatFunction = kernel.CreateFunctionFromPrompt(skPrompt, executionSettings);"
   ]
  },
  {
   "attachments": {},
   "cell_type": "markdown",
   "metadata": {},
   "source": [
    "Initialize your arguments"
   ]
  },
  {
   "cell_type": "code",
   "execution_count": 4,
   "metadata": {
    "dotnet_interactive": {
     "language": "csharp"
    },
    "polyglot_notebook": {
     "kernelName": "csharp"
    },
    "vscode": {
     "languageId": "polyglot-notebook"
    }
   },
   "outputs": [],
   "source": [
    "var history = \"\";\n",
    "var arguments = new KernelArguments()\n",
    "{\n",
    "    [\"history\"] = history\n",
    "};"
   ]
  },
  {
   "attachments": {},
   "cell_type": "markdown",
   "metadata": {},
   "source": [
    "Chat with the Bot"
   ]
  },
  {
   "cell_type": "code",
   "execution_count": 5,
   "metadata": {
    "dotnet_interactive": {
     "language": "csharp"
    },
    "polyglot_notebook": {
     "kernelName": "csharp"
    },
    "vscode": {
     "languageId": "polyglot-notebook"
    }
   },
   "outputs": [],
   "source": [
    "var userInput = \"Hi, I'm looking for cocktail suggestions\";\n",
    "arguments[\"userInput\"] = userInput;\n",
    "\n",
    "var bot_answer = await chatFunction.InvokeAsync(kernel, arguments);"
   ]
  },
  {
   "attachments": {},
   "cell_type": "markdown",
   "metadata": {},
   "source": [
    "Update the history with the output and set this as the new input value for the next request"
   ]
  },
  {
   "cell_type": "code",
   "execution_count": 6,
   "metadata": {
    "dotnet_interactive": {
     "language": "csharp"
    },
    "polyglot_notebook": {
     "kernelName": "csharp"
    },
    "vscode": {
     "languageId": "polyglot-notebook"
    }
   },
   "outputs": [
    {
     "name": "stdout",
     "output_type": "stream",
     "text": [
      "\n",
      "User: Hi, I'm looking for cocktail suggestions\n",
      "AI: Hello! I'd be happy to help you with cocktail suggestions. What kind of flavors do you enjoy? Are there any specific spirits you prefer or would like to include in the cocktails? Let me know so I can provide you with some tailored suggestions.\n",
      "\r\n"
     ]
    }
   ],
   "source": [
    "history += $\"\\nUser: {userInput}\\nAI: {bot_answer}\\n\";\n",
    "arguments[\"history\"] = history;\n",
    "\n",
    "Console.WriteLine(history);"
   ]
  },
  {
   "attachments": {},
   "cell_type": "markdown",
   "metadata": {},
   "source": [
    "Keep Chatting!"
   ]
  },
  {
   "cell_type": "code",
   "execution_count": 7,
   "metadata": {
    "dotnet_interactive": {
     "language": "csharp"
    },
    "polyglot_notebook": {
     "kernelName": "csharp"
    },
    "vscode": {
     "languageId": "polyglot-notebook"
    }
   },
   "outputs": [],
   "source": [
    "Func<string, Task> Chat = async (string input) => {\n",
    "    // Save new message in the arguments\n",
    "    arguments[\"userInput\"] = input;\n",
    "\n",
    "    // Process the user message and get an answer\n",
    "    var answer = await chatFunction.InvokeAsync(kernel, arguments);\n",
    "\n",
    "    // Append the new interaction to the chat history\n",
    "    var result = $\"\\nUser: {input}\\nAI: {answer}\\n\";\n",
    "    history += result;\n",
    "\n",
    "    arguments[\"history\"] = history;\n",
    "    \n",
    "    // Show the response\n",
    "    Console.WriteLine(result);\n",
    "};"
   ]
  },
  {
   "cell_type": "code",
   "execution_count": 8,
   "metadata": {
    "dotnet_interactive": {
     "language": "csharp"
    },
    "polyglot_notebook": {
     "kernelName": "csharp"
    },
    "vscode": {
     "languageId": "polyglot-notebook"
    }
   },
   "outputs": [
    {
     "name": "stdout",
     "output_type": "stream",
     "text": [
      "\n",
      "User: I would like a cocktail suggestion for breakfast. Please suggest one of them.\n",
      "AI: For a breakfast cocktail, you might enjoy a classic Mimosa. It's a simple and refreshing cocktail made with equal parts of champagne and chilled orange juice. It's a popular choice for brunch or breakfast gatherings. Enjoy responsibly!\n",
      "\r\n"
     ]
    }
   ],
   "source": [
    "await Chat(\"I would like a cocktail suggestion for breakfast. Please suggest one of them.\");"
   ]
  },
  {
   "cell_type": "code",
   "execution_count": 9,
   "metadata": {
    "dotnet_interactive": {
     "language": "csharp"
    },
    "polyglot_notebook": {
     "kernelName": "csharp"
    },
    "vscode": {
     "languageId": "polyglot-notebook"
    }
   },
   "outputs": [
    {
     "name": "stdout",
     "output_type": "stream",
     "text": [
      "\n",
      "User: that sounds interesting, how do you make one?\n",
      "AI: To make a Mimosa cocktail, you will need the following ingredients:\n",
      "\n",
      "- Champagne or sparkling wine\n",
      "- Chilled orange juice\n",
      "\n",
      "Here's how you can make a Mimosa:\n",
      "\n",
      "1. Take a champagne flute or a wine glass and fill it halfway with chilled orange juice.\n",
      "2. Slowly pour champagne or sparkling wine into the glass until it is almost full.\n",
      "3. Gently stir the mixture to combine the orange juice and champagne.\n",
      "4. Optionally, you can garnish the cocktail with a slice of orange or a strawberry.\n",
      "\n",
      "Enjoy your Mimosa cocktail!\n",
      "\r\n"
     ]
    }
   ],
   "source": [
    "await Chat(\"that sounds interesting, how do you make one?\");"
   ]
  },
  {
   "cell_type": "code",
   "execution_count": 10,
   "metadata": {
    "dotnet_interactive": {
     "language": "csharp"
    },
    "polyglot_notebook": {
     "kernelName": "csharp"
    },
    "vscode": {
     "languageId": "polyglot-notebook"
    }
   },
   "outputs": [
    {
     "name": "stdout",
     "output_type": "stream",
     "text": [
      "\n",
      "User: Write a C# code and print hello world?\n",
      "AI: Sure! Here is a simple C# code snippet that prints \"Hello, World!\" to the console:\n",
      "\n",
      "```csharp\n",
      "using System;\n",
      "\n",
      "class Program\n",
      "{\n",
      "    static void Main()\n",
      "    {\n",
      "        Console.WriteLine(\"Hello, World!\");\n",
      "    }\n",
      "}\n",
      "```\n",
      "\n",
      "You can copy and paste this code into a C# development environment, compile and run it to see the output \"Hello, World!\" displayed on the console.\n",
      "\r\n"
     ]
    }
   ],
   "source": [
    "await Chat(\"Write a C# code and print hello world?\");"
   ]
  },
  {
   "cell_type": "code",
   "execution_count": 11,
   "metadata": {
    "dotnet_interactive": {
     "language": "csharp"
    },
    "polyglot_notebook": {
     "kernelName": "csharp"
    },
    "vscode": {
     "languageId": "polyglot-notebook"
    }
   },
   "outputs": [
    {
     "name": "stdout",
     "output_type": "stream",
     "text": [
      "\n",
      "User: could you list some more I could try about the topic(s) mentioned?\n",
      "AI: I'm glad you're interested in trying out more cocktails and coding examples! Here are some additional cocktail suggestions and C# code snippets for you to explore:\n",
      "\n",
      "Cocktail Suggestions:\n",
      "1. Bellini - A cocktail made with Prosecco and peach puree, perfect for a fruity and bubbly drink.\n",
      "2. Bloody Mary - A classic brunch cocktail made with vodka, tomato juice, and various spices and flavorings.\n",
      "3. Espresso Martini - A cocktail that combines vodka, coffee liqueur, and freshly brewed espresso for a rich and caffeinated drink.\n",
      "4. French 75 - A cocktail made with gin, champagne, lemon juice, and sugar, offering a refreshing and citrusy flavor profile.\n",
      "\n",
      "C# Code Snippets:\n",
      "1. C# code to calculate the factorial of a number:\n",
      "```csharp\n",
      "using System;\n",
      "\n",
      "class Program\n",
      "{\n",
      "    static void Main()\n",
      "    {\n",
      "        int number = 5;\n",
      "        int factorial = 1;\n",
      "\n",
      "        for (int i = 1; i <= number; i++)\n",
      "        {\n",
      "            factorial *= i;\n",
      "        }\n",
      "\n",
      "        Console.WriteLine($\"The factorial of {number} is: {factorial}\");\n",
      "    }\n",
      "}\n",
      "```\n",
      "\n",
      "2. C# code to reverse a string:\n",
      "```csharp\n",
      "using System;\n",
      "\n",
      "class Program\n",
      "{\n",
      "    static void Main()\n",
      "    {\n",
      "        string originalString = \"Hello, World!\";\n",
      "        char[] charArray = originalString.ToCharArray();\n",
      "        Array.Reverse(charArray);\n",
      "        string reversedString = new string(charArray);\n",
      "\n",
      "        Console.WriteLine($\"Reversed string: {reversedString}\");\n",
      "    }\n",
      "}\n",
      "```\n",
      "\n",
      "Feel free to try out these cocktail recipes and code snippets! Let me know if you have any questions or need further assistance.\n",
      "\r\n"
     ]
    }
   ],
   "source": [
    "await Chat(\"could you list some more I could try about the topic(s) mentioned?\");"
   ]
  },
  {
   "attachments": {},
   "cell_type": "markdown",
   "metadata": {},
   "source": [
    "After chatting for a while, we have built a growing history, which we are attaching to each prompt and which contains the full conversation. Let's take a look!"
   ]
  },
  {
   "cell_type": "code",
   "execution_count": 12,
   "metadata": {
    "dotnet_interactive": {
     "language": "csharp"
    },
    "polyglot_notebook": {
     "kernelName": "csharp"
    },
    "vscode": {
     "languageId": "polyglot-notebook"
    }
   },
   "outputs": [
    {
     "name": "stdout",
     "output_type": "stream",
     "text": [
      "\n",
      "User: Hi, I'm looking for cocktail suggestions\n",
      "AI: Hello! I'd be happy to help you with cocktail suggestions. What kind of flavors do you enjoy? Are there any specific spirits you prefer or would like to include in the cocktails? Let me know so I can provide you with some tailored suggestions.\n",
      "\n",
      "User: I would like a cocktail suggestion for breakfast. Please suggest one of them.\n",
      "AI: For a breakfast cocktail, you might enjoy a classic Mimosa. It's a simple and refreshing cocktail made with equal parts of champagne and chilled orange juice. It's a popular choice for brunch or breakfast gatherings. Enjoy responsibly!\n",
      "\n",
      "User: that sounds interesting, how do you make one?\n",
      "AI: To make a Mimosa cocktail, you will need the following ingredients:\n",
      "\n",
      "- Champagne or sparkling wine\n",
      "- Chilled orange juice\n",
      "\n",
      "Here's how you can make a Mimosa:\n",
      "\n",
      "1. Take a champagne flute or a wine glass and fill it halfway with chilled orange juice.\n",
      "2. Slowly pour champagne or sparkling wine into the glass until it is almost full.\n",
      "3. Gently stir the mixture to combine the orange juice and champagne.\n",
      "4. Optionally, you can garnish the cocktail with a slice of orange or a strawberry.\n",
      "\n",
      "Enjoy your Mimosa cocktail!\n",
      "\n",
      "User: Write a C# code and print hello world?\n",
      "AI: Sure! Here is a simple C# code snippet that prints \"Hello, World!\" to the console:\n",
      "\n",
      "```csharp\n",
      "using System;\n",
      "\n",
      "class Program\n",
      "{\n",
      "    static void Main()\n",
      "    {\n",
      "        Console.WriteLine(\"Hello, World!\");\n",
      "    }\n",
      "}\n",
      "```\n",
      "\n",
      "You can copy and paste this code into a C# development environment, compile and run it to see the output \"Hello, World!\" displayed on the console.\n",
      "\n",
      "User: could you list some more I could try about the topic(s) mentioned?\n",
      "AI: I'm glad you're interested in trying out more cocktails and coding examples! Here are some additional cocktail suggestions and C# code snippets for you to explore:\n",
      "\n",
      "Cocktail Suggestions:\n",
      "1. Bellini - A cocktail made with Prosecco and peach puree, perfect for a fruity and bubbly drink.\n",
      "2. Bloody Mary - A classic brunch cocktail made with vodka, tomato juice, and various spices and flavorings.\n",
      "3. Espresso Martini - A cocktail that combines vodka, coffee liqueur, and freshly brewed espresso for a rich and caffeinated drink.\n",
      "4. French 75 - A cocktail made with gin, champagne, lemon juice, and sugar, offering a refreshing and citrusy flavor profile.\n",
      "\n",
      "C# Code Snippets:\n",
      "1. C# code to calculate the factorial of a number:\n",
      "```csharp\n",
      "using System;\n",
      "\n",
      "class Program\n",
      "{\n",
      "    static void Main()\n",
      "    {\n",
      "        int number = 5;\n",
      "        int factorial = 1;\n",
      "\n",
      "        for (int i = 1; i <= number; i++)\n",
      "        {\n",
      "            factorial *= i;\n",
      "        }\n",
      "\n",
      "        Console.WriteLine($\"The factorial of {number} is: {factorial}\");\n",
      "    }\n",
      "}\n",
      "```\n",
      "\n",
      "2. C# code to reverse a string:\n",
      "```csharp\n",
      "using System;\n",
      "\n",
      "class Program\n",
      "{\n",
      "    static void Main()\n",
      "    {\n",
      "        string originalString = \"Hello, World!\";\n",
      "        char[] charArray = originalString.ToCharArray();\n",
      "        Array.Reverse(charArray);\n",
      "        string reversedString = new string(charArray);\n",
      "\n",
      "        Console.WriteLine($\"Reversed string: {reversedString}\");\n",
      "    }\n",
      "}\n",
      "```\n",
      "\n",
      "Feel free to try out these cocktail recipes and code snippets! Let me know if you have any questions or need further assistance.\n",
      "\r\n"
     ]
    }
   ],
   "source": [
    "Console.WriteLine(history);"
   ]
  },
  {
   "cell_type": "code",
   "execution_count": null,
   "metadata": {
    "dotnet_interactive": {
     "language": "csharp"
    },
    "polyglot_notebook": {
     "kernelName": "csharp"
    },
    "vscode": {
     "languageId": "polyglot-notebook"
    }
   },
   "outputs": [],
   "source": []
  }
 ],
 "metadata": {
  "kernelspec": {
   "display_name": ".NET (C#)",
   "language": "C#",
   "name": ".net-csharp"
  },
  "language_info": {
   "file_extension": ".cs",
   "mimetype": "text/x-csharp",
   "name": "C#",
   "pygments_lexer": "csharp",
   "version": "11.0"
  },
  "polyglot_notebook": {
   "kernelInfo": {
    "defaultKernelName": "csharp",
    "items": [
     {
      "aliases": [],
      "name": "csharp"
     }
    ]
   }
  }
 },
 "nbformat": 4,
 "nbformat_minor": 2
}
