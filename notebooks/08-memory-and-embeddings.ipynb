{
 "cells": [
  {
   "attachments": {},
   "cell_type": "markdown",
   "metadata": {},
   "source": [
    "# Building Semantic Memory with Embeddings\n",
    "\n",
    "So far, we've mostly been treating the kernel as a stateless orchestration engine.\n",
    "We send text into a model API and receive text out. \n",
    "\n",
    "In a [previous notebook](04-kernel-arguments-chat.ipynb), we used `kernel arguments` to pass in additional\n",
    "text into prompts to enrich them with more data. This allowed us to create a basic chat experience. \n",
    "\n",
    "However, if you solely relied on kernel arguments, you would quickly realize that eventually your prompt\n",
    "would grow so large that you would run into a the model's token limit. What we need is a way to persist state\n",
    "and build both short-term and long-term memory to empower even more intelligent applications. \n",
    "\n",
    "To do this, we dive into the key concept of `Semantic Memory` in the Semantic Kernel. "
   ]
  },
  {
   "cell_type": "code",
   "execution_count": 1,
   "metadata": {
    "dotnet_interactive": {
     "language": "csharp"
    },
    "polyglot_notebook": {
     "kernelName": "csharp"
    }
   },
   "outputs": [
    {
     "data": {
      "text/html": [
       "<div><div></div><div></div><div><strong>Installed Packages</strong><ul><li><span>Microsoft.SemanticKernel, 1.5.0</span></li><li><span>Microsoft.SemanticKernel.Connectors.Sqlite, 1.5.0-alpha</span></li><li><span>Microsoft.SemanticKernel.Plugins.Memory, 1.5.0-alpha</span></li><li><span>System.Linq.Async, 6.0.1</span></li></ul></div></div>"
      ]
     },
     "metadata": {},
     "output_type": "display_data"
    }
   ],
   "source": [
    "#r \"nuget: Microsoft.SemanticKernel, 1.5.0\"\n",
    "#r \"nuget: Microsoft.SemanticKernel.Plugins.Memory, 1.5.0-alpha\"\n",
    "#r \"nuget: Microsoft.SemanticKernel.Connectors.Sqlite, 1.5.0-alpha\"\n",
    "#r \"nuget: System.Linq.Async, 6.0.1\"\n",
    "\n",
    "#!import config/Settings.cs\n",
    "\n",
    "using Microsoft.SemanticKernel;\n",
    "using Microsoft.SemanticKernel.Connectors.OpenAI;\n",
    "using Microsoft.SemanticKernel.Memory;\n",
    "using Microsoft.SemanticKernel.Plugins.Memory;\n",
    "using Kernel = Microsoft.SemanticKernel.Kernel;\n",
    "\n",
    "var builder = Kernel.CreateBuilder();\n",
    "\n",
    "// Configure AI service credentials used by the kernel\n",
    "var (useAzureOpenAI, model, azureEndpoint, apiKey, orgId) = Settings.LoadFromFile();\n",
    "\n",
    "if (useAzureOpenAI)\n",
    "    builder.AddAzureOpenAIChatCompletion(model, azureEndpoint, apiKey);\n",
    "else\n",
    "    builder.AddOpenAIChatCompletion(model, apiKey, orgId);\n",
    "\n",
    "var kernel = builder.Build();"
   ]
  },
  {
   "attachments": {},
   "cell_type": "markdown",
   "metadata": {},
   "source": [
    "In order to use memory, we need to instantiate the Memory Plugin with a Memory Storage\n",
    "and an Embedding backend. In this example, we make use of the `VolatileMemoryStore`\n",
    "which can be thought of as a temporary in-memory storage (not to be confused with Semantic Memory).\n",
    "\n",
    "This memory is not written to disk and is only available during the app session.\n",
    "\n",
    "When developing your app you will have the option to plug in persistent storage\n",
    "like Azure Cosmos Db, PostgreSQL, SQLite, etc. Semantic Memory allows also to index\n",
    "external data sources, without duplicating all the information, more on that later."
   ]
  },
  {
   "cell_type": "code",
   "execution_count": 2,
   "metadata": {
    "dotnet_interactive": {
     "language": "csharp"
    },
    "polyglot_notebook": {
     "kernelName": "csharp"
    }
   },
   "outputs": [],
   "source": [
    "using Microsoft.SemanticKernel.Memory;\n",
    "using Microsoft.SemanticKernel.Connectors.Sqlite;\n",
    "using Microsoft.SemanticKernel.Connectors.OpenAI;\n",
    "\n",
    "// Memory functionality is experimental\n",
    "#pragma warning disable SKEXP0003, SKEXP0011, SKEXP0052, SKEXP0028\n",
    "\n",
    "var (useAzureOpenAI, model, azureEndpoint, apiKey, orgId) = Settings.LoadFromFile();\n",
    "\n",
    "var index = !File.Exists(\"index.db\");\n",
    "\n",
    "var store = await SqliteMemoryStore.ConnectAsync(\"index.db\");\n",
    "\n",
    "var memoryBuilder = new MemoryBuilder();\n",
    "\n",
    "if (useAzureOpenAI)\n",
    "{\n",
    "    memoryBuilder.WithAzureOpenAITextEmbeddingGeneration(\n",
    "        \"text-embedding-ada-002\",\n",
    "        azureEndpoint, \n",
    "        apiKey,\n",
    "        \"model-id\");\n",
    "}\n",
    "else\n",
    "{\n",
    "    memoryBuilder.WithOpenAITextEmbeddingGeneration(\"text-embedding-ada-002\", apiKey);\n",
    "}\n",
    "\n",
    "\n",
    "memoryBuilder.WithMemoryStore(store);\n",
    "\n",
    "var memory = memoryBuilder.Build();"
   ]
  },
  {
   "attachments": {},
   "cell_type": "markdown",
   "metadata": {},
   "source": [
    "Let's try searching the memory:"
   ]
  },
  {
   "cell_type": "code",
   "execution_count": 3,
   "metadata": {
    "dotnet_interactive": {
     "language": "csharp"
    },
    "polyglot_notebook": {
     "kernelName": "csharp"
    }
   },
   "outputs": [
    {
     "name": "stdout",
     "output_type": "stream",
     "text": [
      "list of good sparkling cocktails Bellini, Glass: champagne-flute, Category: Sparkling Cocktail, Ingredients: 10 cl Prosecco, 5 cl Peach puree, Garnish: , Preparation: Pour peach puree into chilled glass and add sparkling wine. Stir gently. Variations: Puccini (fresh mandarin juice), Rossini (fresh strawberry puree), Tintoretto (fresh pomegranate juice)\r\n"
     ]
    }
   ],
   "source": [
    "const string MemoryCollectionName = \"CocktailCollection\";\n",
    "\n",
    "var questions = new[]\n",
    "{\n",
    "    \"list of good sparkling cocktails\",\n",
    "};\n",
    "\n",
    "foreach (var q in questions)\n",
    "{\n",
    "    var response = await memory.SearchAsync(MemoryCollectionName, q).FirstOrDefaultAsync();\n",
    "    Console.WriteLine(q + \" \" + response?.Metadata.Text);\n",
    "}"
   ]
  },
  {
   "cell_type": "code",
   "execution_count": 4,
   "metadata": {
    "dotnet_interactive": {
     "language": "csharp"
    },
    "polyglot_notebook": {
     "kernelName": "csharp"
    }
   },
   "outputs": [
    {
     "ename": "Error",
     "evalue": "(6,35): error SKEXP0003: 'Microsoft.SemanticKernel.Plugins.Memory.TextMemoryPlugin' is for evaluation purposes only and is subject to change or removal in future updates. Suppress this diagnostic to proceed.",
     "output_type": "error",
     "traceback": [
      "(6,35): error SKEXP0003: 'Microsoft.SemanticKernel.Plugins.Memory.TextMemoryPlugin' is for evaluation purposes only and is subject to change or removal in future updates. Suppress this diagnostic to proceed."
     ]
    }
   ],
   "source": [
    "using Microsoft.SemanticKernel.Plugins.Memory;\n",
    "\n",
    "#pragma warning disable SKEXP0052\n",
    "\n",
    "// TextMemoryPlugin provides the \"recall\" function\n",
    "kernel.ImportPluginFromObject(new TextMemoryPlugin(memory));"
   ]
  },
  {
   "cell_type": "code",
   "execution_count": 5,
   "metadata": {
    "dotnet_interactive": {
     "language": "csharp"
    },
    "polyglot_notebook": {
     "kernelName": "csharp"
    }
   },
   "outputs": [],
   "source": [
    "#pragma warning disable SKEXP0003\n",
    "var ingredient = await InteractiveKernel.GetInputAsync(\"Type an alcohol ingredient?\");\n",
    "\n",
    "IAsyncEnumerable<MemoryQueryResult> queryResults =\n",
    "                memory.SearchAsync(MemoryCollectionName, ingredient, limit: 3, minRelevanceScore: 0.77);"
   ]
  },
  {
   "cell_type": "code",
   "execution_count": 6,
   "metadata": {
    "dotnet_interactive": {
     "language": "csharp"
    },
    "polyglot_notebook": {
     "kernelName": "csharp"
    }
   },
   "outputs": [
    {
     "name": "stdout",
     "output_type": "stream",
     "text": [
      "User:\n",
      "vodka\n",
      "\n",
      "Nearest results:\n",
      "Black Russian, Glass: old-fashioned, Category: After Dinner Cocktail, Ingredients: 5 cl Vodka, 2 cl Coffee liqueur, Garnish: , Preparation: Build into old fashioned glass filled with ice cubes. Stir gently. Note: for White Russian, float fresh cream on the top and stir gently.\n",
      "\n",
      "Vesper, Glass: martini, Category: Before Dinner Cocktail, Ingredients: 6 cl Gin, 1.5 cl Vodka, 0.75 cl Lillet Blonde, Garnish: Lemon twist, Preparation: Shake and strain into a chilled cocktail glass.\n",
      "\n",
      "Cosmopolitan, Glass: martini, Category: All Day Cocktail, Ingredients: 4 cl Vodka (Citron Vodka), 1.5 cl Triple Sec (Cointreau), 1.5 cl Lime juice, 3 cl Cranberry juice, Garnish: Lime slice, Preparation: Shake with ice cubes. Strain into a large cocktail glass.\n",
      "\n",
      "\r\n"
     ]
    }
   ],
   "source": [
    "#pragma warning disable SKEXP0003\n",
    "// Keep a list of the memories\n",
    "StringBuilder promptData = new StringBuilder();\n",
    "\n",
    "await foreach (MemoryQueryResult r in queryResults)\n",
    "{\n",
    "    promptData.Append(r.Metadata.Text+\"\\n\\n\");\n",
    "}\n",
    "\n",
    "// Final augmented text\n",
    "var augmentedText = promptData.ToString();\n",
    "Console.WriteLine($\"User:\\n{ingredient}\\n\\nNearest results:\\n{augmentedText}\")"
   ]
  },
  {
   "cell_type": "code",
   "execution_count": 7,
   "metadata": {
    "dotnet_interactive": {
     "language": "csharp"
    },
    "polyglot_notebook": {
     "kernelName": "csharp"
    }
   },
   "outputs": [],
   "source": [
    "\n",
    "const string ragFunctionDefinition = @\"\n",
    "ChatBot can only have a conversation with relevant information below.\n",
    "It can give explicit instructions or say 'Beats me, I'm just here for the drink' if it does not have an answer.\n",
    "\n",
    "Relevant information:\n",
    "{{$data}}\n",
    "\n",
    "Chat:\n",
    "{{$history}}\n",
    "User: {{$userInput}}\n",
    "ChatBot: \";\n",
    "\n",
    "var executionSettings = new OpenAIPromptExecutionSettings \n",
    "{\n",
    "    MaxTokens = 2000,\n",
    "    Temperature = 0.8,\n",
    "    TopP = 0.5\n",
    "};\n",
    "\n",
    "\n",
    "var ragFunction = kernel.CreateFunctionFromPrompt(ragFunctionDefinition, executionSettings);\n"
   ]
  },
  {
   "cell_type": "code",
   "execution_count": 8,
   "metadata": {
    "dotnet_interactive": {
     "language": "csharp"
    },
    "polyglot_notebook": {
     "kernelName": "csharp"
    }
   },
   "outputs": [
    {
     "name": "stdout",
     "output_type": "stream",
     "text": [
      "list spirit that includes vodka\n",
      "Black Russian, Vesper, and Cosmopolitan are cocktails that include vodka as one of the main ingredients.\n"
     ]
    }
   ],
   "source": [
    "#pragma warning disable SKEXP0052\n",
    "\n",
    "var arguments = new KernelArguments();\n",
    "\n",
    "var question = $\"list spirit that includes {ingredient}\"; // await InteractiveKernel.GetInputAsync(\"What is your query?\");\n",
    "\n",
    "arguments[\"userInput\"] = question;\n",
    "arguments[\"data\"] = augmentedText;\n",
    "\n",
    "var result = await kernel.InvokeAsync(ragFunction, arguments);\n",
    "\n",
    "Console.WriteLine(question);\n",
    "Console.WriteLine(result);\n",
    "\n"
   ]
  },
  {
   "cell_type": "code",
   "execution_count": null,
   "metadata": {
    "dotnet_interactive": {
     "language": "csharp"
    },
    "polyglot_notebook": {
     "kernelName": "csharp"
    }
   },
   "outputs": [],
   "source": []
  }
 ],
 "metadata": {
  "kernelspec": {
   "display_name": ".NET (C#)",
   "language": "C#",
   "name": ".net-csharp"
  },
  "language_info": {
   "name": "polyglot-notebook"
  },
  "polyglot_notebook": {
   "kernelInfo": {
    "defaultKernelName": "csharp",
    "items": [
     {
      "aliases": [],
      "name": "csharp"
     }
    ]
   }
  }
 },
 "nbformat": 4,
 "nbformat_minor": 2
}
