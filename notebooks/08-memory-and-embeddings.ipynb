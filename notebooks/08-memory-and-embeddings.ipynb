{
 "cells": [
  {
   "attachments": {},
   "cell_type": "markdown",
   "metadata": {},
   "source": [
    "# Building Semantic Memory with Embeddings\n",
    "\n",
    "So far, we've mostly been treating the kernel as a stateless orchestration engine.\n",
    "We send text into a model API and receive text out. \n",
    "\n",
    "In a [previous notebook](04-kernel-arguments-chat.ipynb), we used `kernel arguments` to pass in additional\n",
    "text into prompts to enrich them with more data. This allowed us to create a basic chat experience. \n",
    "\n",
    "However, if you solely relied on kernel arguments, you would quickly realize that eventually your prompt\n",
    "would grow so large that you would run into a the model's token limit. What we need is a way to persist state\n",
    "and build both short-term and long-term memory to empower even more intelligent applications. \n",
    "\n",
    "To do this, we dive into the key concept of `Semantic Memory` in the Semantic Kernel. "
   ]
  },
  {
   "cell_type": "code",
   "execution_count": 1,
   "metadata": {
    "dotnet_interactive": {
     "language": "csharp"
    },
    "polyglot_notebook": {
     "kernelName": "csharp"
    }
   },
   "outputs": [
    {
     "data": {
      "text/html": [
       "<div><div></div><div></div><div><strong>Installed Packages</strong><ul><li><span>Microsoft.SemanticKernel, 1.2.0</span></li><li><span>Microsoft.SemanticKernel.Connectors.Sqlite, 1.2.0-alpha</span></li><li><span>Microsoft.SemanticKernel.Plugins.Memory, 1.2.0-alpha</span></li><li><span>System.Linq.Async, 6.0.1</span></li></ul></div></div>"
      ]
     },
     "metadata": {},
     "output_type": "display_data"
    }
   ],
   "source": [
    "#r \"nuget: Microsoft.SemanticKernel, 1.2.0\"\n",
    "#r \"nuget: Microsoft.SemanticKernel.Plugins.Memory, 1.2.0-alpha\"\n",
    "#r \"nuget: Microsoft.SemanticKernel.Connectors.Sqlite, 1.2.0-alpha\"\n",
    "#r \"nuget: System.Linq.Async, 6.0.1\"\n",
    "\n",
    "#!import config/Settings.cs\n",
    "\n",
    "using Microsoft.SemanticKernel;\n",
    "using Microsoft.SemanticKernel.Connectors.OpenAI;\n",
    "using Microsoft.SemanticKernel.Memory;\n",
    "using Microsoft.SemanticKernel.Plugins.Memory;\n",
    "using Kernel = Microsoft.SemanticKernel.Kernel;\n",
    "\n",
    "var builder = Kernel.CreateBuilder();\n",
    "\n",
    "// Configure AI service credentials used by the kernel\n",
    "var (useAzureOpenAI, model, azureEndpoint, apiKey, orgId) = Settings.LoadFromFile();\n",
    "\n",
    "if (useAzureOpenAI)\n",
    "    builder.AddAzureOpenAIChatCompletion(model, azureEndpoint, apiKey);\n",
    "else\n",
    "    builder.AddOpenAIChatCompletion(model, apiKey, orgId);\n",
    "\n",
    "var kernel = builder.Build();"
   ]
  },
  {
   "attachments": {},
   "cell_type": "markdown",
   "metadata": {},
   "source": [
    "In order to use memory, we need to instantiate the Memory Plugin with a Memory Storage\n",
    "and an Embedding backend. In this example, we make use of the `VolatileMemoryStore`\n",
    "which can be thought of as a temporary in-memory storage (not to be confused with Semantic Memory).\n",
    "\n",
    "This memory is not written to disk and is only available during the app session.\n",
    "\n",
    "When developing your app you will have the option to plug in persistent storage\n",
    "like Azure Cosmos Db, PostgreSQL, SQLite, etc. Semantic Memory allows also to index\n",
    "external data sources, without duplicating all the information, more on that later."
   ]
  },
  {
   "cell_type": "code",
   "execution_count": 2,
   "metadata": {
    "dotnet_interactive": {
     "language": "csharp"
    },
    "polyglot_notebook": {
     "kernelName": "csharp"
    }
   },
   "outputs": [],
   "source": [
    "using Microsoft.SemanticKernel.Memory;\n",
    "using Microsoft.SemanticKernel.Connectors.Sqlite;\n",
    "using Microsoft.SemanticKernel.Connectors.OpenAI;\n",
    "\n",
    "// Memory functionality is experimental\n",
    "#pragma warning disable SKEXP0003, SKEXP0011, SKEXP0052, SKEXP0028\n",
    "\n",
    "var (useAzureOpenAI, model, azureEndpoint, apiKey, orgId) = Settings.LoadFromFile();\n",
    "\n",
    "var index = !File.Exists(\"index.db\");\n",
    "\n",
    "var store = await SqliteMemoryStore.ConnectAsync(\"index.db\");\n",
    "\n",
    "var memoryBuilder = new MemoryBuilder();\n",
    "\n",
    "if (useAzureOpenAI)\n",
    "{\n",
    "    memoryBuilder.WithAzureOpenAITextEmbeddingGeneration(\n",
    "        \"text-embedding-ada-002\",\n",
    "        azureEndpoint, \n",
    "        apiKey,\n",
    "        \"model-id\");\n",
    "}\n",
    "else\n",
    "{\n",
    "    memoryBuilder.WithOpenAITextEmbeddingGeneration(\"text-embedding-ada-002\", apiKey);\n",
    "}\n",
    "\n",
    "\n",
    "memoryBuilder.WithMemoryStore(store);\n",
    "\n",
    "var memory = memoryBuilder.Build();"
   ]
  },
  {
   "attachments": {},
   "cell_type": "markdown",
   "metadata": {},
   "source": [
    "Let's try searching the memory:"
   ]
  },
  {
   "cell_type": "code",
   "execution_count": 3,
   "metadata": {
    "dotnet_interactive": {
     "language": "csharp"
    },
    "polyglot_notebook": {
     "kernelName": "csharp"
    }
   },
   "outputs": [
    {
     "name": "stdout",
     "output_type": "stream",
     "text": [
      "list of good sparking cocktails Russian Spring Punch, Glass: highball, Category: Sparkling Cocktail, Ingredients: 2.5 cl Vodka, 2.5 cl Lemon juice, 1.5 cl Créme liqueur (Créme de Cassis), 1 cl Syrup (Sugar syrup), Garnish: Lemon slice and a blackberry, Preparation: Shake the ingredients and pour into highball glass. Top with Sparkling wine.\n"
     ]
    }
   ],
   "source": [
    "const string MemoryCollectionName = \"CocktailCollection\";\n",
    "\n",
    "\n",
    "var questions = new[]\n",
    "{\n",
    "    \"list of good sparking cocktails\",\n",
    "};\n",
    "\n",
    "foreach (var q in questions)\n",
    "{\n",
    "    var response = await memory.SearchAsync(MemoryCollectionName, q).FirstOrDefaultAsync();\n",
    "    Console.WriteLine(q + \" \" + response?.Metadata.Text);\n",
    "}"
   ]
  },
  {
   "cell_type": "code",
   "execution_count": 4,
   "metadata": {
    "dotnet_interactive": {
     "language": "csharp"
    },
    "polyglot_notebook": {
     "kernelName": "csharp"
    }
   },
   "outputs": [],
   "source": [
    "using Microsoft.SemanticKernel.Plugins.Memory;\n",
    "\n",
    "#pragma warning disable SKEXP0052\n",
    "\n",
    "// TextMemoryPlugin provides the \"recall\" function\n",
    "kernel.ImportPluginFromObject(new TextMemoryPlugin(memory));"
   ]
  },
  {
   "cell_type": "code",
   "execution_count": 7,
   "metadata": {
    "dotnet_interactive": {
     "language": "csharp"
    },
    "polyglot_notebook": {
     "kernelName": "csharp"
    }
   },
   "outputs": [],
   "source": [
    "#pragma warning disable SKEXP0003\n",
    "var query = await InteractiveKernel.GetInputAsync(\"What is your query?\");\n",
    "\n",
    "IAsyncEnumerable<MemoryQueryResult> queryResults =\n",
    "                memory.SearchAsync(MemoryCollectionName, query, limit: 3, minRelevanceScore: 0.77);"
   ]
  },
  {
   "cell_type": "code",
   "execution_count": 8,
   "metadata": {
    "dotnet_interactive": {
     "language": "csharp"
    },
    "polyglot_notebook": {
     "kernelName": "csharp"
    }
   },
   "outputs": [
    {
     "name": "stdout",
     "output_type": "stream",
     "text": [
      "User:\n",
      "white rum\n",
      "\n",
      "Nearest results:\n",
      "Mai-tai, Glass: highball, Category: Longdrink, Ingredients: 4 cl White rum, 2 cl Dark rum, 1.5 cl Triple Sec (Orange Curaçao), 1.5 cl Syrup (Orgeat syrup), 1 cl Lime juice, Garnish: Pineapple spear, mint leaves and lime wedge, Preparation: Shake and strain into highball glass. Serve with straw.\n",
      "\n",
      "Bacardi, Glass: martini, Category: Before Dinner Cocktail, Ingredients: 4.5 cl White rum (Bacardi White Rum), 2 cl Lime juice, 1 cl Syrup (Grenadine), Garnish: , Preparation: Shake with ice cubes. Strain into chilled cocktail glass.\n",
      "\n",
      "Hemingway Special, Glass: martini, Category: All Day Cocktail, Ingredients: 6 cl White rum, 4 cl Grapefruit juice, 1.5 cl Cherry liqueur (Maraschino), 1.5 cl Lime juice, Garnish: , Preparation: Shake with ice cubes. Strain into a double cocktail glass.\n",
      "\n",
      "\n"
     ]
    }
   ],
   "source": [
    "#pragma warning disable SKEXP0003\n",
    "// Keep a list of the memories\n",
    "StringBuilder promptData = new StringBuilder();\n",
    "\n",
    "await foreach (MemoryQueryResult r in queryResults)\n",
    "{\n",
    "    promptData.Append(r.Metadata.Text+\"\\n\\n\");\n",
    "}\n",
    "\n",
    "// Final augmented text\n",
    "var augmentedText = promptData.ToString();\n",
    "Console.WriteLine($\"User:\\n{query}\\n\\nNearest results:\\n{augmentedText}\")"
   ]
  },
  {
   "cell_type": "code",
   "execution_count": 9,
   "metadata": {
    "dotnet_interactive": {
     "language": "csharp"
    },
    "polyglot_notebook": {
     "kernelName": "csharp"
    }
   },
   "outputs": [],
   "source": [
    "\n",
    "const string ragFunctionDefinition = @\"\n",
    "ChatBot can only have a conversation with relevant information below.\n",
    "It can give explicit instructions or say 'Beats me, I'm just here for the drink' if it does not have an answer.\n",
    "\n",
    "Relevant information:\n",
    "{{$data}}\n",
    "\n",
    "Chat:\n",
    "{{$history}}\n",
    "User: {{$userInput}}\n",
    "ChatBot: \";\n",
    "\n",
    "var executionSettings = new OpenAIPromptExecutionSettings \n",
    "{\n",
    "    MaxTokens = 2000,\n",
    "    Temperature = 0.8,\n",
    "    TopP = 0.5\n",
    "};\n",
    "\n",
    "\n",
    "var ragFunction = kernel.CreateFunctionFromPrompt(ragFunctionDefinition, executionSettings);\n"
   ]
  },
  {
   "cell_type": "code",
   "execution_count": 10,
   "metadata": {
    "dotnet_interactive": {
     "language": "csharp"
    },
    "polyglot_notebook": {
     "kernelName": "csharp"
    }
   },
   "outputs": [
    {
     "name": "stdout",
     "output_type": "stream",
     "text": [
      "Sure! Here are five drinks that you can make with white rum:\n",
      "\n",
      "1. Mojito: Mix white rum, fresh lime juice, sugar, mint leaves, and soda water for a refreshing cocktail.\n",
      "2. Piña Colada: Blend white rum, pineapple juice, coconut cream, and ice for a tropical treat.\n",
      "3. Daiquiri: Shake white rum, lime juice, and simple syrup with ice for a classic cocktail.\n",
      "4. Cuba Libre: Combine white rum, cola, and a squeeze of lime for a simple and delicious drink.\n",
      "5. Mai Tai: Mix white rum, orange liqueur, lime juice, almond syrup, and a splash of grenadine for a tropical and fruity cocktail.\n",
      "\n",
      "Enjoy your drinks!\n"
     ]
    }
   ],
   "source": [
    "#pragma warning disable SKEXP0052\n",
    "\n",
    "var query = \"Give me 5 drinks with white rum\"; // await InteractiveKernel.GetInputAsync(\"What is your query?\");\n",
    "\n",
    "var arguments = new KernelArguments();\n",
    "\n",
    "arguments[\"userInput\"] = query;\n",
    "arguments[TextMemoryPlugin.CollectionParam] = MemoryCollectionName;\n",
    "arguments[TextMemoryPlugin.LimitParam] = \"3\";\n",
    "arguments[TextMemoryPlugin.RelevanceParam] = \"0.8\";\n",
    "\n",
    "var result = await kernel.InvokeAsync(ragFunction, arguments);\n",
    "\n",
    "Console.WriteLine(result);\n",
    "\n"
   ]
  },
  {
   "cell_type": "code",
   "execution_count": null,
   "metadata": {
    "dotnet_interactive": {
     "language": "csharp"
    },
    "polyglot_notebook": {
     "kernelName": "csharp"
    }
   },
   "outputs": [],
   "source": []
  }
 ],
 "metadata": {
  "kernelspec": {
   "display_name": ".NET (C#)",
   "language": "C#",
   "name": ".net-csharp"
  },
  "language_info": {
   "name": "polyglot-notebook"
  },
  "polyglot_notebook": {
   "kernelInfo": {
    "defaultKernelName": "csharp",
    "items": [
     {
      "aliases": [],
      "name": "csharp"
     }
    ]
   }
  }
 },
 "nbformat": 4,
 "nbformat_minor": 2
}
