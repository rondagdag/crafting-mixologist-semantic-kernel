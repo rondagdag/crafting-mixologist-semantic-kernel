{
 "cells": [
  {
   "attachments": {},
   "cell_type": "markdown",
   "metadata": {},
   "source": [
    "# Introduction to a Copilot\n",
    "\n",
    "An agent is an artificial intelligence that can answer questions and automate processes for users.\n",
    "\n",
    "Semantic Kernel offers tools to build AI agents, ranging from basic chatbots to advanced AI assistants, without needing deep AI expertise. \n",
    "\n",
    "Copilot agent - Unlike fully automated agents, copilots work alongside users, aiding in tasks like writing emails by offering suggestions that users can accept or reject. This approach keeps the user in control, making copilots simpler and safer to develop. As proficiency grows, one can evolve these copilots into fully automated agents by minimizing user input.\n",
    "\n",
    "\n",
    "![types of agents](./image/types-of-agents.png)\n",
    "\n",
    "There are 3 core building blocks\n",
    "\n",
    "![plugins, planners, personas](./image/plugins-planners-personas.png)"
   ]
  },
  {
   "cell_type": "code",
   "execution_count": 1,
   "metadata": {
    "dotnet_interactive": {
     "language": "csharp"
    },
    "polyglot_notebook": {
     "kernelName": "csharp"
    }
   },
   "outputs": [
    {
     "data": {
      "text/html": [
       "<div><div></div><div></div><div><strong>Installed Packages</strong><ul><li><span>Microsoft.Extensions.Logging, 8.0.0</span></li><li><span>Microsoft.SemanticKernel, 1.3.0</span></li><li><span>Microsoft.SemanticKernel.Plugins.Core, 1.3.0-alpha</span></li></ul></div></div>"
      ]
     },
     "metadata": {},
     "output_type": "display_data"
    }
   ],
   "source": [
    "#r \"nuget: Microsoft.SemanticKernel, 1.3.0\"\n",
    "#r \"nuget: Microsoft.SemanticKernel.Plugins.Core, 1.3.0-alpha\"\n",
    "#r \"nuget: Microsoft.Extensions.Logging, 8.0.0\"\n",
    "\n",
    "#!import config/Settings.cs\n",
    "#!import config/Utils.cs\n",
    "\n",
    "using Microsoft.SemanticKernel;\n",
    "using Microsoft.SemanticKernel.Plugins.Core;\n",
    "using Microsoft.SemanticKernel.Connectors.OpenAI;\n",
    "using System.ComponentModel;\n",
    "using System.Globalization;\n",
    "using Microsoft.Extensions.DependencyInjection;\n",
    "using Microsoft.Extensions.Logging;\n",
    "\n",
    "using Kernel = Microsoft.SemanticKernel.Kernel;\n",
    "\n",
    "var builder = Kernel.CreateBuilder();\n",
    "\n",
    "// Configure AI backend used by the kernel\n",
    "var (useAzureOpenAI, model, azureEndpoint, apiKey, orgId) = Settings.LoadFromFile();\n",
    "\n",
    "if (useAzureOpenAI)\n",
    "    builder.AddAzureOpenAIChatCompletion(model, azureEndpoint, apiKey);\n",
    "else\n",
    "    builder.AddOpenAIChatCompletion(model, apiKey, orgId);\n",
    "\n",
    "builder.Services.AddLogging(c => c.SetMinimumLevel(LogLevel.Information));\n",
    "\n",
    "\n",
    "// var kernel = builder.Build();"
   ]
  },
  {
   "cell_type": "code",
   "execution_count": 2,
   "metadata": {
    "dotnet_interactive": {
     "language": "csharp"
    },
    "polyglot_notebook": {
     "kernelName": "csharp"
    }
   },
   "outputs": [],
   "source": [
    "public class EmailPlugin\n",
    "{\n",
    "    [KernelFunction]\n",
    "    [Description(\"Sends an email to a recipient.\")]\n",
    "    public async Task SendEmailAsync(\n",
    "        Kernel kernel,\n",
    "        [Description(\"Semicolon delimitated list of emails of the recipients\")] string recipientEmails,\n",
    "        string subject,\n",
    "        string body\n",
    "    )\n",
    "    {\n",
    "        // Add logic to send an email using the recipientEmails, subject, and body\n",
    "        // For now, we'll just print out a success message to the console\n",
    "        Console.WriteLine(\"Email sent!\");\n",
    "    }\n",
    "}"
   ]
  },
  {
   "cell_type": "code",
   "execution_count": 3,
   "metadata": {
    "dotnet_interactive": {
     "language": "csharp"
    },
    "polyglot_notebook": {
     "kernelName": "csharp"
    }
   },
   "outputs": [],
   "source": [
    "public class AuthorEmailPlanner\n",
    "{\n",
    "    [KernelFunction]\n",
    "    [Description(\"Returns back the required steps necessary to author an email.\")]\n",
    "    [return: Description(\"The list of steps needed to author an email\")]\n",
    "    public async Task<string> GenerateRequiredStepsAsync(\n",
    "        Kernel kernel,\n",
    "        [Description(\"A 2-3 sentence description of what the email should be about\")] string topic,\n",
    "        [Description(\"A description of the recipients\")] string recipients\n",
    "    )\n",
    "    {\n",
    "        // Prompt the LLM to generate a list of steps to complete the task\n",
    "        var result = await kernel.InvokePromptAsync($\"\"\"\n",
    "        I'm going to write an email to {recipients} about {topic} on behalf of a user.\n",
    "        Before I do that, can you succinctly recommend the top 3 steps I should take in a numbered list?\n",
    "        I want to make sure I don't forget anything that would help my user's email sound more professional.\n",
    "        \"\"\", new() {\n",
    "            { \"topic\", topic },\n",
    "            { \"recipients\", recipients }\n",
    "        });\n",
    "\n",
    "        // Return the plan back to the agent\n",
    "        return result.ToString();\n",
    "    }\n",
    "}"
   ]
  },
  {
   "cell_type": "code",
   "execution_count": 4,
   "metadata": {
    "dotnet_interactive": {
     "language": "csharp"
    },
    "polyglot_notebook": {
     "kernelName": "csharp"
    }
   },
   "outputs": [],
   "source": [
    "using Microsoft.SemanticKernel.ChatCompletion;\n",
    "\n",
    "ChatHistory chatMessages = new ChatHistory(\"\"\"\n",
    "You are a friendly assistant who likes to follow the rules. You will complete required steps\n",
    "and request approval before taking any consequential actions. If the user doesn't provide\n",
    "enough information for you to complete a task, you will keep asking questions until you have\n",
    "enough information to complete the task.\n",
    "\"\"\");"
   ]
  },
  {
   "cell_type": "code",
   "execution_count": 5,
   "metadata": {
    "dotnet_interactive": {
     "language": "csharp"
    },
    "polyglot_notebook": {
     "kernelName": "csharp"
    }
   },
   "outputs": [],
   "source": [
    "builder.Plugins.AddFromType<AuthorEmailPlanner>();\n",
    "builder.Plugins.AddFromType<EmailPlugin>();\n",
    "Kernel kernel = builder.Build();\n",
    "\n",
    "// Retrieve the chat completion service from the kernel\n",
    "IChatCompletionService chatCompletionService = kernel.GetRequiredService<IChatCompletionService>();\n"
   ]
  },
  {
   "cell_type": "code",
   "execution_count": 6,
   "metadata": {
    "dotnet_interactive": {
     "language": "csharp"
    },
    "polyglot_notebook": {
     "kernelName": "csharp"
    }
   },
   "outputs": [
    {
     "name": "stdout",
     "output_type": "stream",
     "text": [
      "User > Assistant > Hello! How can I assist you today?\n",
      "User > Assistant > Sure, I'd be happy to help you write an email. Please provide me with some more information:\n",
      "1. Who is the recipient of the email?\n",
      "2. What is the purpose or subject of the email?\n",
      "3. Are there any specific points or information you want to include in the email?\n",
      "4. Do you have a preferred tone for the email (formal, informal, friendly, professional, etc.)?\n",
      "User > Assistant > Great! To get started on drafting your email about the sales report, could you please provide more specific information regarding:\n",
      "1. Who is the recipient or recipients of the email?\n",
      "2. Do you have a template or format in mind for the sales report email?\n",
      "3. Are there any key details or specific data points that should be included in the sales report?\n",
      "4. Is there a deadline for sending out this email?\n",
      "User > Assistant > Understood. Here is a draft for an email regarding a sales report:\n",
      "\n",
      "Subject: Monthly Sales Report for June 2021\n",
      "\n",
      "Dear Team,\n",
      "\n",
      "I hope this email finds you well. I am pleased to share with you the Monthly Sales Report for June 2021. Below are the key highlights from the report:\n",
      "\n",
      "- Total Sales: $150,000\n",
      "- Top Performing Product: Product A\n",
      "- Sales Growth: 10% compared to last month\n",
      "\n",
      "Please find the detailed report attached for your review. If you have any questions or need further clarification, feel free to reach out to me.\n",
      "\n",
      "Thank you for your hard work and dedication. Let's continue to work together to achieve our sales targets.\n",
      "\n",
      "Best regards,\n",
      "[Your Name]\n",
      "[Your Position]\n",
      "[Your Contact Information]\n",
      "\n",
      "Before sending this email, please review and let me know if any changes are needed or if you'd like to include any specific details.\n",
      "User > Assistant > Certainly! Let's update the draft with a made-up product name:\n",
      "\n",
      "Subject: Monthly Sales Report for June 2021\n",
      "\n",
      "Dear Team,\n",
      "\n",
      "I hope this email finds you well. I am pleased to share with you the Monthly Sales Report for June 2021. Below are the key highlights from the report:\n",
      "\n",
      "- Total Sales: $150,000\n",
      "- Top Performing Product: StellarWidget\n",
      "- Sales Growth: 10% compared to last month\n",
      "\n",
      "Please find the detailed report attached for your review. If you have any questions or need further clarification, feel free to reach out to me.\n",
      "\n",
      "Thank you for your hard work and dedication. Let's continue to work together to achieve our sales targets.\n",
      "\n",
      "Best regards,\n",
      "[Your Name]\n",
      "[Your Position]\n",
      "[Your Contact Information]\n",
      "\n",
      "Please review this draft and let me know if it suits your needs or if you'd like any modifications.\n",
      "User > Assistant > I'm unable to send the email directly as I don't have access to your email account. You can copy the email draft I provided and send it from your email account. If you encounter any issues or need further assistance, feel free to let me know.\n",
      "User > "
     ]
    },
    {
     "ename": "Error",
     "evalue": "Input request cancelled",
     "output_type": "error",
     "traceback": [
      "Input request cancelled"
     ]
    },
    {
     "ename": "Error",
     "evalue": "System.Exception: Input request cancelled\n   at Microsoft.DotNet.Interactive.Kernel.GetInputAsync(String prompt, Boolean isPassword, String typeHint, String valueName) in D:\\a\\_work\\1\\s\\src\\Microsoft.DotNet.Interactive\\Kernel.Static.cs:line 72\n   at Microsoft.DotNet.Interactive.Kernel.GetInputAsync(String prompt, String typeHint, String valueName) in D:\\a\\_work\\1\\s\\src\\Microsoft.DotNet.Interactive\\Kernel.Static.cs:line 46\n   at Submission#9.<<Initialize>>d__0.MoveNext()\n--- End of stack trace from previous location ---\n   at Microsoft.CodeAnalysis.Scripting.ScriptExecutionState.RunSubmissionsAsync[TResult](ImmutableArray`1 precedingExecutors, Func`2 currentExecutor, StrongBox`1 exceptionHolderOpt, Func`2 catchExceptionOpt, CancellationToken cancellationToken)",
     "output_type": "error",
     "traceback": [
      "System.Exception: Input request cancelled\n",
      "   at Microsoft.DotNet.Interactive.Kernel.GetInputAsync(String prompt, Boolean isPassword, String typeHint, String valueName) in D:\\a\\_work\\1\\s\\src\\Microsoft.DotNet.Interactive\\Kernel.Static.cs:line 72\n",
      "   at Microsoft.DotNet.Interactive.Kernel.GetInputAsync(String prompt, String typeHint, String valueName) in D:\\a\\_work\\1\\s\\src\\Microsoft.DotNet.Interactive\\Kernel.Static.cs:line 46\n",
      "   at Submission#9.<<Initialize>>d__0.MoveNext()\n",
      "--- End of stack trace from previous location ---\n",
      "   at Microsoft.CodeAnalysis.Scripting.ScriptExecutionState.RunSubmissionsAsync[TResult](ImmutableArray`1 precedingExecutors, Func`2 currentExecutor, StrongBox`1 exceptionHolderOpt, Func`2 catchExceptionOpt, CancellationToken cancellationToken)"
     ]
    }
   ],
   "source": [
    "// Start the conversation\n",
    "while (true)\n",
    "{\n",
    "    // Get user input\n",
    "    System.Console.Write(\"User > \");\n",
    "    var userMessage = await InteractiveKernel.GetInputAsync(\"Your message\");\n",
    "    chatMessages.AddUserMessage(userMessage);\n",
    "\n",
    "    // Get the chat completions\n",
    "    OpenAIPromptExecutionSettings openAIPromptExecutionSettings = new()\n",
    "    {\n",
    "        //FunctionCallBehavior = FunctionCallBehavior.AutoInvokeKernelFunctions\n",
    "    };\n",
    "    var result = chatCompletionService.GetStreamingChatMessageContentsAsync(\n",
    "        chatMessages,\n",
    "        executionSettings: openAIPromptExecutionSettings,\n",
    "        kernel: kernel);\n",
    "\n",
    "    // Stream the results\n",
    "    string fullMessage = \"\";\n",
    "    await foreach (var content in result)\n",
    "    {\n",
    "        if (content.Role.HasValue)\n",
    "        {\n",
    "            System.Console.Write(\"Assistant > \");\n",
    "        }\n",
    "        System.Console.Write(content.Content);\n",
    "        fullMessage += content.Content;\n",
    "    }\n",
    "    System.Console.WriteLine();\n",
    "\n",
    "    // Add the message from the agent to the chat history\n",
    "    chatMessages.AddAssistantMessage(fullMessage);\n",
    "}"
   ]
  },
  {
   "cell_type": "code",
   "execution_count": null,
   "metadata": {
    "dotnet_interactive": {
     "language": "csharp"
    },
    "polyglot_notebook": {
     "kernelName": "csharp"
    }
   },
   "outputs": [],
   "source": []
  },
  {
   "cell_type": "code",
   "execution_count": null,
   "metadata": {
    "dotnet_interactive": {
     "language": "csharp"
    },
    "polyglot_notebook": {
     "kernelName": "csharp"
    }
   },
   "outputs": [],
   "source": []
  }
 ],
 "metadata": {
  "kernelspec": {
   "display_name": ".NET (C#)",
   "language": "C#",
   "name": ".net-csharp"
  },
  "language_info": {
   "name": "polyglot-notebook"
  },
  "polyglot_notebook": {
   "kernelInfo": {
    "defaultKernelName": "csharp",
    "items": [
     {
      "aliases": [],
      "name": "csharp"
     }
    ]
   }
  }
 },
 "nbformat": 4,
 "nbformat_minor": 2
}
