{
 "cells": [
  {
   "attachments": {},
   "cell_type": "markdown",
   "metadata": {},
   "source": [
    "# Introduction to a Copilot\n",
    "\n",
    "An agent is an artificial intelligence that can answer questions and automate processes for users.\n",
    "\n",
    "Semantic Kernel offers tools to build AI agents, ranging from basic chatbots to advanced AI assistants, without needing deep AI expertise. \n",
    "\n",
    "Copilot agent - Unlike fully automated agents, copilots work alongside users, aiding in tasks like writing emails by offering suggestions that users can accept or reject. This approach keeps the user in control, making copilots simpler and safer to develop. As proficiency grows, one can evolve these copilots into fully automated agents by minimizing user input.\n",
    "\n",
    "\n",
    "![types of agents](./image/types-of-agents.png)\n",
    "\n",
    "There are 3 core building blocks\n",
    "\n",
    "![plugins, planners, personas](./image/plugins-planners-personas.png)"
   ]
  },
  {
   "cell_type": "code",
   "execution_count": 3,
   "metadata": {
    "dotnet_interactive": {
     "language": "csharp"
    },
    "polyglot_notebook": {
     "kernelName": "csharp"
    }
   },
   "outputs": [
    {
     "data": {
      "text/html": [
       "<div><div></div><div></div><div><strong>Installed Packages</strong><ul><li><span>Microsoft.Extensions.Logging, 8.0.0</span></li><li><span>Microsoft.SemanticKernel, 1.16.0</span></li><li><span>Microsoft.SemanticKernel.Plugins.Core, 1.16.0-alpha</span></li></ul></div></div>"
      ]
     },
     "metadata": {},
     "output_type": "display_data"
    }
   ],
   "source": [
    "#r \"nuget: Microsoft.SemanticKernel, 1.16.0\"\n",
    "#r \"nuget: Microsoft.SemanticKernel.Plugins.Core, 1.16.0-alpha\"\n",
    "#r \"nuget: Microsoft.Extensions.Logging, 8.0.0\"\n",
    "\n",
    "#!import config/Settings.cs\n",
    "#!import config/Utils.cs\n",
    "\n",
    "using Microsoft.SemanticKernel;\n",
    "using Microsoft.SemanticKernel.Plugins.Core;\n",
    "using Microsoft.SemanticKernel.Connectors.OpenAI;\n",
    "using System.ComponentModel;\n",
    "using System.Globalization;\n",
    "using Microsoft.Extensions.DependencyInjection;\n",
    "using Microsoft.Extensions.Logging;\n",
    "\n",
    "using Kernel = Microsoft.SemanticKernel.Kernel;\n",
    "\n",
    "var builder = Kernel.CreateBuilder();\n",
    "\n",
    "// Configure AI backend used by the kernel\n",
    "var (useAzureOpenAI, model, azureEndpoint, apiKey, orgId) = Settings.LoadFromFile();\n",
    "\n",
    "if (useAzureOpenAI)\n",
    "    builder.AddAzureOpenAIChatCompletion(model, azureEndpoint, apiKey);\n",
    "else\n",
    "    builder.AddOpenAIChatCompletion(model, apiKey, orgId);\n",
    "\n",
    "builder.Services.AddLogging(c => c.SetMinimumLevel(LogLevel.Information));\n",
    "\n",
    "\n",
    "// var kernel = builder.Build();"
   ]
  },
  {
   "cell_type": "code",
   "execution_count": 4,
   "metadata": {
    "dotnet_interactive": {
     "language": "csharp"
    },
    "polyglot_notebook": {
     "kernelName": "csharp"
    }
   },
   "outputs": [],
   "source": [
    "public class EmailPlugin\n",
    "{\n",
    "    [KernelFunction]\n",
    "    [Description(\"Sends an email to a recipient.\")]\n",
    "    public async Task SendEmailAsync(\n",
    "        Kernel kernel,\n",
    "        [Description(\"Semicolon delimitated list of emails of the recipients\")] string recipientEmails,\n",
    "        string subject,\n",
    "        string body\n",
    "    )\n",
    "    {\n",
    "        // Add logic to send an email using the recipientEmails, subject, and body\n",
    "        // For now, we'll just print out a success message to the console\n",
    "        Console.WriteLine(\"Email sent!\");\n",
    "    }\n",
    "}"
   ]
  },
  {
   "cell_type": "code",
   "execution_count": 5,
   "metadata": {
    "dotnet_interactive": {
     "language": "csharp"
    },
    "polyglot_notebook": {
     "kernelName": "csharp"
    }
   },
   "outputs": [],
   "source": [
    "public class AuthorEmailPlanner\n",
    "{\n",
    "    [KernelFunction]\n",
    "    [Description(\"Returns back the required steps necessary to author an email.\")]\n",
    "    [return: Description(\"The list of steps needed to author an email\")]\n",
    "    public async Task<string> GenerateRequiredStepsAsync(\n",
    "        Kernel kernel,\n",
    "        [Description(\"A 2-3 sentence description of what the email should be about\")] string topic,\n",
    "        [Description(\"A description of the recipients\")] string recipients\n",
    "    )\n",
    "    {\n",
    "        // Prompt the LLM to generate a list of steps to complete the task\n",
    "        var result = await kernel.InvokePromptAsync($\"\"\"\n",
    "        I'm going to write an email to {recipients} about {topic} on behalf of a user.\n",
    "        Before I do that, can you succinctly recommend the top 3 steps I should take in a numbered list?\n",
    "        I want to make sure I don't forget anything that would help my user's email sound more professional.\n",
    "        \"\"\", new() {\n",
    "            { \"topic\", topic },\n",
    "            { \"recipients\", recipients }\n",
    "        });\n",
    "\n",
    "        // Return the plan back to the agent\n",
    "        return result.ToString();\n",
    "    }\n",
    "}"
   ]
  },
  {
   "cell_type": "code",
   "execution_count": 6,
   "metadata": {
    "dotnet_interactive": {
     "language": "csharp"
    },
    "polyglot_notebook": {
     "kernelName": "csharp"
    }
   },
   "outputs": [],
   "source": [
    "using Microsoft.SemanticKernel.ChatCompletion;\n",
    "\n",
    "ChatHistory chatMessages = new ChatHistory(\"\"\"\n",
    "You are a friendly assistant who likes to follow the rules. You will complete required steps\n",
    "and request approval before taking any consequential actions. If the user doesn't provide\n",
    "enough information for you to complete a task, you will keep asking questions until you have\n",
    "enough information to complete the task.\n",
    "\"\"\");"
   ]
  },
  {
   "cell_type": "code",
   "execution_count": 7,
   "metadata": {
    "dotnet_interactive": {
     "language": "csharp"
    },
    "polyglot_notebook": {
     "kernelName": "csharp"
    }
   },
   "outputs": [],
   "source": [
    "builder.Plugins.AddFromType<AuthorEmailPlanner>();\n",
    "builder.Plugins.AddFromType<EmailPlugin>();\n",
    "Kernel kernel = builder.Build();\n",
    "\n",
    "// Retrieve the chat completion service from the kernel\n",
    "IChatCompletionService chatCompletionService = kernel.GetRequiredService<IChatCompletionService>();\n"
   ]
  },
  {
   "cell_type": "code",
   "execution_count": 8,
   "metadata": {
    "dotnet_interactive": {
     "language": "csharp"
    },
    "polyglot_notebook": {
     "kernelName": "csharp"
    }
   },
   "outputs": [
    {
     "name": "stdout",
     "output_type": "stream",
     "text": [
      "User > Assistant > Assistant > HelloAssistant > !Assistant >  HowAssistant >  canAssistant >  IAssistant >  assistAssistant >  youAssistant >  todayAssistant > ?Assistant > \n",
      "User > Assistant > Assistant > HiAssistant > !Assistant >  HowAssistant >  canAssistant >  IAssistant >  helpAssistant >  youAssistant >  todayAssistant > ?Assistant > \n",
      "User > "
     ]
    },
    {
     "ename": "Error",
     "evalue": "Input request cancelled",
     "output_type": "error",
     "traceback": [
      "Input request cancelled"
     ]
    },
    {
     "ename": "Error",
     "evalue": "System.Exception: Input request cancelled\r\n   at Microsoft.DotNet.Interactive.Kernel.GetInputAsync(String prompt, Boolean isPassword, String typeHint, String valueName) in D:\\a\\_work\\1\\s\\src\\Microsoft.DotNet.Interactive\\Kernel.Static.cs:line 72\r\n   at Microsoft.DotNet.Interactive.Kernel.GetInputAsync(String prompt, String typeHint, String valueName) in D:\\a\\_work\\1\\s\\src\\Microsoft.DotNet.Interactive\\Kernel.Static.cs:line 46\r\n   at Submission#9.<<Initialize>>d__0.MoveNext()\r\n--- End of stack trace from previous location ---\r\n   at Microsoft.CodeAnalysis.Scripting.ScriptExecutionState.RunSubmissionsAsync[TResult](ImmutableArray`1 precedingExecutors, Func`2 currentExecutor, StrongBox`1 exceptionHolderOpt, Func`2 catchExceptionOpt, CancellationToken cancellationToken)",
     "output_type": "error",
     "traceback": [
      "System.Exception: Input request cancelled\r\n",
      "   at Microsoft.DotNet.Interactive.Kernel.GetInputAsync(String prompt, Boolean isPassword, String typeHint, String valueName) in D:\\a\\_work\\1\\s\\src\\Microsoft.DotNet.Interactive\\Kernel.Static.cs:line 72\r\n",
      "   at Microsoft.DotNet.Interactive.Kernel.GetInputAsync(String prompt, String typeHint, String valueName) in D:\\a\\_work\\1\\s\\src\\Microsoft.DotNet.Interactive\\Kernel.Static.cs:line 46\r\n",
      "   at Submission#9.<<Initialize>>d__0.MoveNext()\r\n",
      "--- End of stack trace from previous location ---\r\n",
      "   at Microsoft.CodeAnalysis.Scripting.ScriptExecutionState.RunSubmissionsAsync[TResult](ImmutableArray`1 precedingExecutors, Func`2 currentExecutor, StrongBox`1 exceptionHolderOpt, Func`2 catchExceptionOpt, CancellationToken cancellationToken)"
     ]
    }
   ],
   "source": [
    "// Start the conversation\n",
    "while (true)\n",
    "{\n",
    "    // Get user input\n",
    "    System.Console.Write(\"User > \");\n",
    "    var userMessage = await InteractiveKernel.GetInputAsync(\"Your message\");\n",
    "    chatMessages.AddUserMessage(userMessage);\n",
    "\n",
    "    // Get the chat completions\n",
    "    OpenAIPromptExecutionSettings openAIPromptExecutionSettings = new()\n",
    "    {\n",
    "        //FunctionCallBehavior = FunctionCallBehavior.AutoInvokeKernelFunctions\n",
    "    };\n",
    "    var result = chatCompletionService.GetStreamingChatMessageContentsAsync(\n",
    "        chatMessages,\n",
    "        executionSettings: openAIPromptExecutionSettings,\n",
    "        kernel: kernel);\n",
    "\n",
    "    // Stream the results\n",
    "    string fullMessage = \"\";\n",
    "    await foreach (var content in result)\n",
    "    {\n",
    "        if (content.Role.HasValue)\n",
    "        {\n",
    "            System.Console.Write(\"Assistant > \");\n",
    "        }\n",
    "        System.Console.Write(content.Content);\n",
    "        fullMessage += content.Content;\n",
    "    }\n",
    "    System.Console.WriteLine();\n",
    "\n",
    "    // Add the message from the agent to the chat history\n",
    "    chatMessages.AddAssistantMessage(fullMessage);\n",
    "}"
   ]
  },
  {
   "cell_type": "code",
   "execution_count": null,
   "metadata": {
    "dotnet_interactive": {
     "language": "csharp"
    },
    "polyglot_notebook": {
     "kernelName": "csharp"
    }
   },
   "outputs": [],
   "source": []
  },
  {
   "cell_type": "code",
   "execution_count": null,
   "metadata": {
    "dotnet_interactive": {
     "language": "csharp"
    },
    "polyglot_notebook": {
     "kernelName": "csharp"
    }
   },
   "outputs": [],
   "source": []
  },
  {
   "cell_type": "code",
   "execution_count": null,
   "metadata": {
    "dotnet_interactive": {
     "language": "csharp"
    },
    "polyglot_notebook": {
     "kernelName": "csharp"
    }
   },
   "outputs": [],
   "source": []
  }
 ],
 "metadata": {
  "kernelspec": {
   "display_name": ".NET (C#)",
   "language": "C#",
   "name": ".net-csharp"
  },
  "language_info": {
   "name": "polyglot-notebook"
  },
  "polyglot_notebook": {
   "kernelInfo": {
    "defaultKernelName": "csharp",
    "items": [
     {
      "aliases": [],
      "name": "csharp"
     }
    ]
   }
  }
 },
 "nbformat": 4,
 "nbformat_minor": 2
}
