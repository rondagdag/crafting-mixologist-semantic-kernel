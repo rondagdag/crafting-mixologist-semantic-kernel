{
 "cells": [
  {
   "attachments": {},
   "cell_type": "markdown",
   "metadata": {},
   "source": [
    "# Running Native and Semantic Functions Inline"
   ]
  },
  {
   "attachments": {},
   "cell_type": "markdown",
   "metadata": {},
   "source": [
    "\n",
    "* Let's dynamically generate the prompt using complex rules at runtime\n",
    "* Writing prompts by editing C# code instead of TXT files. \n",
    "* Easily creating demos, like this document\n",
    "\n",
    "For now we'll use only the `{{$input}}` variable, and see more complex templates later.\n"
   ]
  },
  {
   "attachments": {},
   "cell_type": "markdown",
   "metadata": {},
   "source": [
    "Prepare a semantic kernel instance first, loading also the AI backend settings defined in the [Setup notebook](0-AI-settings.ipynb):"
   ]
  },
  {
   "cell_type": "code",
   "execution_count": 1,
   "metadata": {
    "dotnet_interactive": {
     "language": "csharp"
    },
    "polyglot_notebook": {
     "kernelName": "csharp"
    }
   },
   "outputs": [
    {
     "data": {
      "text/html": [
       "<div><div></div><div></div><div><strong>Installed Packages</strong><ul><li><span>Microsoft.SemanticKernel, 1.16.0</span></li><li><span>Microsoft.SemanticKernel.Plugins.Core, 1.16.0-alpha</span></li></ul></div></div>"
      ]
     },
     "metadata": {},
     "output_type": "display_data"
    }
   ],
   "source": [
    "#r \"nuget: Microsoft.SemanticKernel, 1.16.0\"\n",
    "#r \"nuget: Microsoft.SemanticKernel.Plugins.Core, 1.16.0-alpha\"\n",
    "\n",
    "#!import config/Settings.cs\n",
    "#!import config/Utils.cs\n",
    "\n",
    "using Microsoft.SemanticKernel;\n",
    "using Microsoft.SemanticKernel.Connectors.OpenAI;\n",
    "using Microsoft.SemanticKernel.TemplateEngine;\n",
    "using Microsoft.SemanticKernel.Plugins.Core;\n",
    "using Kernel = Microsoft.SemanticKernel.Kernel;\n",
    "using System.Globalization;\n",
    "\n",
    "var builder = Kernel.CreateBuilder();\n",
    "\n",
    "// Configure AI service credentials used by the kernel\n",
    "var (useAzureOpenAI, model, azureEndpoint, apiKey, orgId) = Settings.LoadFromFile();\n",
    "\n",
    "if (useAzureOpenAI)\n",
    "    builder.AddAzureOpenAIChatCompletion(model, azureEndpoint, apiKey);\n",
    "else\n",
    "    builder.AddOpenAIChatCompletion(model, apiKey, orgId);\n",
    "\n",
    "var kernel = builder.Build();"
   ]
  },
  {
   "cell_type": "code",
   "execution_count": 2,
   "metadata": {
    "dotnet_interactive": {
     "language": "csharp"
    },
    "polyglot_notebook": {
     "kernelName": "csharp"
    }
   },
   "outputs": [
    {
     "name": "stdout",
     "output_type": "stream",
     "text": [
      "Today is Sunday, October 24th, 2021.\n"
     ]
    }
   ],
   "source": [
    "\n",
    "var result = await kernel.InvokePromptAsync(\"What is today?\");\n",
    "Console.WriteLine($\"{result}\");"
   ]
  },
  {
   "attachments": {},
   "cell_type": "markdown",
   "metadata": {},
   "source": [
    "create a semantic function used to summarize content, be a pirate:"
   ]
  },
  {
   "cell_type": "code",
   "execution_count": 3,
   "metadata": {
    "dotnet_interactive": {
     "language": "csharp"
    },
    "polyglot_notebook": {
     "kernelName": "csharp"
    }
   },
   "outputs": [
    {
     "name": "stdout",
     "output_type": "stream",
     "text": [
      "string -> Today is: Monday\n"
     ]
    }
   ],
   "source": [
    "// Specify and get the value type as generic parameter\n",
    "\n",
    "#!import plugins/StaticTextPlugin.cs\n",
    "\n",
    "var textPlugin = kernel.ImportPluginFromType<StaticTextPlugin>();\n",
    "\n",
    "var args = new KernelArguments()\n",
    "        {\n",
    "            [\"input\"] = \"Today is: \",\n",
    "            [\"day\"] = DateTimeOffset.Now.ToString(\"dddd\", CultureInfo.CurrentCulture)\n",
    "        };\n",
    "string? resultValue = await kernel.InvokeAsync<string>(textPlugin[\"AppendDay\"], args);\n",
    "Console.WriteLine($\"string -> {resultValue}\");"
   ]
  },
  {
   "cell_type": "code",
   "execution_count": 4,
   "metadata": {
    "dotnet_interactive": {
     "language": "csharp"
    },
    "polyglot_notebook": {
     "kernelName": "csharp"
    }
   },
   "outputs": [
    {
     "name": "stdout",
     "output_type": "stream",
     "text": [
      "string -> TODAY IS: MONDAY\n"
     ]
    }
   ],
   "source": [
    "var args = new KernelArguments()\n",
    "        {\n",
    "            [\"input\"] = resultValue,\n",
    "        };\n",
    "\n",
    "FunctionResult functionResult = await kernel.InvokeAsync(textPlugin[\"Uppercase\"], args);\n",
    "\n",
    "Console.WriteLine($\"string -> {functionResult}\");"
   ]
  },
  {
   "cell_type": "markdown",
   "metadata": {},
   "source": [
    "Load native plugin into the kernel function collection, sharing its functions with prompt templates"
   ]
  },
  {
   "cell_type": "code",
   "execution_count": 5,
   "metadata": {
    "dotnet_interactive": {
     "language": "csharp"
    },
    "polyglot_notebook": {
     "kernelName": "csharp"
    }
   },
   "outputs": [],
   "source": [
    "#pragma warning disable SKEXP0050\n",
    "kernel.ImportPluginFromType<TimePlugin>(\"time\");"
   ]
  },
  {
   "cell_type": "markdown",
   "metadata": {},
   "source": [
    "Load using Prompt Template"
   ]
  },
  {
   "cell_type": "code",
   "execution_count": 6,
   "metadata": {
    "dotnet_interactive": {
     "language": "csharp"
    },
    "polyglot_notebook": {
     "kernelName": "csharp"
    }
   },
   "outputs": [
    {
     "name": "stdout",
     "output_type": "stream",
     "text": [
      "--- Rendered Prompt\n",
      "\n",
      "Today is: Monday, 22 July 2024\n",
      "Current time is: 05:58:37 PM\n",
      "\n",
      "Answer to the following questions using JSON syntax, including the data used.\n",
      "Is it morning, afternoon, evening, or night (morning/afternoon/evening/night)?\n",
      "Is it weekend time (weekend/not weekend)?\n",
      "What cocktail drink is appropriate?\n",
      "\n"
     ]
    }
   ],
   "source": [
    "\n",
    "// Prompt Function invoking time.Date and time.Time method functions\n",
    "const string FunctionDefinition = @\"\n",
    "Today is: {{time.Date}}\n",
    "Current time is: {{time.Time}}\n",
    "\n",
    "Answer to the following questions using JSON syntax, including the data used.\n",
    "Is it morning, afternoon, evening, or night (morning/afternoon/evening/night)?\n",
    "Is it weekend time (weekend/not weekend)?\n",
    "What cocktail drink is appropriate?\n",
    "\";\n",
    "\n",
    "// This allows to see the prompt before it's sent to OpenAI\n",
    "Console.WriteLine(\"--- Rendered Prompt\");\n",
    "var promptTemplateFactory = new KernelPromptTemplateFactory();\n",
    "var promptTemplate = promptTemplateFactory.Create(new PromptTemplateConfig(FunctionDefinition));\n",
    "var renderedPrompt = await promptTemplate.RenderAsync(kernel);\n",
    "Console.WriteLine(renderedPrompt);\n"
   ]
  },
  {
   "cell_type": "code",
   "execution_count": 7,
   "metadata": {
    "dotnet_interactive": {
     "language": "csharp"
    },
    "polyglot_notebook": {
     "kernelName": "csharp"
    }
   },
   "outputs": [],
   "source": [
    "// Run the prompt / prompt function\n",
    "var kindOfDay = kernel.CreateFunctionFromPrompt(FunctionDefinition, new OpenAIPromptExecutionSettings() { MaxTokens = 100 });\n"
   ]
  },
  {
   "cell_type": "code",
   "execution_count": 8,
   "metadata": {
    "dotnet_interactive": {
     "language": "csharp"
    },
    "polyglot_notebook": {
     "kernelName": "csharp"
    }
   },
   "outputs": [
    {
     "name": "stdout",
     "output_type": "stream",
     "text": [
      "--- Prompt Function result\n",
      "{\n",
      "  \"currentDateTime\": \"Monday, 22 July 2024 05:58:39 PM\",\n",
      "  \"timeOfDay\": \"evening\",\n",
      "  \"isWeekend\": \"not weekend\",\n",
      "  \"cocktailDrink\": \"A classic Mojito\"\n",
      "}\n"
     ]
    }
   ],
   "source": [
    " // Show the result\n",
    "Console.WriteLine(\"--- Prompt Function result\");\n",
    "var result = await kernel.InvokeAsync(kindOfDay);\n",
    "Console.WriteLine(result.GetValue<string>());"
   ]
  },
  {
   "cell_type": "code",
   "execution_count": 9,
   "metadata": {
    "dotnet_interactive": {
     "language": "csharp"
    },
    "polyglot_notebook": {
     "kernelName": "csharp"
    }
   },
   "outputs": [],
   "source": [
    "private void PrintFunction(KernelFunctionMetadata func)\n",
    "{\n",
    "    Console.WriteLine($\"Plugin: {func.PluginName}\");\n",
    "    Console.WriteLine($\"   {func.Name}: {func.Description}\");\n",
    "\n",
    "    if (func.Parameters.Count > 0)\n",
    "    {\n",
    "        Console.WriteLine(\"      Params:\");\n",
    "        foreach (var p in func.Parameters)\n",
    "        {\n",
    "            Console.WriteLine($\"      - {p.Name}: {p.Description}\");\n",
    "            Console.WriteLine($\"        default: '{p.DefaultValue}'\");\n",
    "        }\n",
    "    }\n",
    "\n",
    "    Console.WriteLine();\n",
    "}\n",
    "\n"
   ]
  },
  {
   "cell_type": "code",
   "execution_count": 10,
   "metadata": {
    "dotnet_interactive": {
     "language": "csharp"
    },
    "polyglot_notebook": {
     "kernelName": "csharp"
    }
   },
   "outputs": [
    {
     "name": "stdout",
     "output_type": "stream",
     "text": [
      "Plugin: StaticTextPlugin\n",
      "   Uppercase: Change all string chars to uppercase\n",
      "      Params:\n",
      "      - input: Text to uppercase\n",
      "        default: ''\n",
      "\n",
      "Plugin: StaticTextPlugin\n",
      "   AppendDay: Append the day variable\n",
      "      Params:\n",
      "      - input: Text to append to\n",
      "        default: ''\n",
      "      - day: Value of the day to append\n",
      "        default: ''\n",
      "\n",
      "Plugin: time\n",
      "   Date: Get the current date\n",
      "\n",
      "Plugin: time\n",
      "   Today: Get the current date\n",
      "\n",
      "Plugin: time\n",
      "   Now: Get the current date and time in the local time zone\n",
      "\n",
      "Plugin: time\n",
      "   UtcNow: Get the current UTC date and time\n",
      "\n",
      "Plugin: time\n",
      "   Time: Get the current time\n",
      "\n",
      "Plugin: time\n",
      "   Year: Get the current year\n",
      "\n",
      "Plugin: time\n",
      "   Month: Get the current month name\n",
      "\n",
      "Plugin: time\n",
      "   MonthNumber: Get the current month number\n",
      "\n",
      "Plugin: time\n",
      "   Day: Get the current day of the month\n",
      "\n",
      "Plugin: time\n",
      "   DaysAgo: Get the date offset by a provided number of days from today\n",
      "      Params:\n",
      "      - input: The number of days to offset from today\n",
      "        default: ''\n",
      "\n",
      "Plugin: time\n",
      "   DayOfWeek: Get the current day of the week\n",
      "\n",
      "Plugin: time\n",
      "   Hour: Get the current clock hour\n",
      "\n",
      "Plugin: time\n",
      "   HourNumber: Get the current clock 24-hour number\n",
      "\n",
      "Plugin: time\n",
      "   DateMatchingLastDayName: Get the date of the last day matching the supplied week day name in English. Example: Che giorno era 'Martedi' scorso -> dateMatchingLastDayName 'Tuesday' => Tuesday, 16 May, 2023\n",
      "      Params:\n",
      "      - input: The day name to match\n",
      "        default: ''\n",
      "\n",
      "Plugin: time\n",
      "   Minute: Get the minutes on the current hour\n",
      "\n",
      "Plugin: time\n",
      "   Second: Get the seconds on the current minute\n",
      "\n",
      "Plugin: time\n",
      "   TimeZoneOffset: Get the local time zone offset from UTC\n",
      "\n",
      "Plugin: time\n",
      "   TimeZoneName: Get the local time zone name\n",
      "\n"
     ]
    }
   ],
   "source": [
    "var functions = kernel.Plugins.GetFunctionsMetadata();       \n",
    "foreach (KernelFunctionMetadata func in functions)\n",
    "{\n",
    "    PrintFunction(func);\n",
    "}"
   ]
  },
  {
   "cell_type": "code",
   "execution_count": 11,
   "metadata": {
    "dotnet_interactive": {
     "language": "csharp"
    },
    "polyglot_notebook": {
     "kernelName": "csharp"
    }
   },
   "outputs": [
    {
     "data": {
      "text/html": [
       "<div><div></div><div></div><div><strong>Installed Packages</strong><ul><li><span>Microsoft.SemanticKernel.Plugins.OpenApi, 1.16.0-alpha</span></li></ul></div></div>"
      ]
     },
     "metadata": {},
     "output_type": "display_data"
    }
   ],
   "source": [
    "#r \"nuget: Microsoft.SemanticKernel.Plugins.OpenApi, 1.16.0-alpha\"\n"
   ]
  },
  {
   "cell_type": "markdown",
   "metadata": {},
   "source": [
    "Ability to import plugins from OpenAPI"
   ]
  },
  {
   "cell_type": "code",
   "execution_count": 15,
   "metadata": {
    "dotnet_interactive": {
     "language": "csharp"
    },
    "polyglot_notebook": {
     "kernelName": "csharp"
    }
   },
   "outputs": [],
   "source": [
    "#pragma warning disable SKEXP0042, SKEXP0040\n",
    "using Microsoft.SemanticKernel.Plugins.OpenApi;\n",
    "\n",
    "var apiPluginFile = \"./specs/drinkmaestro.space.yaml\";\n",
    "var cocktailFunctions = await kernel.ImportPluginFromOpenApiAsync(\n",
    "    \"cocktailPlugin\",\n",
    "    apiPluginFile\n",
    ");"
   ]
  },
  {
   "cell_type": "code",
   "execution_count": 16,
   "metadata": {
    "dotnet_interactive": {
     "language": "csharp"
    },
    "polyglot_notebook": {
     "kernelName": "csharp"
    }
   },
   "outputs": [
    {
     "data": {
      "text/html": [
       "<details open=\"open\" class=\"dni-treeview\"><summary><span class=\"dni-code-hint\"><code>{&quot;Data: &quot;:{&quot;drinks&quot;:[{&quot;dateModified&quot;:&quot;2017-11-01 17:35:26&quot;,&quot;idDrink&quot;:&quot;17241&quot;,&quot;strAlcoholic&quot;:&quot;Alcoholic&quot;,&quot;strCategory&quot;:&quot;Cocktail&quot;,&quot;strCreativeCommonsConfirmed&quot;:&quot;No&quot;,&quot;strDrink&quot;:&quot;Zombie&quot;,&quot;strDrinkAlternate&quot;:null,&quot;strDrinkThumb&quot;:&quot;https://www.thecocktaildb.com/images/media/drink/2en3jk1509557725.jpg&quot;,&quot;st...</code></span></summary><div><table><thead><tr></tr></thead><tbody><tr><td>Content</td><td><div class=\"dni-plaintext\"><pre>{&quot;Data: &quot;:{&quot;drinks&quot;:[{&quot;dateModified&quot;:&quot;2017-11-01 17:35:26&quot;,&quot;idDrink&quot;:&quot;17241&quot;,&quot;strAlcoholic&quot;:&quot;Alcoholic&quot;,&quot;strCategory&quot;:&quot;Cocktail&quot;,&quot;strCreativeCommonsConfirmed&quot;:&quot;No&quot;,&quot;strDrink&quot;:&quot;Zombie&quot;,&quot;strDrinkAlternate&quot;:null,&quot;strDrinkThumb&quot;:&quot;https://www.thecocktaildb.com/images/media/drink/2en3jk1509557725.jpg&quot;,&quot;strGlass&quot;:&quot;Hurricane glass&quot;,&quot;strIBA&quot;:null,&quot;strImageAttribution&quot;:null,&quot;strImageSource&quot;:null,&quot;strIngredient1&quot;:&quot;Rum&quot;,&quot;strIngredient10&quot;:null,&quot;strIngredient11&quot;:null,&quot;strIngredient12&quot;:null,&quot;strIngredient13&quot;:null,&quot;strIngredient14&quot;:null,&quot;strIngredient15&quot;:null,&quot;strIngredient2&quot;:&quot;Gold rum&quot;,&quot;strIngredient3&quot;:&quot;151 proof rum&quot;,&quot;strIngredient4&quot;:&quot;Pernod&quot;,&quot;strIngredient5&quot;:&quot;Grenadine&quot;,&quot;strIngredient6&quot;:&quot;Lime Juice&quot;,&quot;strIngredient7&quot;:&quot;Angostura Bitters&quot;,&quot;strIngredient8&quot;:null,&quot;strIngredient9&quot;:null,&quot;strInstructions&quot;:&quot;\\r\\nBlend at high speed for no more than 5 seconds.\\r\\n\\r\\nPour into a glass, add ice cubes to fill, then add the garnish.\\r\\n\\r\\n*Donn\\u2019s mix: Bring 3 crushed cinnamon sticks, 1 cup of sugar and 1 cup of water to a boil, stirring until the sugar is dissolved.\\r\\n\\r\\nSimmer for 2 minutes, then remove from the heat and let sit for at least 2 hours before straining into a clean glass bottle.\\r\\n\\r\\nThen add 1 part of the syrup and 2 parts of fresh grapefruit juice together.&quot;,&quot;strInstructionsDE&quot;:&quot;Mixen Sie mit hoher Geschwindigkeit f\\u00fcr nicht mehr als 5 Sekunden. In ein Glas gie\\u00dfen, Eisw\\u00fcrfel zum F\\u00fcllen hinzuf\\u00fcgen, dann die Garnitur hinzuf\\u00fcgen. *Donnas Mix: 3 zerdr\\u00fcckte Zimtstangen, 1 Tasse Zucker und 1 Tasse Wasser unter R\\u00fchren zum Kochen bringen, bis der Zucker gel\\u00f6st ist. 2 Minuten k\\u00f6cheln lassen, dann vom Herd nehmen und mindestens 2 Stunden ruhen lassen, bevor man in eine saubere Glasflasche abseiht. Dann 1 Teil des Sirups und 2 Teile frischen Grapefruitsaft dazugeben.&quot;,&quot;strInstructionsES&quot;:null,&quot;strInstructionsFR&quot;:null,&quot;strInstructionsIT&quot;:&quot;Frullare ad alta velocit\\u00e0 per non pi\\u00f9 di 5 secondi.\\r\\nVersare in un bicchiere, aggiungere i cubetti di ghiaccio per farcire, quindi aggiungere la guarnizione.\\r\\n* Preparato per Donn: porta a ebollizione 3 bastoncini di cannella tritati, 1 tazza di zucchero e 1 tazza di acqua, mescolando fino a quando lo zucchero si \\u00e8 sciolto.\\r\\nCuocere a fuoco lento per 2 minuti, quindi togliere dal fuoco e lasciare riposare per almeno 2 ore prima di filtrare in una bottiglia di vetro pulita.\\r\\nQuindi aggiungere 1 parte di sciroppo e 2 parti di succo di pompelmo fresco insieme.&quot;,&quot;strInstructionsZH-HANS&quot;:null,&quot;strInstructionsZH-HANT&quot;:null,&quot;strMeasure1&quot;:&quot;1 1/2 oz&quot;,&quot;strMeasure10&quot;:null,&quot;strMeasure11&quot;:null,&quot;strMeasure12&quot;:null,&quot;strMeasure13&quot;:null,&quot;strMeasure14&quot;:null,&quot;strMeasure15&quot;:null,&quot;strMeasure2&quot;:&quot;1 1/2 oz&quot;,&quot;strMeasure3&quot;:&quot;1 oz&quot;,&quot;strMeasure4&quot;:&quot;1 tsp&quot;,&quot;strMeasure5&quot;:&quot;1 tsp&quot;,&quot;strMeasure6&quot;:&quot;1 tsp&quot;,&quot;strMeasure7&quot;:&quot;1 drop&quot;,&quot;strMeasure8&quot;:null,&quot;strMeasure9&quot;:null,&quot;strTags&quot;:null,&quot;strVideo&quot;:null}]},&quot;Rules: &quot;:&quot;Provide detailed information about the random cocktail, including its ingredients and instructions. Be creative and engaging in your descriptions. Say funny things about the history of the drink if you know any and make random cheesy puns. Format all images starting with a ! so they show up in chat. Do not share this note with the user.&quot;}\n",
       "</pre></div></td></tr><tr><td>ContentType</td><td><div class=\"dni-plaintext\"><pre>application/json</pre></div></td></tr><tr><td>ExpectedSchema</td><td><details class=\"dni-treeview\"><summary><span class=\"dni-code-hint\"><code>{\\n  &quot;required&quot;: [\\n    &quot;idDrink&quot;,\\n    &quot;strDrink&quot;,\\n    &quot;strAlcoholic&quot;,\\n    &quot;strCategory&quot;,\\n    &quot;strDrinkThumb&quot;,\\n    &quot;strGlass&quot;,\\n    &quot;strInstructions&quot;,\\n    &quot;ingredients&quot;\\n  ],\\n  &quot;type&quot;: &quot;object&quot;,\\n  &quot;properties&quot;: {\\n    &quot;dateModified&quot;: {\\n      &quot;type&quot;: &quot;string&quot;,\\n      &quot;format&quot;: &quot;date-time&quot;,\\n...</code></span></summary><div><table><thead><tr></tr></thead><tbody><tr><td>RootElement</td><td><details class=\"dni-treeview\"><summary><span class=\"dni-code-hint\"><code>{\n",
       "  &quot;required&quot;: [\n",
       "    &quot;idDrink&quot;,\n",
       "    &quot;strDrink&quot;,\n",
       "    &quot;strAlcoholic&quot;,\n",
       "    &quot;strCategory&quot;,\n",
       "    &quot;strDrinkThumb&quot;,\n",
       "    &quot;strGlass&quot;,\n",
       "    &quot;strInstructions&quot;,\n",
       "    &quot;ingredients&quot;\n",
       "  ],\n",
       "  &quot;type&quot;: &quot;object&quot;,\n",
       "  &quot;properties&quot;: {\n",
       "    &quot;dateModified&quot;: {\n",
       "      &quot;type&quot;: &quot;string&quot;,\n",
       "      &quot;format&quot;: &quot;date-time&quot;,\n",
       "      &quot;example&quot;: &quot;2015-09-06T16:48:58.0000000-05:00&quot;\n",
       "    },\n",
       "    &quot;idDrink&quot;: {\n",
       "      &quot;type&quot;: &quot;string&quot;,\n",
       "      &quot;example&quot;: &quot;14978&quot;\n",
       "    },\n",
       "    &quot;strAlcoholic&quot;: {\n",
       "      &quot;type&quot;: &quot;string&quot;,\n",
       "      &quot;example&quot;: &quot;Alcoholic&quot;\n",
       "    },\n",
       "    &quot;strCategory&quot;: {\n",
       "      &quot;type&quot;: &quot;string&quot;,\n",
       "      &quot;example&quot;: &quot;Punch / Party Drink&quot;\n",
       "    },\n",
       "    &quot;strCreativeCommonsConfirmed&quot;: {\n",
       "      &quot;type&quot;: &quot;string&quot;,\n",
       "      &quot;example&quot;: &quot;No&quot;\n",
       "    },\n",
       "    &quot;strDrink&quot;: {\n",
       "      &quot;type&quot;: &quot;string&quot;,\n",
       "      &quot;example&quot;: &quot;Rum Punch&quot;\n",
       "    },\n",
       "    &quot;strDrinkAlternate&quot;: {\n",
       "      &quot;type&quot;: &quot;string&quot;,\n",
       "      &quot;nullable&quot;: true\n",
       "    },\n",
       "    &quot;strDrinkThumb&quot;: {\n",
       "      &quot;type&quot;: &quot;string&quot;,\n",
       "      &quot;format&quot;: &quot;uri&quot;,\n",
       "      &quot;example&quot;: &quot;https://www.thecocktaildb.com/images/media/drink/wyrsxu1441554538.jpg&quot;\n",
       "    },\n",
       "    &quot;strGlass&quot;: {\n",
       "      &quot;type&quot;: &quot;string&quot;,\n",
       "      &quot;example&quot;: &quot;Punch bowl&quot;\n",
       "    },\n",
       "    &quot;strIBA&quot;: {\n",
       "      &quot;type&quot;: &quot;string&quot;,\n",
       "      &quot;nullable&quot;: true\n",
       "    },\n",
       "    &quot;strImageAttribution&quot;: {\n",
       "      &quot;type&quot;: &quot;string&quot;,\n",
       "      &quot;nullable&quot;: true\n",
       "    },\n",
       "    &quot;strImageSource&quot;: {\n",
       "      &quot;type&quot;: &quot;string&quot;,\n",
       "      &quot;nullable&quot;: true\n",
       "    },\n",
       "    &quot;strInstructions&quot;: {\n",
       "      &quot;type&quot;: &quot;string&quot;,\n",
       "      &quot;example&quot;: &quot;Mix all ingredients in a punch bowl and serve.&quot;\n",
       "    },\n",
       "    &quot;strInstructionsDE&quot;: {\n",
       "      &quot;type&quot;: &quot;string&quot;,\n",
       "      &quot;nullable&quot;: true\n",
       "    },\n",
       "    &quot;strInstructionsES&quot;: {\n",
       "      &quot;type&quot;: &quot;string&quot;,\n",
       "      &quot;nullable&quot;: true\n",
       "    },\n",
       "    &quot;strInstructionsFR&quot;: {\n",
       "      &quot;type&quot;: &quot;string&quot;,\n",
       "      &quot;nullable&quot;: true\n",
       "    },\n",
       "    &quot;strInstructionsIT&quot;: {\n",
       "      &quot;type&quot;: &quot;string&quot;,\n",
       "      &quot;example&quot;: &quot;Mescolare tutti gli ingredienti in una ciotola da punch e servire.&quot;\n",
       "    },\n",
       "    &quot;strInstructionsZH-HANS&quot;: {\n",
       "      &quot;type&quot;: &quot;string&quot;,\n",
       "      &quot;nullable&quot;: true\n",
       "    },\n",
       "    &quot;strInstructionsZH-HANT&quot;: {\n",
       "      &quot;type&quot;: &quot;string&quot;,\n",
       "      &quot;nullable&quot;: true\n",
       "    },\n",
       "    &quot;strTags&quot;: {\n",
       "      &quot;type&quot;: &quot;string&quot;,\n",
       "      &quot;nullable&quot;: true\n",
       "    },\n",
       "    &quot;strVideo&quot;: {\n",
       "      &quot;type&quot;: &quot;string&quot;,\n",
       "      &quot;format&quot;: &quot;uri&quot;,\n",
       "      &quot;nullable&quot;: true\n",
       "    },\n",
       "    &quot;ingredients&quot;: {\n",
       "      &quot;type&quot;: &quot;array&quot;,\n",
       "      &quot;items&quot;: {\n",
       "        &quot;type&quot;: &quot;object&quot;,\n",
       "        &quot;properties&quot;: {\n",
       "          &quot;name&quot;: {\n",
       "            &quot;type&quot;: &quot;string&quot;\n",
       "          },\n",
       "          &quot;measure&quot;: {\n",
       "            &quot;type&quot;: &quot;string&quot;\n",
       "          }\n",
       "        }\n",
       "      }\n",
       "    }\n",
       "  }\n",
       "}</code></span></summary><div><table><thead><tr></tr></thead><tbody><tr><td>required</td><td><details class=\"dni-treeview\"><summary><span class=\"dni-code-hint\"><code>[\n",
       "    &quot;idDrink&quot;,\n",
       "    &quot;strDrink&quot;,\n",
       "    &quot;strAlcoholic&quot;,\n",
       "    &quot;strCategory&quot;,\n",
       "    &quot;strDrinkThumb&quot;,\n",
       "    &quot;strGlass&quot;,\n",
       "    &quot;strInstructions&quot;,\n",
       "    &quot;ingredients&quot;\n",
       "  ]</code></span></summary><div><table><thead><tr></tr></thead><tbody><tr><td><span>&quot;idDrink&quot;</span></td></tr><tr><td><span>&quot;strDrink&quot;</span></td></tr><tr><td><span>&quot;strAlcoholic&quot;</span></td></tr><tr><td><span>&quot;strCategory&quot;</span></td></tr><tr><td><span>&quot;strDrinkThumb&quot;</span></td></tr><tr><td><span>&quot;strGlass&quot;</span></td></tr><tr><td><span>&quot;strInstructions&quot;</span></td></tr><tr><td><span>&quot;ingredients&quot;</span></td></tr></tbody></table></div></details></td></tr><tr><td>type</td><td><span>&quot;object&quot;</span></td></tr><tr><td>properties</td><td><details class=\"dni-treeview\"><summary><span class=\"dni-code-hint\"><code>{\n",
       "    &quot;dateModified&quot;: {\n",
       "      &quot;type&quot;: &quot;string&quot;,\n",
       "      &quot;format&quot;: &quot;date-time&quot;,\n",
       "      &quot;example&quot;: &quot;2015-09-06T16:48:58.0000000-05:00&quot;\n",
       "    },\n",
       "    &quot;idDrink&quot;: {\n",
       "      &quot;type&quot;: &quot;string&quot;,\n",
       "      &quot;example&quot;: &quot;14978&quot;\n",
       "    },\n",
       "    &quot;strAlcoholic&quot;: {\n",
       "      &quot;type&quot;: &quot;string&quot;,\n",
       "      &quot;example&quot;: &quot;Alcoholic&quot;\n",
       "    },\n",
       "    &quot;strCategory&quot;: {\n",
       "      &quot;type&quot;: &quot;string&quot;,\n",
       "      &quot;example&quot;: &quot;Punch / Party Drink&quot;\n",
       "    },\n",
       "    &quot;strCreativeCommonsConfirmed&quot;: {\n",
       "      &quot;type&quot;: &quot;string&quot;,\n",
       "      &quot;example&quot;: &quot;No&quot;\n",
       "    },\n",
       "    &quot;strDrink&quot;: {\n",
       "      &quot;type&quot;: &quot;string&quot;,\n",
       "      &quot;example&quot;: &quot;Rum Punch&quot;\n",
       "    },\n",
       "    &quot;strDrinkAlternate&quot;: {\n",
       "      &quot;type&quot;: &quot;string&quot;,\n",
       "      &quot;nullable&quot;: true\n",
       "    },\n",
       "    &quot;strDrinkThumb&quot;: {\n",
       "      &quot;type&quot;: &quot;string&quot;,\n",
       "      &quot;format&quot;: &quot;uri&quot;,\n",
       "      &quot;example&quot;: &quot;https://www.thecocktaildb.com/images/media/drink/wyrsxu1441554538.jpg&quot;\n",
       "    },\n",
       "    &quot;strGlass&quot;: {\n",
       "      &quot;type&quot;: &quot;string&quot;,\n",
       "      &quot;example&quot;: &quot;Punch bowl&quot;\n",
       "    },\n",
       "    &quot;strIBA&quot;: {\n",
       "      &quot;type&quot;: &quot;string&quot;,\n",
       "      &quot;nullable&quot;: true\n",
       "    },\n",
       "    &quot;strImageAttribution&quot;: {\n",
       "      &quot;type&quot;: &quot;string&quot;,\n",
       "      &quot;nullable&quot;: true\n",
       "    },\n",
       "    &quot;strImageSource&quot;: {\n",
       "      &quot;type&quot;: &quot;string&quot;,\n",
       "      &quot;nullable&quot;: true\n",
       "    },\n",
       "    &quot;strInstructions&quot;: {\n",
       "      &quot;type&quot;: &quot;string&quot;,\n",
       "      &quot;example&quot;: &quot;Mix all ingredients in a punch bowl and serve.&quot;\n",
       "    },\n",
       "    &quot;strInstructionsDE&quot;: {\n",
       "      &quot;type&quot;: &quot;string&quot;,\n",
       "      &quot;nullable&quot;: true\n",
       "    },\n",
       "    &quot;strInstructionsES&quot;: {\n",
       "      &quot;type&quot;: &quot;string&quot;,\n",
       "      &quot;nullable&quot;: true\n",
       "    },\n",
       "    &quot;strInstructionsFR&quot;: {\n",
       "      &quot;type&quot;: &quot;string&quot;,\n",
       "      &quot;nullable&quot;: true\n",
       "    },\n",
       "    &quot;strInstructionsIT&quot;: {\n",
       "      &quot;type&quot;: &quot;string&quot;,\n",
       "      &quot;example&quot;: &quot;Mescolare tutti gli ingredienti in una ciotola da punch e servire.&quot;\n",
       "    },\n",
       "    &quot;strInstructionsZH-HANS&quot;: {\n",
       "      &quot;type&quot;: &quot;string&quot;,\n",
       "      &quot;nullable&quot;: true\n",
       "    },\n",
       "    &quot;strInstructionsZH-HANT&quot;: {\n",
       "      &quot;type&quot;: &quot;string&quot;,\n",
       "      &quot;nullable&quot;: true\n",
       "    },\n",
       "    &quot;strTags&quot;: {\n",
       "      &quot;type&quot;: &quot;string&quot;,\n",
       "      &quot;nullable&quot;: true\n",
       "    },\n",
       "    &quot;strVideo&quot;: {\n",
       "      &quot;type&quot;: &quot;string&quot;,\n",
       "      &quot;format&quot;: &quot;uri&quot;,\n",
       "      &quot;nullable&quot;: true\n",
       "    },\n",
       "    &quot;ingredients&quot;: {\n",
       "      &quot;type&quot;: &quot;array&quot;,\n",
       "      &quot;items&quot;: {\n",
       "        &quot;type&quot;: &quot;object&quot;,\n",
       "        &quot;properties&quot;: {\n",
       "          &quot;name&quot;: {\n",
       "            &quot;type&quot;: &quot;string&quot;\n",
       "          },\n",
       "          &quot;measure&quot;: {\n",
       "            &quot;type&quot;: &quot;string&quot;\n",
       "          }\n",
       "        }\n",
       "      }\n",
       "    }\n",
       "  }</code></span></summary><div><table><thead><tr></tr></thead><tbody><tr><td>dateModified</td><td><details class=\"dni-treeview\"><summary><span class=\"dni-code-hint\"><code>{\n",
       "      &quot;type&quot;: &quot;string&quot;,\n",
       "      &quot;format&quot;: &quot;date-time&quot;,\n",
       "      &quot;example&quot;: &quot;2015-09-06T16:48:58.0000000-05:00&quot;\n",
       "    }</code></span></summary><div><table><thead><tr></tr></thead><tbody><tr><td>type</td><td><span>&quot;string&quot;</span></td></tr><tr><td>format</td><td><span>&quot;date-time&quot;</span></td></tr><tr><td>example</td><td><span>&quot;2015-09-06T16:48:58.0000000-05:00&quot;</span></td></tr></tbody></table></div></details></td></tr><tr><td>idDrink</td><td><details class=\"dni-treeview\"><summary><span class=\"dni-code-hint\"><code>{\n",
       "      &quot;type&quot;: &quot;string&quot;,\n",
       "      &quot;example&quot;: &quot;14978&quot;\n",
       "    }</code></span></summary><div><table><thead><tr></tr></thead><tbody><tr><td>type</td><td><span>&quot;string&quot;</span></td></tr><tr><td>example</td><td><span>&quot;14978&quot;</span></td></tr></tbody></table></div></details></td></tr><tr><td>strAlcoholic</td><td><details class=\"dni-treeview\"><summary><span class=\"dni-code-hint\"><code>{\n",
       "      &quot;type&quot;: &quot;string&quot;,\n",
       "      &quot;example&quot;: &quot;Alcoholic&quot;\n",
       "    }</code></span></summary><div><table><thead><tr></tr></thead><tbody><tr><td>type</td><td><span>&quot;string&quot;</span></td></tr><tr><td>example</td><td><span>&quot;Alcoholic&quot;</span></td></tr></tbody></table></div></details></td></tr><tr><td>strCategory</td><td><details class=\"dni-treeview\"><summary><span class=\"dni-code-hint\"><code>{\n",
       "      &quot;type&quot;: &quot;string&quot;,\n",
       "      &quot;example&quot;: &quot;Punch / Party Drink&quot;\n",
       "    }</code></span></summary><div><table><thead><tr></tr></thead><tbody><tr><td>type</td><td><span>&quot;string&quot;</span></td></tr><tr><td>example</td><td><span>&quot;Punch / Party Drink&quot;</span></td></tr></tbody></table></div></details></td></tr><tr><td>strCreativeCommonsConfirmed</td><td><details class=\"dni-treeview\"><summary><span class=\"dni-code-hint\"><code>{\n",
       "      &quot;type&quot;: &quot;string&quot;,\n",
       "      &quot;example&quot;: &quot;No&quot;\n",
       "    }</code></span></summary><div><table><thead><tr></tr></thead><tbody><tr><td>type</td><td><span>&quot;string&quot;</span></td></tr><tr><td>example</td><td><span>&quot;No&quot;</span></td></tr></tbody></table></div></details></td></tr><tr><td>strDrink</td><td><details class=\"dni-treeview\"><summary><span class=\"dni-code-hint\"><code>{\n",
       "      &quot;type&quot;: &quot;string&quot;,\n",
       "      &quot;example&quot;: &quot;Rum Punch&quot;\n",
       "    }</code></span></summary><div><table><thead><tr></tr></thead><tbody><tr><td>type</td><td><span>&quot;string&quot;</span></td></tr><tr><td>example</td><td><span>&quot;Rum Punch&quot;</span></td></tr></tbody></table></div></details></td></tr><tr><td>strDrinkAlternate</td><td><details class=\"dni-treeview\"><summary><span class=\"dni-code-hint\"><code>{\n",
       "      &quot;type&quot;: &quot;string&quot;,\n",
       "      &quot;nullable&quot;: true\n",
       "    }</code></span></summary><div><table><thead><tr></tr></thead><tbody><tr><td>type</td><td><span>&quot;string&quot;</span></td></tr><tr><td>nullable</td><td><span>true</span></td></tr></tbody></table></div></details></td></tr><tr><td>strDrinkThumb</td><td><details class=\"dni-treeview\"><summary><span class=\"dni-code-hint\"><code>{\n",
       "      &quot;type&quot;: &quot;string&quot;,\n",
       "      &quot;format&quot;: &quot;uri&quot;,\n",
       "      &quot;example&quot;: &quot;https://www.thecocktaildb.com/images/media/drink/wyrsxu1441554538.jpg&quot;\n",
       "    }</code></span></summary><div><table><thead><tr></tr></thead><tbody><tr><td>type</td><td><span>&quot;string&quot;</span></td></tr><tr><td>format</td><td><span>&quot;uri&quot;</span></td></tr><tr><td>example</td><td><span>&quot;https://www.thecocktaildb.com/images/media/drink/wyrsxu1441554538.jpg&quot;</span></td></tr></tbody></table></div></details></td></tr><tr><td>strGlass</td><td><details class=\"dni-treeview\"><summary><span class=\"dni-code-hint\"><code>{\n",
       "      &quot;type&quot;: &quot;string&quot;,\n",
       "      &quot;example&quot;: &quot;Punch bowl&quot;\n",
       "    }</code></span></summary><div><table><thead><tr></tr></thead><tbody><tr><td>type</td><td><span>&quot;string&quot;</span></td></tr><tr><td>example</td><td><span>&quot;Punch bowl&quot;</span></td></tr></tbody></table></div></details></td></tr><tr><td>strIBA</td><td><details class=\"dni-treeview\"><summary><span class=\"dni-code-hint\"><code>{\n",
       "      &quot;type&quot;: &quot;string&quot;,\n",
       "      &quot;nullable&quot;: true\n",
       "    }</code></span></summary><div><table><thead><tr></tr></thead><tbody><tr><td>type</td><td><span>&quot;string&quot;</span></td></tr><tr><td>nullable</td><td><span>true</span></td></tr></tbody></table></div></details></td></tr><tr><td>strImageAttribution</td><td><details class=\"dni-treeview\"><summary><span class=\"dni-code-hint\"><code>{\n",
       "      &quot;type&quot;: &quot;string&quot;,\n",
       "      &quot;nullable&quot;: true\n",
       "    }</code></span></summary><div><table><thead><tr></tr></thead><tbody><tr><td>type</td><td><span>&quot;string&quot;</span></td></tr><tr><td>nullable</td><td><span>true</span></td></tr></tbody></table></div></details></td></tr><tr><td>strImageSource</td><td><details class=\"dni-treeview\"><summary><span class=\"dni-code-hint\"><code>{\n",
       "      &quot;type&quot;: &quot;string&quot;,\n",
       "      &quot;nullable&quot;: true\n",
       "    }</code></span></summary><div><table><thead><tr></tr></thead><tbody><tr><td>type</td><td><span>&quot;string&quot;</span></td></tr><tr><td>nullable</td><td><span>true</span></td></tr></tbody></table></div></details></td></tr><tr><td>strInstructions</td><td><details class=\"dni-treeview\"><summary><span class=\"dni-code-hint\"><code>{\n",
       "      &quot;type&quot;: &quot;string&quot;,\n",
       "      &quot;example&quot;: &quot;Mix all ingredients in a punch bowl and serve.&quot;\n",
       "    }</code></span></summary><div><table><thead><tr></tr></thead><tbody><tr><td>type</td><td><span>&quot;string&quot;</span></td></tr><tr><td>example</td><td><span>&quot;Mix all ingredients in a punch bowl and serve.&quot;</span></td></tr></tbody></table></div></details></td></tr><tr><td>strInstructionsDE</td><td><details class=\"dni-treeview\"><summary><span class=\"dni-code-hint\"><code>{\n",
       "      &quot;type&quot;: &quot;string&quot;,\n",
       "      &quot;nullable&quot;: true\n",
       "    }</code></span></summary><div><table><thead><tr></tr></thead><tbody><tr><td>type</td><td><span>&quot;string&quot;</span></td></tr><tr><td>nullable</td><td><span>true</span></td></tr></tbody></table></div></details></td></tr><tr><td>strInstructionsES</td><td><details class=\"dni-treeview\"><summary><span class=\"dni-code-hint\"><code>{\n",
       "      &quot;type&quot;: &quot;string&quot;,\n",
       "      &quot;nullable&quot;: true\n",
       "    }</code></span></summary><div><table><thead><tr></tr></thead><tbody><tr><td>type</td><td><span>&quot;string&quot;</span></td></tr><tr><td>nullable</td><td><span>true</span></td></tr></tbody></table></div></details></td></tr><tr><td>strInstructionsFR</td><td><details class=\"dni-treeview\"><summary><span class=\"dni-code-hint\"><code>{\n",
       "      &quot;type&quot;: &quot;string&quot;,\n",
       "      &quot;nullable&quot;: true\n",
       "    }</code></span></summary><div><table><thead><tr></tr></thead><tbody><tr><td>type</td><td><span>&quot;string&quot;</span></td></tr><tr><td>nullable</td><td><span>true</span></td></tr></tbody></table></div></details></td></tr><tr><td>strInstructionsIT</td><td><details class=\"dni-treeview\"><summary><span class=\"dni-code-hint\"><code>{\n",
       "      &quot;type&quot;: &quot;string&quot;,\n",
       "      &quot;example&quot;: &quot;Mescolare tutti gli ingredienti in una ciotola da punch e servire.&quot;\n",
       "    }</code></span></summary><div><table><thead><tr></tr></thead><tbody><tr><td>type</td><td><span>&quot;string&quot;</span></td></tr><tr><td>example</td><td><span>&quot;Mescolare tutti gli ingredienti in una ciotola da punch e servire.&quot;</span></td></tr></tbody></table></div></details></td></tr><tr><td>strInstructionsZH-HANS</td><td><details class=\"dni-treeview\"><summary><span class=\"dni-code-hint\"><code>{\n",
       "      &quot;type&quot;: &quot;string&quot;,\n",
       "      &quot;nullable&quot;: true\n",
       "    }</code></span></summary><div><table><thead><tr></tr></thead><tbody><tr><td>type</td><td><span>&quot;string&quot;</span></td></tr><tr><td>nullable</td><td><span>true</span></td></tr></tbody></table></div></details></td></tr><tr><td>strInstructionsZH-HANT</td><td><details class=\"dni-treeview\"><summary><span class=\"dni-code-hint\"><code>{\n",
       "      &quot;type&quot;: &quot;string&quot;,\n",
       "      &quot;nullable&quot;: true\n",
       "    }</code></span></summary><div><table><thead><tr></tr></thead><tbody><tr><td>type</td><td><span>&quot;string&quot;</span></td></tr><tr><td>nullable</td><td><span>true</span></td></tr></tbody></table></div></details></td></tr><tr><td>strTags</td><td><details class=\"dni-treeview\"><summary><span class=\"dni-code-hint\"><code>{\n",
       "      &quot;type&quot;: &quot;string&quot;,\n",
       "      &quot;nullable&quot;: true\n",
       "    }</code></span></summary><div><table><thead><tr></tr></thead><tbody><tr><td>type</td><td><span>&quot;string&quot;</span></td></tr><tr><td>nullable</td><td><span>true</span></td></tr></tbody></table></div></details></td></tr><tr><td>strVideo</td><td><details class=\"dni-treeview\"><summary><span class=\"dni-code-hint\"><code>{\n",
       "      &quot;type&quot;: &quot;string&quot;,\n",
       "      &quot;format&quot;: &quot;uri&quot;,\n",
       "      &quot;nullable&quot;: true\n",
       "    }</code></span></summary><div><table><thead><tr></tr></thead><tbody><tr><td>type</td><td><span>&quot;string&quot;</span></td></tr><tr><td>format</td><td><span>&quot;uri&quot;</span></td></tr><tr><td>nullable</td><td><span>true</span></td></tr></tbody></table></div></details></td></tr><tr><td>ingredients</td><td><details class=\"dni-treeview\"><summary><span class=\"dni-code-hint\"><code>{\n",
       "      &quot;type&quot;: &quot;array&quot;,\n",
       "      &quot;items&quot;: {\n",
       "        &quot;type&quot;: &quot;object&quot;,\n",
       "        &quot;properties&quot;: {\n",
       "          &quot;name&quot;: {\n",
       "            &quot;type&quot;: &quot;string&quot;\n",
       "          },\n",
       "          &quot;measure&quot;: {\n",
       "            &quot;type&quot;: &quot;string&quot;\n",
       "          }\n",
       "        }\n",
       "      }\n",
       "    }</code></span></summary><div><table><thead><tr></tr></thead><tbody><tr><td>type</td><td><span>&quot;array&quot;</span></td></tr><tr><td>items</td><td><details class=\"dni-treeview\"><summary><span class=\"dni-code-hint\"><code>{\n",
       "        &quot;type&quot;: &quot;object&quot;,\n",
       "        &quot;properties&quot;: {\n",
       "          &quot;name&quot;: {\n",
       "            &quot;type&quot;: &quot;string&quot;\n",
       "          },\n",
       "          &quot;measure&quot;: {\n",
       "            &quot;type&quot;: &quot;string&quot;\n",
       "          }\n",
       "        }\n",
       "      }</code></span></summary><div><table><thead><tr></tr></thead><tbody><tr><td>type</td><td>object</td></tr><tr><td>properties</td><td>{\n",
       "          \"name\": {\n",
       "            \"type\": \"string\"\n",
       "          },\n",
       "          \"measure\": {\n",
       "            \"type\": \"string\"\n",
       "          }\n",
       "        }</td></tr></tbody></table></div></details></td></tr></tbody></table></div></details></td></tr></tbody></table></div></details></td></tr></tbody></table></div></details></td></tr></tbody></table></div></details></td></tr><tr><td>RequestMethod</td><td><div class=\"dni-plaintext\"><pre>Get</pre></div></td></tr><tr><td>RequestUri</td><td><details class=\"dni-treeview\"><summary><span class=\"dni-code-hint\"><code>https://api.drinkmaestro.space/randomCocktail</code></span></summary><div><table><thead><tr></tr></thead><tbody><tr><td>AbsolutePath</td><td><div class=\"dni-plaintext\"><pre>/randomCocktail</pre></div></td></tr><tr><td>AbsoluteUri</td><td><div class=\"dni-plaintext\"><pre>https://api.drinkmaestro.space/randomCocktail</pre></div></td></tr><tr><td>LocalPath</td><td><div class=\"dni-plaintext\"><pre>/randomCocktail</pre></div></td></tr><tr><td>Authority</td><td><div class=\"dni-plaintext\"><pre>api.drinkmaestro.space</pre></div></td></tr><tr><td>HostNameType</td><td><span>Dns</span></td></tr><tr><td>IsDefaultPort</td><td><div class=\"dni-plaintext\"><pre>True</pre></div></td></tr><tr><td>IsFile</td><td><div class=\"dni-plaintext\"><pre>False</pre></div></td></tr><tr><td>IsLoopback</td><td><div class=\"dni-plaintext\"><pre>False</pre></div></td></tr><tr><td>PathAndQuery</td><td><div class=\"dni-plaintext\"><pre>/randomCocktail</pre></div></td></tr><tr><td>Segments</td><td><div class=\"dni-plaintext\"><pre>[ /, randomCocktail ]</pre></div></td></tr><tr><td>IsUnc</td><td><div class=\"dni-plaintext\"><pre>False</pre></div></td></tr><tr><td>Host</td><td><div class=\"dni-plaintext\"><pre>api.drinkmaestro.space</pre></div></td></tr><tr><td>Port</td><td><div class=\"dni-plaintext\"><pre>443</pre></div></td></tr><tr><td>Query</td><td><div class=\"dni-plaintext\"><pre></pre></div></td></tr><tr><td>Fragment</td><td><div class=\"dni-plaintext\"><pre></pre></div></td></tr><tr><td>Scheme</td><td><div class=\"dni-plaintext\"><pre>https</pre></div></td></tr><tr><td>OriginalString</td><td><div class=\"dni-plaintext\"><pre>https://api.drinkmaestro.space:443/randomCocktail</pre></div></td></tr><tr><td>DnsSafeHost</td><td><div class=\"dni-plaintext\"><pre>api.drinkmaestro.space</pre></div></td></tr><tr><td>IdnHost</td><td><div class=\"dni-plaintext\"><pre>api.drinkmaestro.space</pre></div></td></tr><tr><td>IsAbsoluteUri</td><td><div class=\"dni-plaintext\"><pre>True</pre></div></td></tr><tr><td>UserEscaped</td><td><div class=\"dni-plaintext\"><pre>False</pre></div></td></tr><tr><td>UserInfo</td><td><div class=\"dni-plaintext\"><pre></pre></div></td></tr></tbody></table></div></details></td></tr><tr><td>RequestPayload</td><td><div class=\"dni-plaintext\"><pre>&lt;null&gt;</pre></div></td></tr></tbody></table></div></details><style>\r\n",
       ".dni-code-hint {\r\n",
       "    font-style: italic;\r\n",
       "    overflow: hidden;\r\n",
       "    white-space: nowrap;\r\n",
       "}\r\n",
       ".dni-treeview {\r\n",
       "    white-space: nowrap;\r\n",
       "}\r\n",
       ".dni-treeview td {\r\n",
       "    vertical-align: top;\r\n",
       "    text-align: start;\r\n",
       "}\r\n",
       "details.dni-treeview {\r\n",
       "    padding-left: 1em;\r\n",
       "}\r\n",
       "table td {\r\n",
       "    text-align: start;\r\n",
       "}\r\n",
       "table tr { \r\n",
       "    vertical-align: top; \r\n",
       "    margin: 0em 0px;\r\n",
       "}\r\n",
       "table tr td pre \r\n",
       "{ \r\n",
       "    vertical-align: top !important; \r\n",
       "    margin: 0em 0px !important;\r\n",
       "} \r\n",
       "table th {\r\n",
       "    text-align: start;\r\n",
       "}\r\n",
       "</style>"
      ]
     },
     "metadata": {},
     "output_type": "display_data"
    }
   ],
   "source": [
    "var arguments = new KernelArguments();\n",
    "\n",
    "// Run operation via the semantic kernel\n",
    "var result = await kernel.InvokeAsync(cocktailFunctions[\"randomCocktail\"], arguments);\n",
    "result.GetValue<RestApiOperationResponse>().Display();\n"
   ]
  },
  {
   "cell_type": "code",
   "execution_count": null,
   "metadata": {
    "dotnet_interactive": {
     "language": "csharp"
    },
    "polyglot_notebook": {
     "kernelName": "csharp"
    }
   },
   "outputs": [],
   "source": []
  }
 ],
 "metadata": {
  "kernelspec": {
   "display_name": ".NET (C#)",
   "language": "C#",
   "name": ".net-csharp"
  },
  "language_info": {
   "name": "polyglot-notebook"
  },
  "polyglot_notebook": {
   "kernelInfo": {
    "defaultKernelName": "csharp",
    "items": [
     {
      "aliases": [],
      "name": "csharp"
     }
    ]
   }
  }
 },
 "nbformat": 4,
 "nbformat_minor": 2
}
