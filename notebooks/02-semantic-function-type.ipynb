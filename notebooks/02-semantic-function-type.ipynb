{
 "cells": [
  {
   "attachments": {},
   "cell_type": "markdown",
   "metadata": {},
   "source": [
    "# Running Native and Semantic Functions Inline"
   ]
  },
  {
   "attachments": {},
   "cell_type": "markdown",
   "metadata": {},
   "source": [
    "\n",
    "* Let's dynamically generate the prompt using complex rules at runtime\n",
    "* Writing prompts by editing C# code instead of TXT files. \n",
    "* Easily creating demos, like this document\n",
    "\n",
    "For now we'll use only the `{{$input}}` variable, and see more complex templates later.\n"
   ]
  },
  {
   "attachments": {},
   "cell_type": "markdown",
   "metadata": {},
   "source": [
    "Prepare a semantic kernel instance first, loading also the AI backend settings defined in the [Setup notebook](0-AI-settings.ipynb):"
   ]
  },
  {
   "cell_type": "code",
   "execution_count": 1,
   "metadata": {
    "dotnet_interactive": {
     "language": "csharp"
    },
    "polyglot_notebook": {
     "kernelName": "csharp"
    }
   },
   "outputs": [
    {
     "data": {
      "text/html": [
       "<div><div></div><div></div><div><strong>Installed Packages</strong><ul><li><span>Microsoft.SemanticKernel, 1.2.0</span></li><li><span>Microsoft.SemanticKernel.Plugins.Core, 1.2.0-alpha</span></li></ul></div></div>"
      ]
     },
     "metadata": {},
     "output_type": "display_data"
    }
   ],
   "source": [
    "#r \"nuget: Microsoft.SemanticKernel, 1.2.0\"\n",
    "#r \"nuget: Microsoft.SemanticKernel.Plugins.Core, 1.2.0-alpha\"\n",
    "\n",
    "#!import config/Settings.cs\n",
    "#!import config/Utils.cs\n",
    "\n",
    "using Microsoft.SemanticKernel;\n",
    "using Microsoft.SemanticKernel.Connectors.OpenAI;\n",
    "using Microsoft.SemanticKernel.TemplateEngine;\n",
    "using Microsoft.SemanticKernel.Plugins.Core;\n",
    "using Kernel = Microsoft.SemanticKernel.Kernel;\n",
    "using System.Globalization;\n",
    "\n",
    "var builder = Kernel.CreateBuilder();\n",
    "\n",
    "// Configure AI service credentials used by the kernel\n",
    "var (useAzureOpenAI, model, azureEndpoint, apiKey, orgId) = Settings.LoadFromFile();\n",
    "\n",
    "if (useAzureOpenAI)\n",
    "    builder.AddAzureOpenAIChatCompletion(model, azureEndpoint, apiKey);\n",
    "else\n",
    "    builder.AddOpenAIChatCompletion(model, apiKey, orgId);\n",
    "\n",
    "var kernel = builder.Build();"
   ]
  },
  {
   "attachments": {},
   "cell_type": "markdown",
   "metadata": {},
   "source": [
    "create a semantic function used to summarize content, be a pirate:"
   ]
  },
  {
   "cell_type": "code",
   "execution_count": 3,
   "metadata": {
    "dotnet_interactive": {
     "language": "csharp"
    },
    "polyglot_notebook": {
     "kernelName": "csharp"
    }
   },
   "outputs": [
    {
     "name": "stdout",
     "output_type": "stream",
     "text": [
      "string -> Today is: Saturday\n"
     ]
    }
   ],
   "source": [
    "// Specify and get the value type as generic parameter\n",
    "\n",
    "#!import plugins/StaticTextPlugin.cs\n",
    "\n",
    "var textPlugin = kernel.ImportPluginFromType<StaticTextPlugin>();\n",
    "\n",
    "var args = new KernelArguments()\n",
    "        {\n",
    "            [\"input\"] = \"Today is: \",\n",
    "            [\"day\"] = DateTimeOffset.Now.ToString(\"dddd\", CultureInfo.CurrentCulture)\n",
    "        };\n",
    "string? resultValue = await kernel.InvokeAsync<string>(textPlugin[\"AppendDay\"], args);\n",
    "Console.WriteLine($\"string -> {resultValue}\");"
   ]
  },
  {
   "cell_type": "code",
   "execution_count": 4,
   "metadata": {
    "dotnet_interactive": {
     "language": "csharp"
    },
    "polyglot_notebook": {
     "kernelName": "csharp"
    }
   },
   "outputs": [
    {
     "name": "stdout",
     "output_type": "stream",
     "text": [
      "string -> TODAY IS: SATURDAY\n"
     ]
    }
   ],
   "source": [
    "var args = new KernelArguments()\n",
    "        {\n",
    "            [\"input\"] = resultValue,\n",
    "        };\n",
    "\n",
    "FunctionResult functionResult = await kernel.InvokeAsync(textPlugin[\"Uppercase\"], args);\n",
    "\n",
    "Console.WriteLine($\"string -> {functionResult}\");"
   ]
  },
  {
   "cell_type": "markdown",
   "metadata": {},
   "source": [
    "Load native plugin into the kernel function collection, sharing its functions with prompt templates"
   ]
  },
  {
   "cell_type": "code",
   "execution_count": 5,
   "metadata": {
    "dotnet_interactive": {
     "language": "csharp"
    },
    "polyglot_notebook": {
     "kernelName": "csharp"
    }
   },
   "outputs": [],
   "source": [
    "#pragma warning disable SKEXP0050\n",
    "kernel.ImportPluginFromType<TimePlugin>(\"time\");"
   ]
  },
  {
   "cell_type": "code",
   "execution_count": 6,
   "metadata": {
    "dotnet_interactive": {
     "language": "csharp"
    },
    "polyglot_notebook": {
     "kernelName": "csharp"
    }
   },
   "outputs": [
    {
     "name": "stdout",
     "output_type": "stream",
     "text": [
      "--- Rendered Prompt\n",
      "\n",
      "Today is: Saturday, 27 January 2024\n",
      "Current time is: 01:45:30 PM\n",
      "\n",
      "Answer to the following questions using JSON syntax, including the data used.\n",
      "Is it morning, afternoon, evening, or night (morning/afternoon/evening/night)?\n",
      "Is it weekend time (weekend/not weekend)?\n",
      "What cocktail drink is appropirate?\n",
      "\n"
     ]
    }
   ],
   "source": [
    "\n",
    "\n",
    "\n",
    "// Prompt Function invoking time.Date and time.Time method functions\n",
    "const string FunctionDefinition = @\"\n",
    "Today is: {{time.Date}}\n",
    "Current time is: {{time.Time}}\n",
    "\n",
    "Answer to the following questions using JSON syntax, including the data used.\n",
    "Is it morning, afternoon, evening, or night (morning/afternoon/evening/night)?\n",
    "Is it weekend time (weekend/not weekend)?\n",
    "What cocktail drink is appropirate?\n",
    "\";\n",
    "\n",
    "// This allows to see the prompt before it's sent to OpenAI\n",
    "Console.WriteLine(\"--- Rendered Prompt\");\n",
    "var promptTemplateFactory = new KernelPromptTemplateFactory();\n",
    "var promptTemplate = promptTemplateFactory.Create(new PromptTemplateConfig(FunctionDefinition));\n",
    "var renderedPrompt = await promptTemplate.RenderAsync(kernel);\n",
    "Console.WriteLine(renderedPrompt);\n",
    "\n",
    "// Run the prompt / prompt function\n",
    "var kindOfDay = kernel.CreateFunctionFromPrompt(FunctionDefinition, new OpenAIPromptExecutionSettings() { MaxTokens = 100 });\n"
   ]
  },
  {
   "cell_type": "code",
   "execution_count": 7,
   "metadata": {
    "dotnet_interactive": {
     "language": "csharp"
    },
    "polyglot_notebook": {
     "kernelName": "csharp"
    }
   },
   "outputs": [],
   "source": [
    "// Run the prompt / prompt function\n",
    "var kindOfDay = kernel.CreateFunctionFromPrompt(FunctionDefinition, new OpenAIPromptExecutionSettings() { MaxTokens = 100 });\n"
   ]
  },
  {
   "cell_type": "code",
   "execution_count": 8,
   "metadata": {
    "dotnet_interactive": {
     "language": "csharp"
    },
    "polyglot_notebook": {
     "kernelName": "csharp"
    }
   },
   "outputs": [
    {
     "name": "stdout",
     "output_type": "stream",
     "text": [
      "--- Prompt Function result\n",
      "```json\n",
      "{\n",
      "  \"current_time\": \"01:45:36 PM\",\n",
      "  \"date\": \"Saturday, 27 January 2024\",\n",
      "  \"time_of_day\": \"afternoon\",\n",
      "  \"weekend_status\": \"weekend\",\n",
      "  \"appropriate_cocktail\": \"Mimosa\"\n",
      "}\n",
      "```\n"
     ]
    }
   ],
   "source": [
    " // Show the result\n",
    "Console.WriteLine(\"--- Prompt Function result\");\n",
    "var result = await kernel.InvokeAsync(kindOfDay);\n",
    "Console.WriteLine(result.GetValue<string>());"
   ]
  },
  {
   "cell_type": "code",
   "execution_count": 9,
   "metadata": {
    "dotnet_interactive": {
     "language": "csharp"
    },
    "polyglot_notebook": {
     "kernelName": "csharp"
    }
   },
   "outputs": [],
   "source": [
    "private void PrintFunction(KernelFunctionMetadata func)\n",
    "{\n",
    "    Console.WriteLine($\"Plugin: {func.PluginName}\");\n",
    "    Console.WriteLine($\"   {func.Name}: {func.Description}\");\n",
    "\n",
    "    if (func.Parameters.Count > 0)\n",
    "    {\n",
    "        Console.WriteLine(\"      Params:\");\n",
    "        foreach (var p in func.Parameters)\n",
    "        {\n",
    "            Console.WriteLine($\"      - {p.Name}: {p.Description}\");\n",
    "            Console.WriteLine($\"        default: '{p.DefaultValue}'\");\n",
    "        }\n",
    "    }\n",
    "\n",
    "    Console.WriteLine();\n",
    "}\n",
    "\n"
   ]
  },
  {
   "cell_type": "code",
   "execution_count": 10,
   "metadata": {
    "dotnet_interactive": {
     "language": "csharp"
    },
    "polyglot_notebook": {
     "kernelName": "csharp"
    }
   },
   "outputs": [
    {
     "name": "stdout",
     "output_type": "stream",
     "text": [
      "Plugin: StaticTextPlugin\n",
      "   Uppercase: Change all string chars to uppercase\n",
      "      Params:\n",
      "      - input: Text to uppercase\n",
      "        default: ''\n",
      "\n",
      "Plugin: StaticTextPlugin\n",
      "   AppendDay: Append the day variable\n",
      "      Params:\n",
      "      - input: Text to append to\n",
      "        default: ''\n",
      "      - day: Value of the day to append\n",
      "        default: ''\n",
      "\n",
      "Plugin: time\n",
      "   Date: Get the current date\n",
      "\n",
      "Plugin: time\n",
      "   Today: Get the current date\n",
      "\n",
      "Plugin: time\n",
      "   Now: Get the current date and time in the local time zone\n",
      "\n",
      "Plugin: time\n",
      "   UtcNow: Get the current UTC date and time\n",
      "\n",
      "Plugin: time\n",
      "   Time: Get the current time\n",
      "\n",
      "Plugin: time\n",
      "   Year: Get the current year\n",
      "\n",
      "Plugin: time\n",
      "   Month: Get the current month name\n",
      "\n",
      "Plugin: time\n",
      "   MonthNumber: Get the current month number\n",
      "\n",
      "Plugin: time\n",
      "   Day: Get the current day of the month\n",
      "\n",
      "Plugin: time\n",
      "   DaysAgo: Get the date offset by a provided number of days from today\n",
      "      Params:\n",
      "      - input: The number of days to offset from today\n",
      "        default: ''\n",
      "\n",
      "Plugin: time\n",
      "   DayOfWeek: Get the current day of the week\n",
      "\n",
      "Plugin: time\n",
      "   Hour: Get the current clock hour\n",
      "\n",
      "Plugin: time\n",
      "   HourNumber: Get the current clock 24-hour number\n",
      "\n",
      "Plugin: time\n",
      "   DateMatchingLastDayName: Get the date of the last day matching the supplied week day name in English. Example: Che giorno era 'Martedi' scorso -> dateMatchingLastDayName 'Tuesday' => Tuesday, 16 May, 2023\n",
      "      Params:\n",
      "      - input: The day name to match\n",
      "        default: ''\n",
      "\n",
      "Plugin: time\n",
      "   Minute: Get the minutes on the current hour\n",
      "\n",
      "Plugin: time\n",
      "   Second: Get the seconds on the current minute\n",
      "\n",
      "Plugin: time\n",
      "   TimeZoneOffset: Get the local time zone offset from UTC\n",
      "\n",
      "Plugin: time\n",
      "   TimeZoneName: Get the local time zone name\n",
      "\n"
     ]
    }
   ],
   "source": [
    "var functions = kernel.Plugins.GetFunctionsMetadata();       \n",
    "foreach (KernelFunctionMetadata func in functions)\n",
    "{\n",
    "    PrintFunction(func);\n",
    "}"
   ]
  },
  {
   "cell_type": "code",
   "execution_count": null,
   "metadata": {
    "dotnet_interactive": {
     "language": "csharp"
    },
    "polyglot_notebook": {
     "kernelName": "csharp"
    }
   },
   "outputs": [],
   "source": []
  }
 ],
 "metadata": {
  "kernelspec": {
   "display_name": ".NET (C#)",
   "language": "C#",
   "name": ".net-csharp"
  },
  "language_info": {
   "name": "polyglot-notebook"
  },
  "polyglot_notebook": {
   "kernelInfo": {
    "defaultKernelName": "csharp",
    "items": [
     {
      "aliases": [],
      "name": "csharp"
     }
    ]
   }
  }
 },
 "nbformat": 4,
 "nbformat_minor": 2
}
