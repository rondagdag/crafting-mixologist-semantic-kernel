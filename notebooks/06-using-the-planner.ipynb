{
 "cells": [
  {
   "attachments": {},
   "cell_type": "markdown",
   "metadata": {},
   "source": [
    "# Introduction to the Planner\n",
    "\n",
    "The Planner is one of the fundamental concepts of the Semantic Kernel. It makes use of the collection of plugins that have been registered to the kernel and using AI, will formulate a plan to execute a given ask.\n",
    "\n",
    "Read more about it [here](https://aka.ms/sk/concepts/planner)."
   ]
  },
  {
   "cell_type": "code",
   "execution_count": 1,
   "metadata": {
    "dotnet_interactive": {
     "language": "csharp"
    },
    "polyglot_notebook": {
     "kernelName": "csharp"
    }
   },
   "outputs": [
    {
     "data": {
      "text/html": [
       "<div><div></div><div></div><div><strong>Installed Packages</strong><ul><li><span>Microsoft.SemanticKernel, 1.2.0</span></li><li><span>Microsoft.SemanticKernel.Planners.Handlebars, 1.2.0-preview</span></li></ul></div></div>"
      ]
     },
     "metadata": {},
     "output_type": "display_data"
    }
   ],
   "source": [
    "#r \"nuget: Microsoft.SemanticKernel, 1.2.0\"\n",
    "#r \"nuget: Microsoft.SemanticKernel.Planners.Handlebars, 1.2.0-preview\"\n",
    "\n",
    "#!import config/Settings.cs\n",
    "#!import config/Utils.cs\n",
    "\n",
    "using Microsoft.SemanticKernel;\n",
    "using Microsoft.SemanticKernel.Connectors.OpenAI;\n",
    "using Kernel = Microsoft.SemanticKernel.Kernel;\n",
    "\n",
    "var builder = Kernel.CreateBuilder();\n",
    "\n",
    "// Configure AI backend used by the kernel\n",
    "var (useAzureOpenAI, model, azureEndpoint, apiKey, orgId) = Settings.LoadFromFile();\n",
    "\n",
    "if (useAzureOpenAI)\n",
    "    builder.AddAzureOpenAIChatCompletion(model, azureEndpoint, apiKey);\n",
    "else\n",
    "    builder.AddOpenAIChatCompletion(model, apiKey, orgId);\n",
    "\n",
    "var kernel = builder.Build();"
   ]
  },
  {
   "attachments": {},
   "cell_type": "markdown",
   "metadata": {},
   "source": [
    "### Setting Up Handlebars Planner\n",
    "Handlebars Planner is located in the `Microsoft.SemanticKernel.Planning.Handlebars` package."
   ]
  },
  {
   "cell_type": "code",
   "execution_count": 2,
   "metadata": {
    "dotnet_interactive": {
     "language": "csharp"
    },
    "polyglot_notebook": {
     "kernelName": "csharp"
    }
   },
   "outputs": [],
   "source": [
    "using Microsoft.SemanticKernel.Planning.Handlebars;\n",
    "\n",
    "#pragma warning disable SKEXP0060\n",
    "var planner = new HandlebarsPlanner(new HandlebarsPlannerOptions() { AllowLoops = true });"
   ]
  },
  {
   "attachments": {},
   "cell_type": "markdown",
   "metadata": {},
   "source": [
    "### Providing plugins to the planner\n",
    "The planner needs to know what plugins are available to it. Here we'll import the `SummarizePlugin` and `WriterPlugin` we have defined on disk.\n",
    "\n",
    "Also import a plugin class\n",
    "```csharp\n",
    "public class StaticTextPlugin\n",
    "{\n",
    "    [KernelFunction, Description(\"Change all string chars to uppercase\")]\n",
    "    public static string Uppercase([Description(\"Text to uppercase\")] string input) =>\n",
    "        input.ToUpperInvariant();\n",
    "\n",
    "    [KernelFunction, Description(\"Append the day variable\")]\n",
    "    public static string AppendDay(\n",
    "        [Description(\"Text to append to\")] string input,\n",
    "        [Description(\"Value of the day to append\")] string day) =>\n",
    "        input + day;\n",
    "}\n",
    "```\n"
   ]
  },
  {
   "cell_type": "code",
   "execution_count": 3,
   "metadata": {
    "dotnet_interactive": {
     "language": "csharp"
    },
    "polyglot_notebook": {
     "kernelName": "csharp"
    }
   },
   "outputs": [],
   "source": [
    "var pluginsDirectory = Path.Combine(System.IO.Directory.GetCurrentDirectory(), \"plugins\");\n",
    "\n",
    "kernel.ImportPluginFromPromptDirectory(Path.Combine(pluginsDirectory, \"SummarizePlugin\"));\n",
    "kernel.ImportPluginFromPromptDirectory(Path.Combine(pluginsDirectory, \"WriterPlugin\"));\n",
    "\n",
    "#!import plugins/StaticTextPlugin.cs\n",
    "kernel.ImportPluginFromType<StaticTextPlugin>();"
   ]
  },
  {
   "attachments": {},
   "cell_type": "markdown",
   "metadata": {},
   "source": [
    "Define your ASK. What do you want the Kernel to do?"
   ]
  },
  {
   "cell_type": "code",
   "execution_count": 11,
   "metadata": {
    "dotnet_interactive": {
     "language": "csharp"
    },
    "polyglot_notebook": {
     "kernelName": "csharp"
    }
   },
   "outputs": [
    {
     "name": "stdout",
     "output_type": "stream",
     "text": [
      "{{!-- Step 1: Identify Key Values --}}\n",
      "{{set \"cocktailName\" \"GinPom\"}}\n",
      "\n",
      "{{!-- Step 2: Create Filipino Poems --}}\n",
      "{{set \"filipinoPoem1\" (WriterPlugin-ShortPoem input=\"Pagmamahal sa \" cocktailName)}}\n",
      "{{set \"filipinoPoem2\" (WriterPlugin-ShortPoem input=\"Larawan ng \" cocktailName)}}\n",
      "\n",
      "{{!-- Step 3: Translate Poems to English --}}\n",
      "{{set \"englishPoem1\" (WriterPlugin-Translate input=filipinoPoem1 language=\"English\")}}\n",
      "{{set \"englishPoem2\" (WriterPlugin-Translate input=filipinoPoem2 language=\"English\")}}\n",
      "\n",
      "{{!-- Step 4: Output the Result --}}\n",
      "{{json (concat \"English Translations of Filipino Poems about the \" cocktailName \" Cocktail\\n\\n\" \"Poem 1:\\n\" englishPoem1 \"\\n\\n\" \"Poem 2:\\n\" englishPoem2)}}\n"
     ]
    }
   ],
   "source": [
    "#pragma warning disable SKEXP0060\n",
    "\n",
    "var ask = \"Gumawa ka ng dalawang tula tungkol sa GinPom cocktail, tapos isalin mo sa English.\";\n",
    "var plan = await planner.CreatePlanAsync(kernel, ask);\n",
    "\n",
    "Console.WriteLine(plan);"
   ]
  },
  {
   "attachments": {},
   "cell_type": "markdown",
   "metadata": {},
   "source": [
    "### Executing the plans\n",
    "\n",
    "Now that we have different plans, let's try to execute them! The Kernel can execute the plan using RunAsync."
   ]
  },
  {
   "cell_type": "code",
   "execution_count": 12,
   "metadata": {
    "dotnet_interactive": {
     "language": "csharp"
    },
    "polyglot_notebook": {
     "kernelName": "csharp"
    }
   },
   "outputs": [
    {
     "data": {
      "text/plain": [
       "English Translations of Filipino Poems about the GinPom Cocktail\\n\\nPoem 1:\\nLove for food\n",
       "There once was a girl named Jane,\n",
       "Who had an insane love for food.\n",
       "She would eat all day and night,\n",
       "With all her strength,\n",
       "And her stomach would never complain.\\n\\nPoem 2:\\nThere was once a photo that was very impressive,\n",
       "It showed a cat holding a brush in its paw.\n",
       "The cat painted a work of art,\n",
       "Using colors that never stopped,\n",
       "And it became the most well-known in the country."
      ]
     },
     "metadata": {},
     "output_type": "display_data"
    }
   ],
   "source": [
    "#pragma warning disable SKEXP0060\n",
    "\n",
    "var result = await plan.InvokeAsync(kernel);\n",
    "result\n"
   ]
  },
  {
   "cell_type": "code",
   "execution_count": null,
   "metadata": {
    "dotnet_interactive": {
     "language": "csharp"
    },
    "polyglot_notebook": {
     "kernelName": "csharp"
    }
   },
   "outputs": [],
   "source": []
  }
 ],
 "metadata": {
  "kernelspec": {
   "display_name": ".NET (C#)",
   "language": "C#",
   "name": ".net-csharp"
  },
  "language_info": {
   "name": "polyglot-notebook"
  },
  "polyglot_notebook": {
   "kernelInfo": {
    "defaultKernelName": "csharp",
    "items": [
     {
      "aliases": [],
      "name": "csharp"
     }
    ]
   }
  }
 },
 "nbformat": 4,
 "nbformat_minor": 2
}
