{
 "cells": [
  {
   "attachments": {},
   "cell_type": "markdown",
   "metadata": {},
   "source": [
    "# Introduction to the Planner\n",
    "\n",
    "The Planner is one of the fundamental concepts of the Semantic Kernel. It makes use of the collection of plugins that have been registered to the kernel and using AI, will formulate a plan to execute a given ask.\n",
    "\n",
    "Read more about it [here](https://aka.ms/sk/concepts/planner)."
   ]
  },
  {
   "cell_type": "code",
   "execution_count": 14,
   "metadata": {
    "dotnet_interactive": {
     "language": "csharp"
    },
    "polyglot_notebook": {
     "kernelName": "csharp"
    }
   },
   "outputs": [
    {
     "data": {
      "text/html": [
       "<div><div></div><div></div><div><strong>Installed Packages</strong><ul><li><span>Microsoft.SemanticKernel, 1.16.0</span></li><li><span>Microsoft.SemanticKernel.Planners.Handlebars, 1.16.0-preview</span></li></ul></div></div>"
      ]
     },
     "metadata": {},
     "output_type": "display_data"
    }
   ],
   "source": [
    "#r \"nuget: Microsoft.SemanticKernel, 1.16.0\"\n",
    "#r \"nuget: Microsoft.SemanticKernel.Planners.Handlebars, 1.16.0-preview\"\n",
    "\n",
    "#!import config/Settings.cs\n",
    "#!import config/Utils.cs\n",
    "\n",
    "using Microsoft.SemanticKernel;\n",
    "using Microsoft.SemanticKernel.Connectors.OpenAI;\n",
    "using Kernel = Microsoft.SemanticKernel.Kernel;\n",
    "\n",
    "var builder = Kernel.CreateBuilder();\n",
    "\n",
    "// Configure AI backend used by the kernel\n",
    "var (useAzureOpenAI, model, azureEndpoint, apiKey, orgId) = Settings.LoadFromFile();\n",
    "\n",
    "if (useAzureOpenAI)\n",
    "    builder.AddAzureOpenAIChatCompletion(model, azureEndpoint, apiKey);\n",
    "else\n",
    "    builder.AddOpenAIChatCompletion(model, apiKey, orgId);\n",
    "\n",
    "var kernel = builder.Build();"
   ]
  },
  {
   "attachments": {},
   "cell_type": "markdown",
   "metadata": {},
   "source": [
    "### Setting Up Handlebars Planner\n",
    "Handlebars Planner is located in the `Microsoft.SemanticKernel.Planning.Handlebars` package."
   ]
  },
  {
   "cell_type": "code",
   "execution_count": 15,
   "metadata": {
    "dotnet_interactive": {
     "language": "csharp"
    },
    "polyglot_notebook": {
     "kernelName": "csharp"
    }
   },
   "outputs": [],
   "source": [
    "using Microsoft.SemanticKernel.Planning.Handlebars;\n",
    "\n",
    "#pragma warning disable SKEXP0060\n",
    "var planner = new HandlebarsPlanner(new HandlebarsPlannerOptions() { AllowLoops = true });"
   ]
  },
  {
   "attachments": {},
   "cell_type": "markdown",
   "metadata": {},
   "source": [
    "### Providing plugins to the planner\n",
    "The planner needs to know what plugins are available to it. Here we'll import the `SummarizePlugin` and `WriterPlugin` we have defined on disk.\n",
    "\n",
    "Also import a plugin class\n",
    "```csharp\n",
    "public class StaticTextPlugin\n",
    "{\n",
    "    [KernelFunction, Description(\"Change all string chars to uppercase\")]\n",
    "    public static string Uppercase([Description(\"Text to uppercase\")] string input) =>\n",
    "        input.ToUpperInvariant();\n",
    "\n",
    "    [KernelFunction, Description(\"Append the day variable\")]\n",
    "    public static string AppendDay(\n",
    "        [Description(\"Text to append to\")] string input,\n",
    "        [Description(\"Value of the day to append\")] string day) =>\n",
    "        input + day;\n",
    "}\n",
    "```\n"
   ]
  },
  {
   "cell_type": "code",
   "execution_count": 16,
   "metadata": {
    "dotnet_interactive": {
     "language": "csharp"
    },
    "polyglot_notebook": {
     "kernelName": "csharp"
    }
   },
   "outputs": [],
   "source": [
    "var pluginsDirectory = Path.Combine(System.IO.Directory.GetCurrentDirectory(), \"plugins\");\n",
    "\n",
    "kernel.ImportPluginFromPromptDirectory(Path.Combine(pluginsDirectory, \"SummarizePlugin\"));\n",
    "kernel.ImportPluginFromPromptDirectory(Path.Combine(pluginsDirectory, \"WriterPlugin\"));\n",
    "\n",
    "#!import plugins/StaticTextPlugin.cs\n",
    "kernel.ImportPluginFromType<StaticTextPlugin>();"
   ]
  },
  {
   "attachments": {},
   "cell_type": "markdown",
   "metadata": {},
   "source": [
    "Define your ASK. What do you want the Kernel to do?"
   ]
  },
  {
   "cell_type": "code",
   "execution_count": 17,
   "metadata": {
    "dotnet_interactive": {
     "language": "csharp"
    },
    "polyglot_notebook": {
     "kernelName": "csharp"
    }
   },
   "outputs": [
    {
     "name": "stdout",
     "output_type": "stream",
     "text": [
      "{{!-- Step 0: Extract Key Values --}}\n",
      "{{set \"drinkName\" \"GinPom\"}}\n",
      "{{set \"englishText\" \"\"}}\n",
      "\n",
      "{{!-- Step 1: Create a poem about the GinPom drink --}}\n",
      "{{set \"poem\" (WriterPlugin-ShortPoem input=(\"Tungkol sa \" drinkName \" na inumin, Masarap pag-inuman sa hapon.\"))}}\n",
      "\n",
      "{{!-- Step 2: Translate the poem to English --}}\n",
      "{{set \"englishText\" (WriterPlugin-Translate input=poem language=\"English\")}}\n",
      "\n",
      "{{json englishText}}\n"
     ]
    }
   ],
   "source": [
    "#pragma warning disable SKEXP0060\n",
    "\n",
    "var ask = \"Gumawa ka ng tula tungkol sa GinPom na inumin, tapos isalin mo sa Ingles.\";\n",
    "var plan = await planner.CreatePlanAsync(kernel, ask);\n",
    "\n",
    "Console.WriteLine(plan);"
   ]
  },
  {
   "attachments": {},
   "cell_type": "markdown",
   "metadata": {},
   "source": [
    "### Executing the plans\n",
    "\n",
    "Now that we have different plans, let's try to execute them! The Kernel can execute the plan using RunAsync."
   ]
  },
  {
   "cell_type": "code",
   "execution_count": 19,
   "metadata": {
    "dotnet_interactive": {
     "language": "csharp"
    },
    "polyglot_notebook": {
     "kernelName": "csharp"
    }
   },
   "outputs": [
    {
     "ename": "Error",
     "evalue": "HandlebarsDotNet.HandlebarsCompilerException: Found a sub-expression that does not contain a path expression\n   at HandlebarsDotNet.Compiler.SubExpressionConverter.BuildSubExpression(IEnumerator`1 enumerator)\n   at HandlebarsDotNet.Compiler.SubExpressionConverter.AccumulateSubExpression(IEnumerator`1 enumerator)\n   at HandlebarsDotNet.Compiler.SubExpressionConverter.BuildSubExpression(IEnumerator`1 enumerator)\n   at HandlebarsDotNet.Compiler.SubExpressionConverter.ConvertTokens(IEnumerable`1 sequence)+MoveNext()\n   at System.Collections.Generic.List`1..ctor(IEnumerable`1 collection)\n   at System.Linq.Enumerable.ToList[TSource](IEnumerable`1 source)\n   at HandlebarsDotNet.Compiler.SubExpressionConverter.Convert(IEnumerable`1 sequence)\n   at HandlebarsDotNet.Compiler.ExpressionBuilder.ConvertTokensToExpressions(IEnumerable`1 tokens, ICompiledHandlebarsConfiguration configuration)\n   at HandlebarsDotNet.Compiler.HandlebarsCompiler.Compile(ExtendedStringReader source, CompilationContext compilationContext)\n   at HandlebarsDotNet.HandlebarsEnvironment.Compile(TextReader template)\n   at HandlebarsDotNet.HandlebarsEnvironment.Compile(String template)\n   at Microsoft.SemanticKernel.PromptTemplates.Handlebars.HandlebarsPromptTemplate.RenderAsync(Kernel kernel, KernelArguments arguments, CancellationToken cancellationToken)\n   at Microsoft.SemanticKernel.Planning.Handlebars.HandlebarsPlan.InvokeCoreAsync(Kernel kernel, KernelArguments arguments, CancellationToken cancellationToken)\n   at Microsoft.SemanticKernel.Planning.PlannerInstrumentation.InvokePlanAsync[TPlan,TPlanInput,TPlanResult](Func`5 InvokePlanAsync, TPlan plan, Kernel kernel, TPlanInput input, ILogger logger, CancellationToken cancellationToken)\n   at Submission#27.<<Initialize>>d__0.MoveNext()\n--- End of stack trace from previous location ---\n   at Microsoft.CodeAnalysis.Scripting.ScriptExecutionState.RunSubmissionsAsync[TResult](ImmutableArray`1 precedingExecutors, Func`2 currentExecutor, StrongBox`1 exceptionHolderOpt, Func`2 catchExceptionOpt, CancellationToken cancellationToken)",
     "output_type": "error",
     "traceback": [
      "HandlebarsDotNet.HandlebarsCompilerException: Found a sub-expression that does not contain a path expression\n",
      "   at HandlebarsDotNet.Compiler.SubExpressionConverter.BuildSubExpression(IEnumerator`1 enumerator)\n",
      "   at HandlebarsDotNet.Compiler.SubExpressionConverter.AccumulateSubExpression(IEnumerator`1 enumerator)\n",
      "   at HandlebarsDotNet.Compiler.SubExpressionConverter.BuildSubExpression(IEnumerator`1 enumerator)\n",
      "   at HandlebarsDotNet.Compiler.SubExpressionConverter.ConvertTokens(IEnumerable`1 sequence)+MoveNext()\n",
      "   at System.Collections.Generic.List`1..ctor(IEnumerable`1 collection)\n",
      "   at System.Linq.Enumerable.ToList[TSource](IEnumerable`1 source)\n",
      "   at HandlebarsDotNet.Compiler.SubExpressionConverter.Convert(IEnumerable`1 sequence)\n",
      "   at HandlebarsDotNet.Compiler.ExpressionBuilder.ConvertTokensToExpressions(IEnumerable`1 tokens, ICompiledHandlebarsConfiguration configuration)\n",
      "   at HandlebarsDotNet.Compiler.HandlebarsCompiler.Compile(ExtendedStringReader source, CompilationContext compilationContext)\n",
      "   at HandlebarsDotNet.HandlebarsEnvironment.Compile(TextReader template)\n",
      "   at HandlebarsDotNet.HandlebarsEnvironment.Compile(String template)\n",
      "   at Microsoft.SemanticKernel.PromptTemplates.Handlebars.HandlebarsPromptTemplate.RenderAsync(Kernel kernel, KernelArguments arguments, CancellationToken cancellationToken)\n",
      "   at Microsoft.SemanticKernel.Planning.Handlebars.HandlebarsPlan.InvokeCoreAsync(Kernel kernel, KernelArguments arguments, CancellationToken cancellationToken)\n",
      "   at Microsoft.SemanticKernel.Planning.PlannerInstrumentation.InvokePlanAsync[TPlan,TPlanInput,TPlanResult](Func`5 InvokePlanAsync, TPlan plan, Kernel kernel, TPlanInput input, ILogger logger, CancellationToken cancellationToken)\n",
      "   at Submission#27.<<Initialize>>d__0.MoveNext()\n",
      "--- End of stack trace from previous location ---\n",
      "   at Microsoft.CodeAnalysis.Scripting.ScriptExecutionState.RunSubmissionsAsync[TResult](ImmutableArray`1 precedingExecutors, Func`2 currentExecutor, StrongBox`1 exceptionHolderOpt, Func`2 catchExceptionOpt, CancellationToken cancellationToken)"
     ]
    }
   ],
   "source": [
    "#pragma warning disable SKEXP0060\n",
    "\n",
    "var result = await plan.InvokeAsync(kernel);\n",
    "result\n"
   ]
  },
  {
   "cell_type": "code",
   "execution_count": 6,
   "metadata": {
    "dotnet_interactive": {
     "language": "csharp"
    },
    "polyglot_notebook": {
     "kernelName": "csharp"
    }
   },
   "outputs": [],
   "source": []
  },
  {
   "cell_type": "code",
   "execution_count": null,
   "metadata": {
    "dotnet_interactive": {
     "language": "csharp"
    },
    "polyglot_notebook": {
     "kernelName": "csharp"
    }
   },
   "outputs": [],
   "source": []
  }
 ],
 "metadata": {
  "kernelspec": {
   "display_name": ".NET (C#)",
   "language": "C#",
   "name": ".net-csharp"
  },
  "language_info": {
   "name": "polyglot-notebook"
  },
  "polyglot_notebook": {
   "kernelInfo": {
    "defaultKernelName": "csharp",
    "items": [
     {
      "aliases": [],
      "name": "csharp"
     }
    ]
   }
  }
 },
 "nbformat": 4,
 "nbformat_minor": 2
}
