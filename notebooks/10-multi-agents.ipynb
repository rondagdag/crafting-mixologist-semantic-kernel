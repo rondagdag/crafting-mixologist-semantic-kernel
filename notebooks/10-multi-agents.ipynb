{
 "cells": [
  {
   "cell_type": "markdown",
   "metadata": {},
   "source": [
    "# Introduction to the Multi-Agents\n",
    "\n"
   ]
  },
  {
   "cell_type": "code",
   "execution_count": 1,
   "metadata": {
    "dotnet_interactive": {
     "language": "csharp"
    },
    "polyglot_notebook": {
     "kernelName": "csharp"
    }
   },
   "outputs": [
    {
     "data": {
      "text/html": [
       "<div><div></div><div></div><div><strong>Installed Packages</strong><ul><li><span>Microsoft.SemanticKernel, 1.3.0</span></li><li><span>Microsoft.SemanticKernel.Experimental.Agents, 1.3.0-alpha</span></li><li><span>Microsoft.SemanticKernel.Planners.Handlebars, 1.3.0-preview</span></li></ul></div></div>"
      ]
     },
     "metadata": {},
     "output_type": "display_data"
    }
   ],
   "source": [
    "#r \"nuget: Microsoft.SemanticKernel, 1.3.0\"\n",
    "#r \"nuget: Microsoft.SemanticKernel.Experimental.Agents, 1.3.0-alpha\"\n",
    "#r \"nuget: Microsoft.SemanticKernel.Planners.Handlebars, 1.3.0-preview\"\n",
    "\n",
    "\n",
    "#!import config/Settings.cs\n",
    "#!import config/Utils.cs\n",
    "\n",
    "using Microsoft.SemanticKernel;\n",
    "using Microsoft.SemanticKernel.Experimental.Agents;\n",
    "using Microsoft.SemanticKernel.Connectors.OpenAI;\n",
    "using Kernel = Microsoft.SemanticKernel.Kernel;\n",
    "\n",
    "var builder = Kernel.CreateBuilder();\n",
    "\n",
    "// Configure AI backend used by the kernel\n",
    "var (useAzureOpenAI, model, azureEndpoint, apiKey, orgId) = Settings.LoadFromFile();\n",
    "private const string OpenAIFunctionEnabledModel = \"gpt-4-1106-preview\";\n",
    "\n",
    "// Agent is experimental\n",
    "#pragma warning disable SKEXP0101\n",
    "private readonly List<IAgent> s_agents = new();\n",
    "\n",
    "private IAgent Track(IAgent agent)\n",
    "{\n",
    "    s_agents.Add(agent);\n",
    "\n",
    "    return agent;\n",
    "}"
   ]
  },
  {
   "cell_type": "code",
   "execution_count": 2,
   "metadata": {
    "dotnet_interactive": {
     "language": "csharp"
    },
    "polyglot_notebook": {
     "kernelName": "csharp"
    }
   },
   "outputs": [],
   "source": [
    "#pragma warning disable SKEXP0101\n",
    "private async Task<IAgent> CreateCocktailGeneratorAsync()\n",
    "{\n",
    "    // Initialize agent so that it may be automatically deleted.\n",
    "    return\n",
    "        Track(\n",
    "            await new AgentBuilder()\n",
    "                .WithOpenAIChatCompletion(OpenAIFunctionEnabledModel, apiKey)\n",
    "                .WithInstructions(\"Produce a cocktail name (no child elements) based on the given with ingredient at most 3 cocktails.\")\n",
    "                .WithName(\"Mixologist\")\n",
    "                .WithDescription(\"Generate 3 cocktails from ingredient.\")\n",
    "                .BuildAsync());\n",
    "}"
   ]
  },
  {
   "cell_type": "code",
   "execution_count": 3,
   "metadata": {
    "dotnet_interactive": {
     "language": "csharp"
    },
    "polyglot_notebook": {
     "kernelName": "csharp"
    }
   },
   "outputs": [],
   "source": [
    "#pragma warning disable SKEXP0101\n",
    "private async Task<IAgent> CreateJokeGeneratorAsync()\n",
    "{\n",
    "    // Initialize agent so that it may be automatically deleted.\n",
    "    return\n",
    "        Track(\n",
    "            await new AgentBuilder()\n",
    "                .WithOpenAIChatCompletion(OpenAIFunctionEnabledModel, apiKey)\n",
    "                .WithInstructions(\"Generate a funny joke about the given topic.\")\n",
    "                .WithName(\"Joker\")\n",
    "                .WithDescription(\"Generate a joke.\")\n",
    "                .BuildAsync());\n",
    "}"
   ]
  },
  {
   "cell_type": "code",
   "execution_count": 4,
   "metadata": {
    "dotnet_interactive": {
     "language": "csharp"
    },
    "polyglot_notebook": {
     "kernelName": "csharp"
    }
   },
   "outputs": [],
   "source": [
    "#pragma warning disable SKEXP0101\n",
    "private async Task<IAgent> CreateBarJokesGeneratorAsync()\n",
    "{\n",
    "    // Initialize the outline agent\n",
    "    var cocktailGenerator = await CreateCocktailGeneratorAsync();\n",
    "    // Initialize the research agent\n",
    "    var jokeGenerator = await CreateJokeGeneratorAsync();\n",
    "\n",
    "    // Initialize agent so that it may be automatically deleted.\n",
    "    return\n",
    "        Track(\n",
    "            await new AgentBuilder()\n",
    "                .WithOpenAIChatCompletion(OpenAIFunctionEnabledModel, apiKey)\n",
    "                .WithInstructions(\"You are bartender that tells jokes to customers. Use cocktail generator given an ingredient. Write a joke related to each cocktail\")\n",
    "                .WithName(\"Bartender\")\n",
    "                .WithDescription(\"Bartender that tells cocktail jokes on a given ingredient.\")\n",
    "                .WithPlugin(cocktailGenerator.AsPlugin())\n",
    "                .WithPlugin(jokeGenerator.AsPlugin())\n",
    "                .BuildAsync());\n",
    "}"
   ]
  },
  {
   "cell_type": "code",
   "execution_count": 6,
   "metadata": {
    "dotnet_interactive": {
     "language": "csharp"
    },
    "polyglot_notebook": {
     "kernelName": "csharp"
    }
   },
   "outputs": [
    {
     "name": "stdout",
     "output_type": "stream",
     "text": [
      "[msg_HSLhti8KYByOgwg84C5BB0ar]\n",
      "# user: vodka\n",
      "[msg_tc82Tq51WqTc8ywVVHZjMc61]\n",
      "# assistant: Alright, here are some chillingly funny jokes to serve with those vodka cocktails!\n",
      "\n",
      "1. **Siberian Sunrise:** Why don't they serve \"Siberian Sunrise\" at the North Pole? Because even the vodka gets cold feet and the ice cubes get a suntan!\n",
      "\n",
      "2. **Frosty Moscow Mule:** Why don't you play hide and seek with a Frosty Moscow Mule? Because every time you get warm, it just chills out with a lime, waiting to be found at the bottom of a copper mug!\n",
      "\n",
      "3. **Velvet Blizzard:** Why did the fashionista refuse to go out in the Velvet Blizzard? Because she heard it was couture-ally advised that suede snow would just ruin her ensemble!\n",
      "\n",
      "Enjoy the drinks, but don't let the jokes be the only thing on ice tonight!\n"
     ]
    },
    {
     "ename": "Error",
     "evalue": "Microsoft.SemanticKernel.HttpOperationException: Response status code does not indicate success: 404 (Not Found).\n ---> System.Net.Http.HttpRequestException: Response status code does not indicate success: 404 (Not Found).\n   at System.Net.Http.HttpResponseMessage.EnsureSuccessStatusCode()\n   at Microsoft.SemanticKernel.Http.HttpClientExtensions.SendWithSuccessCheckAsync(HttpClient client, HttpRequestMessage request, HttpCompletionOption completionOption, CancellationToken cancellationToken)\n   --- End of inner exception stack trace ---\n   at Microsoft.SemanticKernel.Http.HttpClientExtensions.SendWithSuccessCheckAsync(HttpClient client, HttpRequestMessage request, HttpCompletionOption completionOption, CancellationToken cancellationToken)\n   at Microsoft.SemanticKernel.Http.HttpClientExtensions.SendWithSuccessCheckAsync(HttpClient client, HttpRequestMessage request, CancellationToken cancellationToken)\n   at Microsoft.SemanticKernel.Experimental.Agents.OpenAIRestExtensions.ExecuteDeleteAsync(OpenAIRestContext context, String url, CancellationToken cancellationToken)\n   at Microsoft.SemanticKernel.Experimental.Agents.Internal.Agent.DeleteAsync(CancellationToken cancellationToken)\n   at Submission#9.<<Initialize>>d__0.MoveNext()\n--- End of stack trace from previous location ---\n   at Microsoft.CodeAnalysis.Scripting.ScriptExecutionState.RunSubmissionsAsync[TResult](ImmutableArray`1 precedingExecutors, Func`2 currentExecutor, StrongBox`1 exceptionHolderOpt, Func`2 catchExceptionOpt, CancellationToken cancellationToken)",
     "output_type": "error",
     "traceback": [
      "Microsoft.SemanticKernel.HttpOperationException: Response status code does not indicate success: 404 (Not Found).\n",
      " ---> System.Net.Http.HttpRequestException: Response status code does not indicate success: 404 (Not Found).\n",
      "   at System.Net.Http.HttpResponseMessage.EnsureSuccessStatusCode()\n",
      "   at Microsoft.SemanticKernel.Http.HttpClientExtensions.SendWithSuccessCheckAsync(HttpClient client, HttpRequestMessage request, HttpCompletionOption completionOption, CancellationToken cancellationToken)\n",
      "   --- End of inner exception stack trace ---\n",
      "   at Microsoft.SemanticKernel.Http.HttpClientExtensions.SendWithSuccessCheckAsync(HttpClient client, HttpRequestMessage request, HttpCompletionOption completionOption, CancellationToken cancellationToken)\n",
      "   at Microsoft.SemanticKernel.Http.HttpClientExtensions.SendWithSuccessCheckAsync(HttpClient client, HttpRequestMessage request, CancellationToken cancellationToken)\n",
      "   at Microsoft.SemanticKernel.Experimental.Agents.OpenAIRestExtensions.ExecuteDeleteAsync(OpenAIRestContext context, String url, CancellationToken cancellationToken)\n",
      "   at Microsoft.SemanticKernel.Experimental.Agents.Internal.Agent.DeleteAsync(CancellationToken cancellationToken)\n",
      "   at Submission#9.<<Initialize>>d__0.MoveNext()\n",
      "--- End of stack trace from previous location ---\n",
      "   at Microsoft.CodeAnalysis.Scripting.ScriptExecutionState.RunSubmissionsAsync[TResult](ImmutableArray`1 precedingExecutors, Func`2 currentExecutor, StrongBox`1 exceptionHolderOpt, Func`2 catchExceptionOpt, CancellationToken cancellationToken)"
     ]
    }
   ],
   "source": [
    "#pragma warning disable SKEXP0101\n",
    "try\n",
    "{\n",
    "    // Initialize the agent with tools\n",
    "    IAgent barJokesGenerator = await CreateBarJokesGeneratorAsync();\n",
    "\n",
    "    // \"Stream\" messages as they become available\n",
    "    await foreach (IChatMessage message in barJokesGenerator.InvokeAsync(\"vodka\"))\n",
    "    {\n",
    "        Console.WriteLine($\"[{message.Id}]\");\n",
    "        Console.WriteLine($\"# {message.Role}: {message.Content}\");\n",
    "    }\n",
    "}\n",
    "finally\n",
    "{\n",
    "    await Task.WhenAll(s_agents.Select(a => a.DeleteAsync()));\n",
    "}"
   ]
  },
  {
   "cell_type": "code",
   "execution_count": null,
   "metadata": {
    "dotnet_interactive": {
     "language": "csharp"
    },
    "polyglot_notebook": {
     "kernelName": "csharp"
    }
   },
   "outputs": [],
   "source": []
  }
 ],
 "metadata": {
  "kernelspec": {
   "display_name": ".NET (C#)",
   "language": "C#",
   "name": ".net-csharp"
  },
  "language_info": {
   "name": "polyglot-notebook"
  },
  "polyglot_notebook": {
   "kernelInfo": {
    "defaultKernelName": "csharp",
    "items": [
     {
      "aliases": [],
      "name": "csharp"
     }
    ]
   }
  }
 },
 "nbformat": 4,
 "nbformat_minor": 2
}
