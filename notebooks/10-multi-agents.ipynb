{
 "cells": [
  {
   "cell_type": "markdown",
   "metadata": {},
   "source": [
    "# Introduction to the Multi-Agents\n",
    "\n"
   ]
  },
  {
   "cell_type": "code",
   "execution_count": 1,
   "metadata": {
    "dotnet_interactive": {
     "language": "csharp"
    },
    "polyglot_notebook": {
     "kernelName": "csharp"
    }
   },
   "outputs": [
    {
     "data": {
      "text/html": [
       "<div><div></div><div></div><div><strong>Installed Packages</strong><ul><li><span>Microsoft.SemanticKernel, 1.5.0</span></li><li><span>Microsoft.SemanticKernel.Experimental.Agents, 1.5.0-alpha</span></li><li><span>Microsoft.SemanticKernel.Planners.Handlebars, 1.5.0-preview</span></li></ul></div></div>"
      ]
     },
     "metadata": {},
     "output_type": "display_data"
    }
   ],
   "source": [
    "#r \"nuget: Microsoft.SemanticKernel, 1.5.0\"\n",
    "#r \"nuget: Microsoft.SemanticKernel.Experimental.Agents, 1.5.0-alpha\"\n",
    "#r \"nuget: Microsoft.SemanticKernel.Planners.Handlebars, 1.5.0-preview\"\n",
    "\n",
    "\n",
    "#!import config/Settings.cs\n",
    "#!import config/Utils.cs\n",
    "\n",
    "using Microsoft.SemanticKernel;\n",
    "using Microsoft.SemanticKernel.Experimental.Agents;\n",
    "using Microsoft.SemanticKernel.Connectors.OpenAI;\n",
    "using Kernel = Microsoft.SemanticKernel.Kernel;\n",
    "\n",
    "var builder = Kernel.CreateBuilder();\n",
    "\n",
    "// Configure AI backend used by the kernel\n",
    "var (useAzureOpenAI, model, azureEndpoint, apiKey, orgId) = Settings.LoadFromFile();\n",
    "private const string OpenAIFunctionEnabledModel = \"gpt-4-1106-preview\";\n",
    "\n",
    "// Agent is experimental\n",
    "#pragma warning disable SKEXP0101\n",
    "private readonly List<IAgent> s_agents = new();\n",
    "\n",
    "private IAgent Track(IAgent agent)\n",
    "{\n",
    "    s_agents.Add(agent);\n",
    "\n",
    "    return agent;\n",
    "}"
   ]
  },
  {
   "cell_type": "code",
   "execution_count": 2,
   "metadata": {
    "dotnet_interactive": {
     "language": "csharp"
    },
    "polyglot_notebook": {
     "kernelName": "csharp"
    }
   },
   "outputs": [],
   "source": [
    "#pragma warning disable SKEXP0101\n",
    "private async Task<IAgent> CreateCocktailGeneratorAsync()\n",
    "{\n",
    "    // Initialize agent so that it may be automatically deleted.\n",
    "    return\n",
    "        Track(\n",
    "            await new AgentBuilder()\n",
    "                .WithOpenAIChatCompletion(OpenAIFunctionEnabledModel, apiKey)\n",
    "                .WithInstructions(\"Produce a cocktail name (no child elements) based on the given with ingredient at most 3 cocktails.\")\n",
    "                .WithName(\"Mixologist\")\n",
    "                .WithDescription(\"Generate 3 cocktails from ingredient.\")\n",
    "                .BuildAsync());\n",
    "}"
   ]
  },
  {
   "cell_type": "code",
   "execution_count": 3,
   "metadata": {
    "dotnet_interactive": {
     "language": "csharp"
    },
    "polyglot_notebook": {
     "kernelName": "csharp"
    }
   },
   "outputs": [],
   "source": [
    "#pragma warning disable SKEXP0101\n",
    "private async Task<IAgent> CreateJokeGeneratorAsync()\n",
    "{\n",
    "    // Initialize agent so that it may be automatically deleted.\n",
    "    return\n",
    "        Track(\n",
    "            await new AgentBuilder()\n",
    "                .WithOpenAIChatCompletion(OpenAIFunctionEnabledModel, apiKey)\n",
    "                .WithInstructions(\"Generate a funny joke about the given topic.\")\n",
    "                .WithName(\"Joker\")\n",
    "                .WithDescription(\"Generate a joke.\")\n",
    "                .BuildAsync());\n",
    "}"
   ]
  },
  {
   "cell_type": "code",
   "execution_count": 4,
   "metadata": {
    "dotnet_interactive": {
     "language": "csharp"
    },
    "polyglot_notebook": {
     "kernelName": "csharp"
    }
   },
   "outputs": [],
   "source": [
    "#pragma warning disable SKEXP0101\n",
    "private async Task<IAgent> CreateBarJokesGeneratorAsync()\n",
    "{\n",
    "    // Initialize the outline agent\n",
    "    var cocktailGenerator = await CreateCocktailGeneratorAsync();\n",
    "    // Initialize the research agent\n",
    "    var jokeGenerator = await CreateJokeGeneratorAsync();\n",
    "\n",
    "    // Initialize agent so that it may be automatically deleted.\n",
    "    return\n",
    "        Track(\n",
    "            await new AgentBuilder()\n",
    "                .WithOpenAIChatCompletion(OpenAIFunctionEnabledModel, apiKey)\n",
    "                .WithInstructions(\"You are bartender that tells jokes to customers. Use cocktail generator given an ingredient. Write a joke related to each cocktail\")\n",
    "                .WithName(\"Bartender\")\n",
    "                .WithDescription(\"Bartender that tells cocktail jokes on a given ingredient.\")\n",
    "                .WithPlugin(cocktailGenerator.AsPlugin())\n",
    "                .WithPlugin(jokeGenerator.AsPlugin())\n",
    "                .BuildAsync());\n",
    "}"
   ]
  },
  {
   "cell_type": "code",
   "execution_count": 5,
   "metadata": {
    "dotnet_interactive": {
     "language": "csharp"
    },
    "polyglot_notebook": {
     "kernelName": "csharp"
    }
   },
   "outputs": [
    {
     "name": "stdout",
     "output_type": "stream",
     "text": [
      "[msg_CQFTw7OQH76FsEgMPiVaoO9i]\n",
      "# user: vodka\n",
      "[msg_hupsU0gBAaHXmjldQyUji7cQ]\n",
      "# assistant: Alright, here's a vodka-themed joke for each cocktail:\n",
      "\n",
      "1. Moscow Mule\n",
      "\"Why don't Moscow Mules ever get lost in Russia?\n",
      "Because they always follow the directions to the nearest 'Glas-gow'! 🍹😂\"\n",
      "\n",
      "2. Cosmopolitan\n",
      "\"Why don't astronomers like to get a Cosmopolitan magazine?\n",
      "Because every time they try to read one on their telescope breaks, the fashion advice is always 'star-studded' and 'other-worldly', and it's impossible to find a cocktail dress at the 'black hole' sales!\"\n",
      "\n",
      "3. White Russian\n",
      "\"Why did the White Russian cocktail apply for a job?\n",
      "Because it heard the bar was looking for a mixologist with good spirits and it was already half-vodka-ted for the position!\"\n",
      "\n",
      "Remember, drink responsibly, or you might end up the punchline of a joke like these! 😉\n"
     ]
    }
   ],
   "source": [
    "#pragma warning disable SKEXP0101\n",
    "try\n",
    "{\n",
    "    // Initialize the agent with tools\n",
    "    IAgent barJokesGenerator = await CreateBarJokesGeneratorAsync();\n",
    "\n",
    "    // \"Stream\" messages as they become available\n",
    "    await foreach (IChatMessage message in barJokesGenerator.InvokeAsync(\"vodka\"))\n",
    "    {\n",
    "        Console.WriteLine($\"[{message.Id}]\");\n",
    "        Console.WriteLine($\"# {message.Role}: {message.Content}\");\n",
    "    }\n",
    "}\n",
    "finally\n",
    "{\n",
    "    await Task.WhenAll(s_agents.Select(a => a.DeleteAsync()));\n",
    "}"
   ]
  },
  {
   "cell_type": "code",
   "execution_count": null,
   "metadata": {
    "dotnet_interactive": {
     "language": "csharp"
    },
    "polyglot_notebook": {
     "kernelName": "csharp"
    }
   },
   "outputs": [],
   "source": []
  }
 ],
 "metadata": {
  "kernelspec": {
   "display_name": ".NET (C#)",
   "language": "C#",
   "name": ".net-csharp"
  },
  "language_info": {
   "name": "polyglot-notebook"
  },
  "polyglot_notebook": {
   "kernelInfo": {
    "defaultKernelName": "csharp",
    "items": [
     {
      "aliases": [],
      "name": "csharp"
     }
    ]
   }
  }
 },
 "nbformat": 4,
 "nbformat_minor": 2
}
